{
  "cells": [
    {
      "cell_type": "markdown",
      "metadata": {
        "id": "9W5wuoAYySsk"
      },
      "source": [
        "# Import the modules"
      ]
    },
    {
      "cell_type": "code",
      "execution_count": null,
      "metadata": {
        "colab": {
          "base_uri": "https://localhost:8080/"
        },
        "id": "pDPSmSqjyVSk",
        "outputId": "f1625e23-6e69-41a7-d945-c9bc44bb33b0"
      },
      "outputs": [],
      "source": [
        "# !pip install langdetect\n",
        "# !pip install googletrans==4.0.0-rc1\n",
        "# !pip install tqdm\n",
        "# !pip install sentence-transformers"
      ]
    },
    {
      "cell_type": "code",
      "execution_count": 1,
      "metadata": {
        "id": "0XcV2a1Io3wc"
      },
      "outputs": [],
      "source": [
        "import re\n",
        "import nltk\n",
        "import pandas as pd\n",
        "from nltk.corpus import stopwords\n",
        "from nltk.tokenize import word_tokenize\n",
        "from nltk.stem import WordNetLemmatizer\n",
        "from sklearn.feature_extraction.text import TfidfVectorizer\n",
        "from sklearn.metrics.pairwise import cosine_similarity\n",
        "import numpy as np\n",
        "from langdetect import detect, DetectorFactory\n",
        "from langdetect.lang_detect_exception import LangDetectException\n"
      ]
    },
    {
      "cell_type": "code",
      "execution_count": 2,
      "metadata": {
        "colab": {
          "base_uri": "https://localhost:8080/"
        },
        "id": "L9qUGpmspOl2",
        "outputId": "f3afc33f-7f39-414f-c7b1-212238f5506e"
      },
      "outputs": [
        {
          "name": "stderr",
          "output_type": "stream",
          "text": [
            "[nltk_data] Downloading package stopwords to\n",
            "[nltk_data]     C:\\Users\\HP\\AppData\\Roaming\\nltk_data...\n",
            "[nltk_data]   Package stopwords is already up-to-date!\n",
            "[nltk_data] Downloading package punkt to\n",
            "[nltk_data]     C:\\Users\\HP\\AppData\\Roaming\\nltk_data...\n",
            "[nltk_data]   Package punkt is already up-to-date!\n",
            "[nltk_data] Downloading package wordnet to\n",
            "[nltk_data]     C:\\Users\\HP\\AppData\\Roaming\\nltk_data...\n",
            "[nltk_data]   Package wordnet is already up-to-date!\n"
          ]
        },
        {
          "data": {
            "text/plain": [
              "True"
            ]
          },
          "execution_count": 2,
          "metadata": {},
          "output_type": "execute_result"
        }
      ],
      "source": [
        "nltk.download('stopwords')\n",
        "nltk.download('punkt')\n",
        "nltk.download('wordnet')"
      ]
    },
    {
      "cell_type": "markdown",
      "metadata": {
        "id": "UeKxO0-BySsn"
      },
      "source": [
        "# Preprocessing"
      ]
    },
    {
      "cell_type": "code",
      "execution_count": 3,
      "metadata": {
        "id": "3uxMoIeNpqFh"
      },
      "outputs": [],
      "source": [
        "def preprocess_text(text):\n",
        "    \"\"\"\n",
        "    Preprocesses a given text by cleaning, tokenizing, removing stopwords, and lemmatizing.\n",
        "    \n",
        "    Parameters:\n",
        "    - text (str): The input text to preprocess.\n",
        "\n",
        "    Returns:\n",
        "    - str: The preprocessed text.\n",
        "    \"\"\"\n",
        "    if not isinstance(text, str):\n",
        "        return \"no meaningful text\"\n",
        "\n",
        "    # Convert to lowercase\n",
        "    text = text.lower()\n",
        "\n",
        "    # Remove non-alphanumeric characters (excluding spaces)\n",
        "    text = re.sub(r\"[^\\w\\s]\", \" \", text)\n",
        "\n",
        "    # Tokenize the text\n",
        "    tokens = word_tokenize(text)\n",
        "\n",
        "    # Stopword removal\n",
        "    stop_words = set(stopwords.words('english'))\n",
        "    if len(tokens) > 5:  # Only remove stopwords for longer texts\n",
        "        tokens = [word for word in tokens if word not in stop_words]\n",
        "\n",
        "    # Lemmatization\n",
        "    lemmatizer = WordNetLemmatizer()\n",
        "    tokens = [lemmatizer.lemmatize(word) for word in tokens]\n",
        "\n",
        "    # Join tokens back into a string\n",
        "    preprocessed_text = \" \".join(tokens)\n",
        "\n",
        "    # Return original text if preprocessing removes all meaningful content\n",
        "    if not preprocessed_text.strip():\n",
        "        return text  # Return original text\n",
        "\n",
        "    return preprocessed_text"
      ]
    },
    {
      "cell_type": "code",
      "execution_count": 4,
      "metadata": {
        "id": "0YB2yRPTrBVU"
      },
      "outputs": [],
      "source": [
        "dataset_path = r\"books_data/books.csv\"\n",
        "dataset = pd.read_csv(dataset_path)"
      ]
    },
    {
      "cell_type": "code",
      "execution_count": 5,
      "metadata": {
        "colab": {
          "base_uri": "https://localhost:8080/",
          "height": 573
        },
        "id": "VRH2EUf6y0Kd",
        "outputId": "5eb04234-fef9-455a-8b68-1b301c8e5620"
      },
      "outputs": [
        {
          "data": {
            "text/html": [
              "<div>\n",
              "<style scoped>\n",
              "    .dataframe tbody tr th:only-of-type {\n",
              "        vertical-align: middle;\n",
              "    }\n",
              "\n",
              "    .dataframe tbody tr th {\n",
              "        vertical-align: top;\n",
              "    }\n",
              "\n",
              "    .dataframe thead th {\n",
              "        text-align: right;\n",
              "    }\n",
              "</style>\n",
              "<table border=\"1\" class=\"dataframe\">\n",
              "  <thead>\n",
              "    <tr style=\"text-align: right;\">\n",
              "      <th></th>\n",
              "      <th>book_authors</th>\n",
              "      <th>book_desc</th>\n",
              "      <th>book_edition</th>\n",
              "      <th>book_format</th>\n",
              "      <th>book_isbn</th>\n",
              "      <th>book_pages</th>\n",
              "      <th>book_rating</th>\n",
              "      <th>book_rating_count</th>\n",
              "      <th>book_review_count</th>\n",
              "      <th>book_title</th>\n",
              "      <th>genres</th>\n",
              "      <th>image_url</th>\n",
              "    </tr>\n",
              "  </thead>\n",
              "  <tbody>\n",
              "    <tr>\n",
              "      <th>0</th>\n",
              "      <td>Suzanne Collins</td>\n",
              "      <td>Winning will make you famous. Losing means cer...</td>\n",
              "      <td>NaN</td>\n",
              "      <td>Hardcover</td>\n",
              "      <td>9.78044E+12</td>\n",
              "      <td>374 pages</td>\n",
              "      <td>4.33</td>\n",
              "      <td>5519135</td>\n",
              "      <td>160706</td>\n",
              "      <td>The Hunger Games</td>\n",
              "      <td>Young Adult|Fiction|Science Fiction|Dystopia|F...</td>\n",
              "      <td>https://images.gr-assets.com/books/1447303603l...</td>\n",
              "    </tr>\n",
              "    <tr>\n",
              "      <th>1</th>\n",
              "      <td>J.K. Rowling|Mary GrandPré</td>\n",
              "      <td>There is a door at the end of a silent corrido...</td>\n",
              "      <td>US Edition</td>\n",
              "      <td>Paperback</td>\n",
              "      <td>9.78044E+12</td>\n",
              "      <td>870 pages</td>\n",
              "      <td>4.48</td>\n",
              "      <td>2041594</td>\n",
              "      <td>33264</td>\n",
              "      <td>Harry Potter and the Order of the Phoenix</td>\n",
              "      <td>Fantasy|Young Adult|Fiction</td>\n",
              "      <td>https://images.gr-assets.com/books/1255614970l...</td>\n",
              "    </tr>\n",
              "    <tr>\n",
              "      <th>2</th>\n",
              "      <td>Harper Lee</td>\n",
              "      <td>The unforgettable novel of a childhood in a sl...</td>\n",
              "      <td>50th Anniversary</td>\n",
              "      <td>Paperback</td>\n",
              "      <td>9.78006E+12</td>\n",
              "      <td>324 pages</td>\n",
              "      <td>4.27</td>\n",
              "      <td>3745197</td>\n",
              "      <td>79450</td>\n",
              "      <td>To Kill a Mockingbird</td>\n",
              "      <td>Classics|Fiction|Historical|Historical Fiction...</td>\n",
              "      <td>https://images.gr-assets.com/books/1361975680l...</td>\n",
              "    </tr>\n",
              "    <tr>\n",
              "      <th>3</th>\n",
              "      <td>Jane Austen|Anna Quindlen|Mrs. Oliphant|George...</td>\n",
              "      <td>«È cosa ormai risaputa che a uno scapolo in po...</td>\n",
              "      <td>Modern Library Classics, USA / CAN</td>\n",
              "      <td>Paperback</td>\n",
              "      <td>9.78068E+12</td>\n",
              "      <td>279 pages</td>\n",
              "      <td>4.25</td>\n",
              "      <td>2453620</td>\n",
              "      <td>54322</td>\n",
              "      <td>Pride and Prejudice</td>\n",
              "      <td>Classics|Fiction|Romance</td>\n",
              "      <td>https://images.gr-assets.com/books/1320399351l...</td>\n",
              "    </tr>\n",
              "    <tr>\n",
              "      <th>4</th>\n",
              "      <td>Stephenie Meyer</td>\n",
              "      <td>About three things I was absolutely positive.F...</td>\n",
              "      <td>NaN</td>\n",
              "      <td>Paperback</td>\n",
              "      <td>9.78032E+12</td>\n",
              "      <td>498 pages</td>\n",
              "      <td>3.58</td>\n",
              "      <td>4281268</td>\n",
              "      <td>97991</td>\n",
              "      <td>Twilight</td>\n",
              "      <td>Young Adult|Fantasy|Romance|Paranormal|Vampire...</td>\n",
              "      <td>https://images.gr-assets.com/books/1361039443l...</td>\n",
              "    </tr>\n",
              "  </tbody>\n",
              "</table>\n",
              "</div>"
            ],
            "text/plain": [
              "                                        book_authors  \\\n",
              "0                                    Suzanne Collins   \n",
              "1                         J.K. Rowling|Mary GrandPré   \n",
              "2                                         Harper Lee   \n",
              "3  Jane Austen|Anna Quindlen|Mrs. Oliphant|George...   \n",
              "4                                    Stephenie Meyer   \n",
              "\n",
              "                                           book_desc  \\\n",
              "0  Winning will make you famous. Losing means cer...   \n",
              "1  There is a door at the end of a silent corrido...   \n",
              "2  The unforgettable novel of a childhood in a sl...   \n",
              "3  «È cosa ormai risaputa che a uno scapolo in po...   \n",
              "4  About three things I was absolutely positive.F...   \n",
              "\n",
              "                         book_edition book_format    book_isbn book_pages  \\\n",
              "0                                 NaN   Hardcover  9.78044E+12  374 pages   \n",
              "1                          US Edition   Paperback  9.78044E+12  870 pages   \n",
              "2                    50th Anniversary   Paperback  9.78006E+12  324 pages   \n",
              "3  Modern Library Classics, USA / CAN   Paperback  9.78068E+12  279 pages   \n",
              "4                                 NaN   Paperback  9.78032E+12  498 pages   \n",
              "\n",
              "   book_rating  book_rating_count  book_review_count  \\\n",
              "0         4.33            5519135             160706   \n",
              "1         4.48            2041594              33264   \n",
              "2         4.27            3745197              79450   \n",
              "3         4.25            2453620              54322   \n",
              "4         3.58            4281268              97991   \n",
              "\n",
              "                                  book_title  \\\n",
              "0                           The Hunger Games   \n",
              "1  Harry Potter and the Order of the Phoenix   \n",
              "2                      To Kill a Mockingbird   \n",
              "3                        Pride and Prejudice   \n",
              "4                                   Twilight   \n",
              "\n",
              "                                              genres  \\\n",
              "0  Young Adult|Fiction|Science Fiction|Dystopia|F...   \n",
              "1                        Fantasy|Young Adult|Fiction   \n",
              "2  Classics|Fiction|Historical|Historical Fiction...   \n",
              "3                           Classics|Fiction|Romance   \n",
              "4  Young Adult|Fantasy|Romance|Paranormal|Vampire...   \n",
              "\n",
              "                                           image_url  \n",
              "0  https://images.gr-assets.com/books/1447303603l...  \n",
              "1  https://images.gr-assets.com/books/1255614970l...  \n",
              "2  https://images.gr-assets.com/books/1361975680l...  \n",
              "3  https://images.gr-assets.com/books/1320399351l...  \n",
              "4  https://images.gr-assets.com/books/1361039443l...  "
            ]
          },
          "execution_count": 5,
          "metadata": {},
          "output_type": "execute_result"
        }
      ],
      "source": [
        "dataset.head()"
      ]
    },
    {
      "cell_type": "code",
      "execution_count": 7,
      "metadata": {
        "colab": {
          "base_uri": "https://localhost:8080/",
          "height": 206
        },
        "id": "O_UC7zJwzQuJ",
        "outputId": "b83ea6d9-ffb7-43aa-b83d-6b2fec25e8c2"
      },
      "outputs": [
        {
          "data": {
            "text/html": [
              "<div>\n",
              "<style scoped>\n",
              "    .dataframe tbody tr th:only-of-type {\n",
              "        vertical-align: middle;\n",
              "    }\n",
              "\n",
              "    .dataframe tbody tr th {\n",
              "        vertical-align: top;\n",
              "    }\n",
              "\n",
              "    .dataframe thead th {\n",
              "        text-align: right;\n",
              "    }\n",
              "</style>\n",
              "<table border=\"1\" class=\"dataframe\">\n",
              "  <thead>\n",
              "    <tr style=\"text-align: right;\">\n",
              "      <th></th>\n",
              "      <th>book_desc</th>\n",
              "      <th>book_title</th>\n",
              "    </tr>\n",
              "  </thead>\n",
              "  <tbody>\n",
              "    <tr>\n",
              "      <th>0</th>\n",
              "      <td>Winning will make you famous. Losing means cer...</td>\n",
              "      <td>The Hunger Games</td>\n",
              "    </tr>\n",
              "    <tr>\n",
              "      <th>1</th>\n",
              "      <td>There is a door at the end of a silent corrido...</td>\n",
              "      <td>Harry Potter and the Order of the Phoenix</td>\n",
              "    </tr>\n",
              "    <tr>\n",
              "      <th>2</th>\n",
              "      <td>The unforgettable novel of a childhood in a sl...</td>\n",
              "      <td>To Kill a Mockingbird</td>\n",
              "    </tr>\n",
              "    <tr>\n",
              "      <th>3</th>\n",
              "      <td>«È cosa ormai risaputa che a uno scapolo in po...</td>\n",
              "      <td>Pride and Prejudice</td>\n",
              "    </tr>\n",
              "    <tr>\n",
              "      <th>4</th>\n",
              "      <td>About three things I was absolutely positive.F...</td>\n",
              "      <td>Twilight</td>\n",
              "    </tr>\n",
              "  </tbody>\n",
              "</table>\n",
              "</div>"
            ],
            "text/plain": [
              "                                           book_desc  \\\n",
              "0  Winning will make you famous. Losing means cer...   \n",
              "1  There is a door at the end of a silent corrido...   \n",
              "2  The unforgettable novel of a childhood in a sl...   \n",
              "3  «È cosa ormai risaputa che a uno scapolo in po...   \n",
              "4  About three things I was absolutely positive.F...   \n",
              "\n",
              "                                  book_title  \n",
              "0                           The Hunger Games  \n",
              "1  Harry Potter and the Order of the Phoenix  \n",
              "2                      To Kill a Mockingbird  \n",
              "3                        Pride and Prejudice  \n",
              "4                                   Twilight  "
            ]
          },
          "execution_count": 7,
          "metadata": {},
          "output_type": "execute_result"
        }
      ],
      "source": [
        "dataset.drop(columns=['book_format', 'book_authors', 'book_edition', 'book_isbn','book_pages','book_rating','book_rating_count','book_review_count','genres','image_url'], inplace=True)\n",
        "dataset.head()"
      ]
    },
    {
      "cell_type": "code",
      "execution_count": 8,
      "metadata": {
        "colab": {
          "base_uri": "https://localhost:8080/"
        },
        "id": "mmKPgb57z4i-",
        "outputId": "9accd54d-917c-4866-fd69-4274222805e3"
      },
      "outputs": [
        {
          "data": {
            "text/plain": [
              "(54301, 2)"
            ]
          },
          "execution_count": 8,
          "metadata": {},
          "output_type": "execute_result"
        }
      ],
      "source": [
        "dataset.shape"
      ]
    },
    {
      "cell_type": "code",
      "execution_count": 9,
      "metadata": {
        "colab": {
          "base_uri": "https://localhost:8080/"
        },
        "id": "0CrMN6TA5oOn",
        "outputId": "6c0111d2-0f92-423e-8772-c988ceb69fa9"
      },
      "outputs": [
        {
          "name": "stdout",
          "output_type": "stream",
          "text": [
            "<class 'pandas.core.frame.DataFrame'>\n",
            "RangeIndex: 54301 entries, 0 to 54300\n",
            "Data columns (total 2 columns):\n",
            " #   Column      Non-Null Count  Dtype \n",
            "---  ------      --------------  ----- \n",
            " 0   book_desc   52970 non-null  object\n",
            " 1   book_title  54301 non-null  object\n",
            "dtypes: object(2)\n",
            "memory usage: 848.6+ KB\n"
          ]
        }
      ],
      "source": [
        "dataset.info()"
      ]
    },
    {
      "cell_type": "code",
      "execution_count": 10,
      "metadata": {
        "colab": {
          "base_uri": "https://localhost:8080/",
          "height": 175
        },
        "id": "PTd9UMGd7ora",
        "outputId": "f6e2dddf-7241-4e0e-a775-b71e33591d95"
      },
      "outputs": [
        {
          "data": {
            "text/html": [
              "<div>\n",
              "<style scoped>\n",
              "    .dataframe tbody tr th:only-of-type {\n",
              "        vertical-align: middle;\n",
              "    }\n",
              "\n",
              "    .dataframe tbody tr th {\n",
              "        vertical-align: top;\n",
              "    }\n",
              "\n",
              "    .dataframe thead th {\n",
              "        text-align: right;\n",
              "    }\n",
              "</style>\n",
              "<table border=\"1\" class=\"dataframe\">\n",
              "  <thead>\n",
              "    <tr style=\"text-align: right;\">\n",
              "      <th></th>\n",
              "      <th>book_desc</th>\n",
              "      <th>book_title</th>\n",
              "    </tr>\n",
              "  </thead>\n",
              "  <tbody>\n",
              "    <tr>\n",
              "      <th>count</th>\n",
              "      <td>52970</td>\n",
              "      <td>54301</td>\n",
              "    </tr>\n",
              "    <tr>\n",
              "      <th>unique</th>\n",
              "      <td>51781</td>\n",
              "      <td>48483</td>\n",
              "    </tr>\n",
              "    <tr>\n",
              "      <th>top</th>\n",
              "      <td>هذه هي طبعة \"دار الفكر - بيروت\" وهي آخر طبعة ع...</td>\n",
              "      <td>1984</td>\n",
              "    </tr>\n",
              "    <tr>\n",
              "      <th>freq</th>\n",
              "      <td>38</td>\n",
              "      <td>17</td>\n",
              "    </tr>\n",
              "  </tbody>\n",
              "</table>\n",
              "</div>"
            ],
            "text/plain": [
              "                                                book_desc book_title\n",
              "count                                               52970      54301\n",
              "unique                                              51781      48483\n",
              "top     هذه هي طبعة \"دار الفكر - بيروت\" وهي آخر طبعة ع...       1984\n",
              "freq                                                   38         17"
            ]
          },
          "execution_count": 10,
          "metadata": {},
          "output_type": "execute_result"
        }
      ],
      "source": [
        "dataset.describe()"
      ]
    },
    {
      "cell_type": "code",
      "execution_count": 11,
      "metadata": {
        "colab": {
          "base_uri": "https://localhost:8080/",
          "height": 147
        },
        "id": "b8kNuXin5opg",
        "outputId": "7c272601-a9a3-4af0-e940-d43f40be3376"
      },
      "outputs": [
        {
          "data": {
            "text/plain": [
              "book_desc     1331\n",
              "book_title       0\n",
              "dtype: int64"
            ]
          },
          "execution_count": 11,
          "metadata": {},
          "output_type": "execute_result"
        }
      ],
      "source": [
        "dataset.isnull().sum()"
      ]
    },
    {
      "cell_type": "code",
      "execution_count": 12,
      "metadata": {
        "colab": {
          "base_uri": "https://localhost:8080/"
        },
        "id": "Xo6vvNY1ySso",
        "outputId": "21a42201-3be6-451a-fc07-d625d3471c9f"
      },
      "outputs": [
        {
          "name": "stderr",
          "output_type": "stream",
          "text": [
            "C:\\Users\\HP\\AppData\\Local\\Temp\\ipykernel_3036\\1809128496.py:1: FutureWarning: A value is trying to be set on a copy of a DataFrame or Series through chained assignment using an inplace method.\n",
            "The behavior will change in pandas 3.0. This inplace method will never work because the intermediate object on which we are setting values always behaves as a copy.\n",
            "\n",
            "For example, when doing 'df[col].method(value, inplace=True)', try using 'df.method({col: value}, inplace=True)' or df[col] = df[col].method(value) instead, to perform the operation inplace on the original object.\n",
            "\n",
            "\n",
            "  dataset['book_desc'].fillna(dataset['book_title'], inplace=True)\n"
          ]
        }
      ],
      "source": [
        "dataset['book_desc'].fillna(dataset['book_title'], inplace=True)"
      ]
    },
    {
      "cell_type": "code",
      "execution_count": 13,
      "metadata": {
        "colab": {
          "base_uri": "https://localhost:8080/",
          "height": 147
        },
        "id": "VU0nfxCW0vDk",
        "outputId": "f73c64d2-4835-4f4c-b861-1d1a2d10774d"
      },
      "outputs": [
        {
          "data": {
            "text/plain": [
              "book_desc     0\n",
              "book_title    0\n",
              "dtype: int64"
            ]
          },
          "execution_count": 13,
          "metadata": {},
          "output_type": "execute_result"
        }
      ],
      "source": [
        "dataset.isnull().sum()"
      ]
    },
    {
      "cell_type": "code",
      "execution_count": 14,
      "metadata": {
        "colab": {
          "base_uri": "https://localhost:8080/"
        },
        "id": "7EgRtHpdySso",
        "outputId": "837a06cd-4a4d-4537-9d88-97844a173450"
      },
      "outputs": [
        {
          "data": {
            "text/plain": [
              "(48483, 2)"
            ]
          },
          "execution_count": 14,
          "metadata": {},
          "output_type": "execute_result"
        }
      ],
      "source": [
        "dataset = dataset.drop_duplicates(subset='book_title', keep='first').reset_index(drop=True)\n",
        "dataset = dataset.groupby('book_title', as_index=False).agg({\n",
        "    'book_desc': ' '.join  # Combine blurbs\n",
        "})\n",
        "dataset.shape"
      ]
    },
    {
      "cell_type": "code",
      "execution_count": 15,
      "metadata": {
        "colab": {
          "base_uri": "https://localhost:8080/",
          "height": 423
        },
        "id": "mhbEciiKySsp",
        "outputId": "8e46e34c-89f8-4002-de79-a067c79baf61"
      },
      "outputs": [
        {
          "data": {
            "text/html": [
              "<div>\n",
              "<style scoped>\n",
              "    .dataframe tbody tr th:only-of-type {\n",
              "        vertical-align: middle;\n",
              "    }\n",
              "\n",
              "    .dataframe tbody tr th {\n",
              "        vertical-align: top;\n",
              "    }\n",
              "\n",
              "    .dataframe thead th {\n",
              "        text-align: right;\n",
              "    }\n",
              "</style>\n",
              "<table border=\"1\" class=\"dataframe\">\n",
              "  <thead>\n",
              "    <tr style=\"text-align: right;\">\n",
              "      <th></th>\n",
              "      <th>book_title</th>\n",
              "      <th>book_desc</th>\n",
              "    </tr>\n",
              "  </thead>\n",
              "  <tbody>\n",
              "    <tr>\n",
              "      <th>0</th>\n",
              "      <td>\"Break the Casanova's Heart\" Operation</td>\n",
              "      <td>Operation Break the Casanova's Heart10 Steps t...</td>\n",
              "    </tr>\n",
              "    <tr>\n",
              "      <th>1</th>\n",
              "      <td>\"El Aleph\" de Jorge Luis Borges</td>\n",
              "      <td>De los muy pocos manuscritos que se conservan ...</td>\n",
              "    </tr>\n",
              "    <tr>\n",
              "      <th>2</th>\n",
              "      <td>\"Evil\" Arabs in American Popular Film: Orienta...</td>\n",
              "      <td>Runner-up, 2006 Arab American National Museum ...</td>\n",
              "    </tr>\n",
              "    <tr>\n",
              "      <th>3</th>\n",
              "      <td>\"Exterminate All the Brutes\": One Man's Odysse...</td>\n",
              "      <td>\"Exterminate All the Brutes\" is a searching ex...</td>\n",
              "    </tr>\n",
              "    <tr>\n",
              "      <th>4</th>\n",
              "      <td>\"Humanism - The Whore of Babylon and the Sleep...</td>\n",
              "      <td>���.., Awake thou that sleepest, and arise fro...</td>\n",
              "    </tr>\n",
              "    <tr>\n",
              "      <th>...</th>\n",
              "      <td>...</td>\n",
              "      <td>...</td>\n",
              "    </tr>\n",
              "    <tr>\n",
              "      <th>48478</th>\n",
              "      <td>동물 농장</td>\n",
              "      <td>영국 작가의 세계적인 장편소설. 인간에게 착취 당하던 동물들이 인간을 내쫓고 동물농...</td>\n",
              "    </tr>\n",
              "    <tr>\n",
              "      <th>48479</th>\n",
              "      <td>신의 탑 1</td>\n",
              "      <td>What do you desire? Fortune? Glory? Power? Rev...</td>\n",
              "    </tr>\n",
              "    <tr>\n",
              "      <th>48480</th>\n",
              "      <td>오만과 편견</td>\n",
              "      <td>Korean translation of \"Pride and Prejudice\"</td>\n",
              "    </tr>\n",
              "    <tr>\n",
              "      <th>48481</th>\n",
              "      <td>초조한 마음</td>\n",
              "      <td>인간 본성에 대한 분석이 돋보이는 츠바이크의 유일한 장편!세계적인 전기 작가이자 심...</td>\n",
              "    </tr>\n",
              "    <tr>\n",
              "      <th>48482</th>\n",
              "      <td>카탈루냐 찬가</td>\n",
              "      <td>비꽃 세계 고전문학 10권. &lt;1984&gt;가 ‘디스토피아 3대 걸작’ 가운데 하나라면...</td>\n",
              "    </tr>\n",
              "  </tbody>\n",
              "</table>\n",
              "<p>48483 rows × 2 columns</p>\n",
              "</div>"
            ],
            "text/plain": [
              "                                              book_title  \\\n",
              "0                 \"Break the Casanova's Heart\" Operation   \n",
              "1                        \"El Aleph\" de Jorge Luis Borges   \n",
              "2      \"Evil\" Arabs in American Popular Film: Orienta...   \n",
              "3      \"Exterminate All the Brutes\": One Man's Odysse...   \n",
              "4      \"Humanism - The Whore of Babylon and the Sleep...   \n",
              "...                                                  ...   \n",
              "48478                                              동물 농장   \n",
              "48479                                             신의 탑 1   \n",
              "48480                                             오만과 편견   \n",
              "48481                                             초조한 마음   \n",
              "48482                                            카탈루냐 찬가   \n",
              "\n",
              "                                               book_desc  \n",
              "0      Operation Break the Casanova's Heart10 Steps t...  \n",
              "1      De los muy pocos manuscritos que se conservan ...  \n",
              "2      Runner-up, 2006 Arab American National Museum ...  \n",
              "3      \"Exterminate All the Brutes\" is a searching ex...  \n",
              "4      ���.., Awake thou that sleepest, and arise fro...  \n",
              "...                                                  ...  \n",
              "48478  영국 작가의 세계적인 장편소설. 인간에게 착취 당하던 동물들이 인간을 내쫓고 동물농...  \n",
              "48479  What do you desire? Fortune? Glory? Power? Rev...  \n",
              "48480        Korean translation of \"Pride and Prejudice\"  \n",
              "48481  인간 본성에 대한 분석이 돋보이는 츠바이크의 유일한 장편!세계적인 전기 작가이자 심...  \n",
              "48482  비꽃 세계 고전문학 10권. <1984>가 ‘디스토피아 3대 걸작’ 가운데 하나라면...  \n",
              "\n",
              "[48483 rows x 2 columns]"
            ]
          },
          "execution_count": 15,
          "metadata": {},
          "output_type": "execute_result"
        }
      ],
      "source": [
        "dataset"
      ]
    },
    {
      "cell_type": "code",
      "execution_count": 16,
      "metadata": {
        "colab": {
          "base_uri": "https://localhost:8080/",
          "height": 147
        },
        "id": "Cj2yj3BV0IUS",
        "outputId": "c8fe2225-bc63-4acd-d3fb-597be942adf8"
      },
      "outputs": [
        {
          "data": {
            "text/plain": [
              "book_title    0\n",
              "book_desc     0\n",
              "dtype: int64"
            ]
          },
          "execution_count": 16,
          "metadata": {},
          "output_type": "execute_result"
        }
      ],
      "source": [
        "dataset.isna().sum()"
      ]
    },
    {
      "cell_type": "markdown",
      "metadata": {},
      "source": [
        "# Don't run"
      ]
    },
    {
      "cell_type": "code",
      "execution_count": 18,
      "metadata": {
        "id": "ulkb_YSaySsp"
      },
      "outputs": [],
      "source": [
        "import pandas as pd\n",
        "from time import sleep\n",
        "from langdetect import detect, DetectorFactory\n",
        "from googletrans import Translator\n",
        "from tqdm import tqdm\n",
        "import re\n",
        "import random\n",
        "\n",
        "# Ensure consistent language detection\n",
        "DetectorFactory.seed = 0\n",
        "\n",
        "def translate_non_english_rows(dataset, text_columns, retries=3, delay=2):\n",
        "    \"\"\"\n",
        "    Translates non-English rows in the specified text columns to English with retry mechanism and progress bar.\n",
        "    \"\"\"\n",
        "    translator = Translator()\n",
        "\n",
        "    def is_time_format(text):\n",
        "        \"\"\"Returns True if the text matches a time format (e.g., '3:59').\"\"\"\n",
        "        return bool(re.match(r\"^\\d{1,2}:\\d{2}$\", text))\n",
        "\n",
        "    def translate_text(text):\n",
        "        if not isinstance(text, str) or not text.strip():\n",
        "            return text  # Return original if text is None, empty, or invalid\n",
        "\n",
        "        # Skip numeric, time-like (e.g., \"3:59\"), or non-linguistic texts (e.g., dates, percentages)\n",
        "        if text.replace(\".\", \"\").replace(\"/\", \"\").isdigit() or \"%\" in text or is_time_format(text):\n",
        "            return text\n",
        "\n",
        "        if text.startswith(\"#\"):  # Skip hashtags\n",
        "            return text\n",
        "\n",
        "        # Adding check to skip None type or other invalid entries before translating\n",
        "        if text is None or text.strip() == \"\":\n",
        "            return text\n",
        "\n",
        "        for attempt in range(retries):\n",
        "            try:\n",
        "                lang = detect(text)\n",
        "                if lang != 'en':  # Detect language\n",
        "                    return translator.translate(text, dest='en').text\n",
        "                return text  # Return original if already in English\n",
        "            except Exception as e:\n",
        "                if attempt < retries - 1:\n",
        "                    sleep(delay * (2 ** attempt) + random.uniform(0, 2))  # Exponential backoff with jitter\n",
        "                else:\n",
        "                    print(f\"Translation failed for text: {text}\\nError: {e}\")\n",
        "                    return text  # Return original on repeated failure\n",
        "\n",
        "\n",
        "    # Combine the columns for translation\n",
        "    combined_columns = dataset[text_columns].apply(lambda row: ' '.join(row.values.astype(str)), axis=1)\n",
        "\n",
        "    # Apply the translation function with a progress bar\n",
        "    tqdm.pandas(desc=\"Translating texts\")\n",
        "    translated_combined = combined_columns.progress_apply(translate_text)\n",
        "\n",
        "    # Split the translated text back into the individual columns\n",
        "    translated_split = translated_combined.str.split(' ', n=1, expand=True)\n",
        "    dataset[text_columns[0]] = translated_split[0]\n",
        "    dataset[text_columns[1]] = translated_split[1]\n",
        "\n",
        "    return dataset"
      ]
    },
    {
      "cell_type": "code",
      "execution_count": 20,
      "metadata": {
        "colab": {
          "base_uri": "https://localhost:8080/"
        },
        "id": "SQgw2rSQySsp",
        "outputId": "6becfc71-184e-46b5-a084-276e1795b2ea"
      },
      "outputs": [
        {
          "name": "stderr",
          "output_type": "stream",
          "text": [
            "Translating texts:   5%|▍         | 2190/48483 [04:37<4:38:19,  2.77it/s]"
          ]
        },
        {
          "name": "stdout",
          "output_type": "stream",
          "text": [
            "Translation failed for text: Aisyah the True Beauty Sejarah mencatatkan, para sahabat banyak belajar berkenaan masalah agama dan hukum fikah daripada Aisyah. Ini kerana, pengetahuannya sangat luas dalam bidang itu. Aisyah menjadi sumber yang tidak diragukan dalam bidang ilmu pengetahuan, masalah agama serta Quran dan sunah. Di samping itu, beliau diketahui sangat berhati-hati semasa mengulas sebarang masalah peribadi. Di samping mengetahui banyak rahsia peribadi Nabi Muhammad, Aisyah juga mengisahkan banyak hadis yang didengarnya daripada beliau secara langsung.Buku ini adalah karya Sulaiman an-Nadawi, ulama terkemuka dari Universiti Nadwatul Ulama. Beliau adalah guru kepada Syeikh Abul Hasan Ali al-Hasani an-Nadawi. Keistimewaan buku ini terletak pada kajiannya berkenaan pengetahuan serta sejarah hidup Aisyah Ummul Mukminin. Aisyah adalah sumber rujukan intelektual para sahabat terkemuka.Sejarah mencatatkan, para sahabat banyak belajar berkenaan masalah agama dan hukum fikah daripada Aisyah. Ini kerana, pengetahuannya sangat luas dalam bidang itu. Aisyah menjadi sumber yang tidak diragukan dalam bidang ilmu pengetahuan, masalah agama serta Quran dan sunah. Di samping itu, beliau diketahui sangat berhati-hati semasa mengulas sebarang masalah peribadi. Di samping mengetahui banyak rahsia peribadi Nabi Muhammad, Aisyah juga mengisahkan banyak hadis yang didengarnya daripada beliau secara langsung.Di dalam buku ini, Sulaiman an-Nadawi mengupas kehidupan Aisyah, kedudukannya dalam bidang hadis dan fikah, pengetahuan agamanya, pandangannya dalam masalah hidup seharian, ke-istimewaan dan karakter peribadinya, serta pengetahuannya yang mendalam berkenaan hukum Islam.Selain itu, buku ini juga mengisahkan kecerdasan Aisyah, cintanya pada sunah Nabi Muhammad, cita-citanya dalam menerapkan sunah itu ke dalam hidup orang Islam daripada segala segi, baik bersifat peribadi mahupun daripada sudut sosial.Saya menghargai usaha penterjemah dan penerbit yang meng-hasilkan buku dalam bentuk yang menarik dan menawan ini. Saya berdoa supaya Allah menerima amal baik semua pihak yang terlibat dalam menerbitkannya. Saya berharap buku ini dapat menjadi penyumbang kepada akademik dan keagamaan yang besar nilainya di dunia dan akhirat serta menambah himpunan khazanah kesusasteraan Islam.Pengantar Penerbit Isi KandunganPengantar Bab 1 Sejarah Hidup Aisyah A. Mukadimah 1. Nama, Nama Timangan dan Keturunan Aisyah 2. Detik Kelahiran Aisyah 3. Aisyah Semasa Kecil B. Perkahwinan yang Direstui 1. Mahar Aisyah 2. Tarikh Perkahwinan Aisyah dengan Nabi Muhammad 3. Peristiwa Hijrah ke Madinah 4. Hidup Berumah Tangga Bersama Nabi Muhammad 5. Pengajaran daripada Perkahwinan Nabi Muhammad dengan Aisyah C. Aisyah di ‘Kolej’ Kenabian 1. Belajar dan Menuntut Ilmu 2. Rahsia Nabi Muhammad Berpoligami 3. Abu Bakar dalam Mendidik Anak-anak 4. Peranan Nabi Muhammad sebagai Guru Aisyah 5. Keadaan Rumah Aisyah dan Nabi Muhammad 6. Peruntukan Makanan untuk Isteri Nabi Muhammad Selepas Perang Khaibar 7. Peruntukan Keperluan Para Isteri Nabi Muhammad Semasa Pemerintahan Umar 8. Kehidupan Rumah Tangga Aisyah: Pandangan Islam pada Perempuan 9. Aisyah: Isteri yang Paling Dicintai 10. Sebab-sebab Nabi Muhammad Cintakan Aisyah 11. Nabi Muhammad: Suami Tercinta 12. Aisyah Cemburukan Isteri Nabi Muhammadyang Lain 13. Nabi Muhammad Berlemah Lembut dengan Aisyah 14. Perbualan Kosong Nabi Muhammad Bersama Aisyah 15. Makan Bersama Nabi Muhammad 16. Nabi Muhammad Melakukan PerjalananBersama Aisyah 17. Nabi Muhammad Berlumba Lari dengan Aisyah 18. Sikap Aisyah yang Manja 19. Aisyah Mencemburui Khadijah 20. Mengurus Rumah Tangga 21. Taat kepada Nabi Muhammad 22. Aisyah Dididik dengan Sifat Dermawan 23. Kehidupan Aisyah dalam Agama 24. Tugas Nabi Muhammad di Rumah D. Hubungan Aisyah dengan Isteri Nabi Muhammad yang Lain 1. Ummul Mukminim Aisyah dan Khadijah 2. Aisyah dan Saudah 3. Aisyah dan Hafshah 4. Aisyah dan Ummu Salamah 5. Aisyah dan Juwairiyah 6. Aisyah dan Zainab binti Jahsy 7. Aisyah dan Ummu Habibah 8. Aisyah dan Maimunah 9. Aisyah dan Shafiyah binti Huyai 10. Kisah antara Aisyah dan Fatimah E. Peristiwa Fitnah dan Syariat Tayamum 1. Haditsul Ifki: Khabar Angin dan Fitnah 2. Kisah Tayamum F. Peristiwa Tahrîm, Îlâ` dan Takhyîr 1. Peristiwa Pengharaman (Tahrim) 2. Membetulkan Beberapa Kesilapan Tafsiran 3. Peristiwa Berpisah Sementara 4. Peristiwa Takhyir iaitu Memberi Kata Dua G. Nabi Muhammad Meninggal Dunia 1. Alasan Nabi Muhammad Memilih Rumah Aisyah 2. Mimpi Aisyah H. Kehidupan Aisyah Selepas Nabi Muhammad Meninggal Dunia 1. Zaman Pemerintahan Abu Bakar as-Siddiq 2. Abu Bakar Meninggal Dunia 3. Zaman Pemerintahan Umar bin Khattab 4. Zaman Pemerintahan Utsman bin Affan I. Peristiwa Fitnah dan Perang Jamal 1. Ibnu Saba’ Masuk Islam 2. Utsman Terbunuh dan Ali Dilantik Menjadi Khalifah 3. Zaman Pemerintahan Ali Bin Abu Talib 4. Usaha Memulihkan Keadaan dan Tanggungjawab Wanita Islam 5. Aisyah ke Basrah 6. Kisah Air Hau’ab dan Niat Aisyah Hendak Pulang 7. Keadaan Orang Islam di Kufah 8. Ucapan Aisyah di Basrah 9. Surat Aisyah kepada Penduduk Kufah 10. Peperangan Jamal 11. Usaha Damai Qa’qa’ 12. Talhah dan Zubair Gugur 13. Unta Aisyah Dilumpuhkan 14. Penghormatan Ali kepada Aisyah 15. Kesalan Aisyah atas Kesilapan Ijtihadnya 16. Hubungan Ali dengan Aisyah 17. Bantahan Imam Zuhri pada Pendapat Walidbin Abdul Malik 18. Aisyah Menyuruh Orang Ramai Meminta Pendapat AliJ. Zaman Pemerintahan Mu’awiyah 1. Pendapat Aisyah Berkenaan Khawarij 2. Peristiwa Pengebumian Hasan bin Ali K. Aisyah Meninggal DuniaBab 2 Karakter dan Keistimewaan Aisyah A. Karakter Aisyah 1. Ciri-ciri Fizikal dan Pakaiannya 2. Akhlaknya 3. Membantu Kaum Wanita 4. Taat kepada Suami 5. Tidak Pernah Mengumpat 6. Enggan Menerima Pemberian Orang Lain 7. Tidak Rela Dipuji 8. Maruah Serta Keras Hati 9. Berani dan Tabah10. Pemurah dan Lembut Hati 11. Ibadah 12. Perkara Remeh-temeh 13. Berlemah Lembut dengan Budak Suruhandan Pelayan 14. Menghulurkan Bantuan Sesuai dengan Kedudukan yang Meminta 15. Kain Tudung B. Keistimewaan Aisyah Bab 3 Biografi Intelektual Aisyah A. Pengantar B. Pengetahuan Aisyah berkenaan Quran Bacaan Quran yang Menyimpang Dikaitkan dengan Aisyah C. Pengetahuan Aisyah berkenaan Hadis Nabi Muhammad 1. Kedudukan Aisyah Antara Semua Isteri Nabi Muhammad 2. Hubungan Aisyah dengan Sahabat-Sahabat Terkemuka 3. Kedudukan Aisyah Antara Pelapor Hadis Terbanyak 4. Jumlah Hadis yang Dikisahkan Aisyah 5. Antara Kisah yang Diceritakan dan Pemahaman 6. Kebaikan dan Alasan Hukum Syariat 7. Ketelitian Aisyah dalam Mengisahkan Hadis 8. Prinsip Pegangan Semasa Pembetulan Hadis 9. Himpunan dan Proses Mengekod Hadis-hadis yang Dikisahkan Aisyah D. Pengetahuan Aisyah dalam ilmu Fikah dan Qiyas 1. Quran adalah Sumber Hukum Pertama 2. Sunah sebagai Sumber Hukum Kedua 3. Rumusan Hukum Melalui Qiyas 4. Pembahagian Sunah Nabi Muhammad 5. Perbezaan Pendapat Aisyah dengan Merekayang Hidup pada Zamannya E. Pengetahuan Aisyah dalam Ilmu Tauhid dan Akidah 1. ‘Tangan’ dan ‘Anggota Tubuh’ Allah 2. Melihat Allah 3. Pengetahuan berkenaan Perkara Ghaib 4. Pernahkah Nabi Muhammad Menyembunyikan Wahyu? 5. Para Nabi Bebas daripada Dosa 6. Mikraj Spiritual 7. Integriti Moral Para Sahabat 8. Urutan Khalifah Selepas Nabi Muhammad Meninggal Dunia 9. Bolehkah Orang yang Sudah Meninggal Mendengar? F. Pengetahuan Aisyah Berkenaan Rahsia Syariat 1. Urutan Turunnya Ayat Quran 2. Rahsia Kejayaan Dakwah Islam di Madinah 3. Mandi pada Hari Jumaat 4. Mengqasarkan Sembahyang 5. Larangan Sembahyang Selepas Subuh dan Asar 6. Sembahyang Duduk 7. Sembahyang Maghrib Tiga Rakaat 8. Sembahyang Subuh Dua Rakaat 9. Disyariatkan Puasa Asyura pada 10 Muharam 10. Nabi Muhammad Berhenti Sembahyang Tarawih dalam Bulan Ramadan 11. Hakikat Ibadah Haji 12. Berhenti di Lembah Muhashshab 13. Larangan Menyimpan Daging Korban Melebihi Tiga Hari 14. Hijr Ismail dan Pembinaan Kaabah 15. Bertawaf dengan Menunggang Haiwan 16. Hakikat Hijrah 17. Pengebumian Nabi Muhammad di Rumah Aisyah G. Pengetahuan Aisyah dalam Ilmu Perubatan, Sejarah, Pidato dan Syair 1. Ilmu Perubatan 2. Ilmu Sejarah 3. Keindahan dan Kehalusan Kata-kata Aisyah 4. Pandai Berpidato 5. Syair Bab 4 Aisyah Mendidik, Memberi Fatwa dan Membimbing Orang Islam A. Aisyah dan Praktik Mengajar 1. Urwah bin Zubair 2. Qasim bin Muhammad bin Abu Bakar 3. Abu Salamah bin Abdurrahman bin Auf 4. Masruq bin Ajda’ bin Malik al-Kufi 5. Amrah binti Abdurrahman bin As’ad bin Zurarah al-Anshariyah al-Madaniyah 6. Shafiyyah binti Syaibah 7. Kaltsam binti Amr al-Quraisyiyah 8. Aisyah binti Talhah 9. Mu’adzah binti Abdullah al-Adawiyah B. Aisyah dan Memberi Fatwa Hukum 1. Klasifikasi Para Sahabat yang Memberikan Fatwa 2. Fatwa-fatwa Aisyah Semasa Zaman Khalifah Rasyidin C. Aisyah Membimbing dan Mengarah Umat Islam Bab 5 Jasa Aisyah kepada Kaum Perempuan A. Aisyah Memperjuangkan Hak-hak WanitaB. Kedudukan Aisyah Berbanding Wanita Lain di Dunia\n",
            "Error: the JSON object must be str, bytes or bytearray, not NoneType\n"
          ]
        },
        {
          "name": "stderr",
          "output_type": "stream",
          "text": [
            "Translating texts:   5%|▍         | 2240/48483 [05:03<8:25:01,  1.53it/s]"
          ]
        },
        {
          "name": "stdout",
          "output_type": "stream",
          "text": [
            "Translation failed for text: Al Muwaththa’ Jilid 2 Penulis : Imam Malik bin AnasPenerbit : Pustaka AzzamBiografi Imam MalikSejak lahir diberi nama “Malik” putra Anas Ibnu Malik (panggilan sehari-harinya Abu ‘Amir) al-Ashbahi (nama dinasti raja-raja yang pernah bertahta di Yaman) al-Himyari. Datuk Imam Malik tergolong sahabat besar, reputasi kemiliterannya mencakup seluruh ghazwah yang dipimpin langsung oleh Nabi/Rasulullah SAW selain perang Badar. Anas ayah kandungnya tergolong tabi’in sendor. Beliau adalah seorang di antara keempat pemikul keranda jenazah Khalifah Utsman bin Affan pada malam pemakamannya.Malik dilahirkan pada tahun 93 hijrah dari rahim Ibu yang mengandungnya selama 3 (tiga) tahun. Imam Malik kelak akan dikenal dengan sebutan “Imamu Daril-hijrah”, lantaran lahir dan meninggal serta aktif mengabdikan seluruh karier keulamaannya di Madinah tempat hijrah Rasulullah SAW. Beliau wafat pada tanggal 11 Rabi’ul-awal 179 H. dalam usia 87 tahun yang sebagian besar masa hidupnya (60 tahun) difungsikan pada maqam ifta’ dan ijtihad di Madinah. Rasa mahabbah kepada Rasulullah SAW sudah sedemikian melekat sehingga seperti dinyatakan oleh Imam Malik tidak sekali aku tidur pada malam hari kecuali aku bermimpi melihat Rasulullah SAW.Khazanah ilmu Imam Malik seluruhnya diperoleh melalui ulama-ulama Madinah, termasuk di dalamnya Zaid Ibnu Aslam, Nafi’ Maula Abdullah Ibnu Umar, Syuraik Ibnu Ubdillah, Ibnu Syhihab al-Zuhri, Sa’id al-Maqburi dan Na’im al-Mujmir. Ada juga Ibnu Malik menimba ilmu pengetahuan keislaman dari ulama yang berasal dari luar Madinah, semisal Abu al-Zubar dari Makkah, Humaid al-Thawil dan Ayub al-Syakhtiyani dari Basrah, Atha’ Ibnu Abi Rabah dari Khurasan, Abdul Karim dari Jazirah dan Ibrahim Ibnu Ablah dari Syam/Syiria. Proses pemantapan ilmu Imam Malik dicapai antara lain melalui aktivitas tukar menukar informasi keilmuan dengan ulama seperiode beliau, seperti Yahya Ibnu Said al-Qathan, al-Auza’i, Sufyan al-Tsauri, Sufyan Ibnu ‘Uyainah, Laits Ibnu Sa’ad dan Ibnu Juraij.Murid asuhan Imam Malik sebagian menjadi ulama terkenal seperti Abdullah Ibnu al-Mubarak, Abd. Rahman al-Mahdi, Imam Muhammad Ibnu Idris al-Syafi’i, Abu Ishaq al-Fazari dan lain-lain. Sebagian murid lainnya kelak menjadi pejabat teras, seperti Abu Ja’far al-Manshur, Harus al-Rasyid dan kedua putera beliau al-Ma’mun dan al-Amin. Sementara sejarawan memasukkan al-Mahdi dan al-Hadi sebagai murid Imam Malik juga. Seorang bekas murid asuhan beliau kelak menjadi sufi kenamaan, yaitu Dzun-Nun al-Mishri.Kitab al-Muwaththa’Bermodal perbendaharaan hadis sekitar 100.000 di tempuh proses penapisan yang menyita waktu 40 tahun dan setelah dikonsultasikan kepada 70 orang ulama hadis/fiqh yang berdomisili di Madinah, berkesedahan dengan kemantapan Imam Malik untuk membukukan 1.700 buah hadis dalam al-Muwaththa’. Jumlah tersebut menurut perhitungan Abu Bakar al-Abhari terdiri atas perpaduan hadis marfu’ dengan perincian sebagai berikut :a. 600 hadis musnad, termasuk di dalamnya 132 hadis bersanad silsilatul-zahab/asshhul-asanid ;b. 222 hadis mursal ;c. 613 hadis mauquf dand. 285 qaul tabi’in.Keberagaman latar belakang mutu sanad hadis-hadis yang dimuat dalam koleksi al-Muwaththa’ agaknya selaras dengan sikap ulama hadis saat itu amat memberi kelonggaran terhadap sanad yang inqita’ (menunjuk keterputusan) sehingga berakibat adanya hadis mursal, mu’dhal dan munqathi. Penghargaan tinggi terhadap atsar shahabi, tutur nasehat yang puitis (baaghiah) dari kalangan tokoh tabi’in ikut mempengaruhi proses pemuatan informasi non hadis itu di dalam al-Muwaththa’.Teramat mudah agaknya bila seorang mencurigai keter putusan sanad dalam al-Muwaththa’, sebab dibanyak tempat ada penegasan Imam Malik “balaghani”tanpa menyebut terus terang nara sumbernya, demikian pula suatu hadis di infor masikan dari seorang tsiqah tanpa dilengkapi dengan nama orang tersebut.Edisi al-Muwaththa bermacam-macam dengan sistematika beragam dan yang paling populer adalah format Sulaiman Ibnu Khalaf al-Baji (wafat 474 H). Format dan sistematika al-Muwaththa’ bisa demikian tersebab oleh faktor personalia perawi yang mendapat perkenan dalam memasyarakat kan al-Muwaththa’ mencapai 993 orang. Salah seorang yang terpandang sebagai perawi paling akurat adalah Abdullah Ibnu Maslamah al-Qa’nabi yang belakangan dikenal sebagai guru hadis Imam Muslim.Sistematika al-Muwaththa’ yang kini beredar di tengah-tengah masyarakat mempertahankan tata urutan sebagai berikut :1) Hadis-hadis musnad/mursal dengan memperioritaskan hadis eks riwayat Ulama Hijaz ;2) Keputusa/penetapan hukum (qadhaya) Umar Ibnu Khattab ;3) Tradisi amal perbuatan Abdullah Ibnu Umar ;4) Seleksi qaul atau fatwa tokoh-tokoh tabi’in dan5) Perilaku keagamaan penduduk Madinah.Pola penyajian hadis nabawi diiringi kemudian dengan qaul sahabat dan fatwa tabi’in dikandung maksud bahwa fatwa dan qaul tersebut difungsikan sebagai penjelas langsung terhadap hadis nabawi setempat. Oleh karenanya betapa tampaknya sebuah riwayat sekilas mursal, namun tidak sulit menemukan hadis yang mendukungnya.Perhatian khusus diberikan kepada qadhaya (keputusan/penetapan hukum) Umar Ibnu Khathab dimotifisir oleh gagasan atas ra’yu Umar banyak sejalan dengan wahyu khususnya wahyu al-Qur’an, lagi pula dalam setiap proses menjatuhkan keputusan hukum/penetepan hukum beliau senantiasa melibatkanAhlu Syura yang terdiri atas sahabat senior, seperti Utsman Ibnu Affan, Ali Ibnu Abi Thalib, Thalhah, Zubair Ibnu ‘Awwam, Saad Abd. Rahman Ibnu ‘Auf dan lain-lain. Perihal ‘amaliah Abdullah Ibnu Umar dalam al-Muwaththa’ dirangsang oleh pengakuan terbuka para sahabat senior betapa Ibnu Umar itu dikenal amat disiplin (istiqamah), figur teladan serta kokoh semangat upayanya dalam melestarikan nilai-nilai keaslian atsar.Seleksi qaul/fatwa tabi’in berikut perilaku (amal) penduduk Madinah mewarnai koleksi al-Muwaththa’ atas dasar kota Madinah beserta penduduknya merupakan proto type masyarakat muslim yang menjadi pilot proyek pencontohan sejak dikelola langsung oleh kepemimpinan Rasulullah SAW, Khulafaur-rasyidin dan sesudah periode mereka para tabi’inlah yang menggantikan fungsi umat dalam mencari rujukan fatwa.Koleksi hadis dalam al-Muwaththa’ lebih ditekankan pada hadis bermateri hukum yang bervariasi hampir seluruh bab-bab dalam sub disiplin ilmu fiqh, bahkan sebagian ulama (seperti Ibnu Hamz) kitab tersebut dianggap sebagai kodifikasi fiqh terpadu dengan hadis. Anggapan tersebut cukup punya latar belakang alasan, antara lain :Al-Muwaththa’ memuat dalam jumlah besar qaul shahabi, fatwa mereka dan fatwa ulama generasi tabi’in. Fatwa lebih dekat pada sifat penghayatan religious, sedangkan hadis butuh fakta historis yang terdiri atas informasi doktrin yang bersifat absolut ;Ulama dan penganut madzhab Maliki telah menjadi kan al-Muwaththa’ sebagai referensi utama faham fiqh mereka. Lebih-lebih dalam al-Muwaththa’ tersajikan banyak informasi tentang perilaku (konvensi) penduduk Madinah, hal itu lebih menonjolkan unsur fiqh amali;Khalifah Abu Ja’far al-Manshur dan harun al-Rasyid pernah mendesak agar al-Muwaththa’ diperlakukan sebagai konstitusi negara, betapa kemudian Imam Malik menyatakan keberatan terhadap gagasan tersebut ;Di sela-sela penyajian hadis bisa didapati fatwa hukum yang sengaja diketengahkan oleh Imam Malik atau fatwa ulama mujahid dari generasi tabi’in.Perihal nama “al-Muwaththa’” yang terpasang pada koleksi hadis-hadis Imam Malik berasal dari sikap kecoco kan/persetujuan 70 ulama Madinah yang menjadi konsultan beliau terhadap mutu koleksi tersebut dan nyatanya mudah diterima masyarakat.\n",
            "Error: the JSON object must be str, bytes or bytearray, not NoneType\n"
          ]
        },
        {
          "name": "stderr",
          "output_type": "stream",
          "text": [
            "Translating texts:   7%|▋         | 3236/48483 [07:31<4:59:09,  2.52it/s]"
          ]
        },
        {
          "name": "stdout",
          "output_type": "stream",
          "text": [
            "Translation failed for text: Araf Yalnızlık, yabancılık, dil ve zaman üzerine bir roman...Kim gerçek yabancı - bir ülkede yaşayıp başka bir yere ait olduğunu bilen mi, yoksa kendi ülkesinde yabancı hayatı sürüp, ait olacak başka bir yeri de olmayan mı?İsimlerin yabancı memleketlere ayak uydurma sürecinde muhakkak bir şeyler eksilir - bazen bir nokta, bazen bir harf ya da vurgu. Yabancının isminin başına gelenler pişmiş tavuğun olmasa da pişmiş ıspanağın başına gelenlere benzer - ana malzemeye yeni bir tat eklenmesine eklenmiştir de kalıpta gözle görülür bir çekme olmuştur bu arada. Yabancı işte ilk bu fireyi vermeyi öğrenir. Yabancı bir ülkede yaşamının birinci icabı insanın en aşina olduğu şeye, ismine yabancılaşmasıdır.(Arka Kapak)\"Ne hoş tesadüf,\" dedi Debra zoraki bir neşeyle, \"çok sevindim. Ne kadar iyi bir ahçı olduğunu biliyorum.\" Değişik bir hali vardı, okuma grubundakinden çok daha kendine güvenli görünüyordu. \"Senin için bir sakıncası yoksa çalışmaya hemen başlayalım, zaman geçiyor ve hiçbir şey hazır değil.\"Alegre'yi soktuğu çivit mavisi mutfak duvardan duvara paketler, kutular, konserve kutuları ve kavanozlarla doluydu, gıda, gıda, gıda. Misafirlerin yediden sonra gelecekleri ve büyük olasılıkla sekiz buçuk civarında kurt gibi acıkacakları söylendi. Toplam yirmi iki kişi bekleniyordu. \"Biz de iki kişiyiz. Doyuracak yirmi dört boğaz eder. Ne dersin? Başarabilir miyiz?\"Ama çok geçmeden ortaya çıkacağı üzre \"biz\" diye bir şey yoktu. Sadece Alegre vardı. Kendi ahçılık tarihinde bu kadar kısa sürede, bu kadar çok insan için bu kadar çok yemek pişirdiği olmamıştı hiç. Yine de yiyecek konusunda kendisine böyle muhtaç olunması sinirlerini yatıştırmış olacaktı çünkü kendini bu işin altından kalkmaya tamamen muktedir hissediyordu. O malzemeleri incelerken Debra Ellen Thompson da onu inceleyecek vakit buldu. Alegre'nin değişik bir hali vardı şimdi, okuma grubunda olduğundan daha az ürkekti.Gerçekten de kendinden emindi Alegre, hatta Debra nihayet mutfak kapısının öteki tarafındaki sürekli mızıldanan kadın sesinin yardımına koşup onu mutfakta yalnız bıraktığında kendine güveni iyice artacaktı; dışarıdan gelen sese bakılırsa biri oturma odasını akşam için derleyip toplamaya çalışıyor ama aslında bu işi yapmak istemiyordu, hem de hiç. Alegre mutfakta tek başına kalınca oturma odasında olanları hiç merak etmedi, tıpkı evin geri kalanıyla ya da misafirlerin nasıl insanlar olduklarıyla ilgilenmediği gibi. O olmak istediği yerdeydi: mutfakta. Başka birine ait olsa da onun mutfağıydı burası artık. Tek bilmek istediği tam olarak ne pişirmesinin istendiğiydi. Ama kimse bu konuyu açıklığa kavuşturmak için gelmedi. Onun yerine içeri komik, basık burunlu, aşırı uzun tüylü, duman grisi tombul bir kedi girdi ihtişamla, hemen onun arkasından da ne işler karıştırdığını anlamak için yine aynı türden, tekir ve belki daha az mağrur bir başka kedi geldi. Evsahiplerinin ona nasıl bir menü istedikleri konusunda ipucu verecek kadar sorumlu davranmasını beklemekten ve kedileri seyretmekten sıkılan Alegre bu yiyecek gemisinin tek kaptanının kendisi olduğuna ve karar vermenin de kendisine düştüğüne kanaat getirdi. Buzdolabında bulduğu keçi peynirini pidelerin üzerine ufaladı. Dolaplarda bir sürü ton balığı konservesi buldu ve bunlardan bol bol şehriyeli ton balığı fettuccine yaptı. Buzluktaki kıyma çabucak köfteye dönüştü; tezgâhın üzerindeki lahana barbunyalı lahana salatası oldu; artık mısırların bir kısmı puding, geri kalanı mısırlı kabak sotesi halini aldı. Patatesler her zamanki gibi fazlasıyla işe yaradı. Alegre onları haşladı, kızarttı, fırınladı, ezdi, üzerlerine çeşit çeşit baharatlarla soslar döktü. Geri kalanları domuz pastırması ve peynirle doldurdu. Dolaplarda bulduğu tako soslarının hiçbirini fazla tutmasa da tavuklu burritos doldurdu. Fıstıklı banma sosu ve tavuk ciğerli börek hazırladı. Bildik aperitifleri sıraladı – sarımsak soslu karides, söğüş salata ve peynirler. İki koca kâse cevizli Sezar salatası ve birilerinin bütün bunlara rağmen aç kalması ihtimaline karşı yirmi dört tane hindili klüp sandvici yan yana dizdi. Geri kalan yumurtalarla limon suyunu limon kremalı turta yapmakta kullandı. Buzdolabında gördüğü yığın yığın muzla da muzlu turta yapmayı planlıyordu ki, yorgunluktan bitkin düştüğü için oturup biraz dinlenmesi gerekti.Bu yiyeceklerin hiçbirini değil yemek tatmak dahi istemiyordu. Çantasını dolduran kırmızı greyfurtları çıkardı ve çiğnerken hesaba başladı: 11 kırmızı greyfurt, her biri 70 kalori, toplamda 910 kalori!\"Şu hale bak, inanamıyorum!\" Debra Ellen Thompson iki küsur saattir adımını atmadığı mutfağa girdiğinde bağırmaktan kendini alamamıştı. Tezgâhın üzerindeki her yemeğin karşısında konuk selamlar gibi tek tek saygıyla durdu. \"Tanrım, ne diyeceğimi bilemiyorum. Muhteşem bir iş çıkarmışsın. Bu müthiş! Müthiş!\"Ama kendisi \"müthiş! müthiş!\" görünmüyordu hatta \"müthiş!\" bile görünmüyordu. Daha ziyade saatlerdir ağlıyormuş gibi görünüyordu.\"Sen iyi misin?\" diye sordu Alegre kaşla göz arasında greyfurt kabuğu yığınını ortadan kaldırarak.\"Evet... aslında hayır... ev arkadaşımın canı son zamanlarda çok sıkkındı, onu neşelendirmek için mutfağı çivit mavisine boyadım... en sevdiği renk... ama pek işe yaramadı, sonra bir parti vermenin iyi bir fikir olacağını düşündüm ama ne kadar salaklık ettiğimi şimdi anlıyorum... bu kalabalık ona iyi gelmeyecek.\"Alegre ona, ev arkadaşını mutlu etmesinin neden bu kadar önemli olduğunu sormak istedi ama birden bu yorumun fazlasıyla Connie-vari olacağını hissetti. Hem gerçekten de çene çalacak zaman değildi. Misafirler gelmeye başlamışlardı bile.Bütün tepsilerle tabaklar oturma odasına taşındıktan sonra Alegre mutfakta yine yalnız kaldı. İçeri girip insanlarla tanışacağına ve onlarla birlikte yiyeceğine söz vermişti Debra'ya ama son anda yan çizeceğini gayet iyi biliyordu. Mutfağı toplamayı, tezgâhı temizlemeyi, çöpleri atmayı, birkaç tava ovmayı tercih etti. Sonra içerideki seslerin dingin bir müzik çeşitlemesine, neşeli sohbetlere, hafif şakalara, şen gaflara çoğalmasını dinleyerek üç greyfurt daha yedi, 210 kalori daha; giderek değişti sesler, ara sıra sinirli alaylar, aksi atışmalar da çalınıyordu kulağa. Derken bir yerlerden davul sesleri yükseldi ve fonda çalınan müzik aniden hızlandı. İçerdeki herkes aynı anda dans etmeyi zıplamakla, zıplamayı da tepinmek ve hoplamakla karıştırmaya karar vermişçesine zangır zangır sarsılmaya başladı ev.\n",
            "Error: the JSON object must be str, bytes or bytearray, not NoneType\n"
          ]
        },
        {
          "name": "stderr",
          "output_type": "stream",
          "text": [
            "Translating texts:  38%|███▊      | 18337/48483 [49:09<21:33:37,  2.57s/it]"
          ]
        },
        {
          "name": "stdout",
          "output_type": "stream",
          "text": [
            "Translation failed for text: Kopassus untuk Indonesia Menyamar Pedagang Durian hingga Sniper AmbonIsi buku Kopassus untuk Indonesia yang diluncurkan Kopassus TNI-AD tak sembarangan. Buku dengan desain gaul itu membuka rahasia dapur korps terbaik ketiga di dunia itu, termasuk operasi intelijen bawah tanah. Seperti apa?RIDLWAN HABIB, JakartaWANITA itu bukan tentara. Gaya pakaiannya juga santai. Turun dari mobil New Honda City metalik, dia disambut hormat oleh prajurit Kopassus. “Mbak Esti ini sudah kami anggap bagian dari keluarga,” kata Letkol Farid Makruf yang menyambut Esti di Markas Komando Kopassus, Cijantung, Jakarta Timur Kamis lalu (7/1).Siang itu suasana sekitar Kesatrian Kopassus agak lengang. Sebab, pada jam dinas, semua prajurit sibuk dengan tugas masing-masing. “Sebelum mengenal mereka, saya benar-benar awam dengan dunia militer,” kata Esti yang sengaja berkunjung ke Kopassus untuk menemui Jawa Pos.Nama lengkapnya Erastiani Asikin Natanegara. Bersama penulis lain, Iwan Santosa, mereka diberi kepercayaan penuh oleh Komandan Jenderal (Danjen) Kopassus untuk menulis buku yang mulai beredar tiga minggu lalu itu.“Buku ini adalah buku resmi Kopassus pertama yang ditulis sipil dan untuk umum,” kata Letkol Farid yang ikut berbincang. Farid adalah alumnus Akmil 1991 yang juga menjadi salah satu narasumber buku. Mantan kepala staf pribadi (Kaspri) Danjen Kopassus itu juga menjadi anggota tim penyusun buku bersama 16 orang lainnya.Menurut Farid, Kopassus sengaja meminta orang luar agar tulisannya objektif. “Mbak Esti ini mulai nul puthul. Kita memang buka apa adanya. Kalau mau ditulis jelek, ya tulis saja,” kata perwira asal Pulau Madura itu.Isi buku setebal 345 halaman itu memang blak-blakan. Misalnya, cerita seorang anggota Sandhi Yudha Kopassus yang bertugas sebagai intelijen Kopassus saat masa darurat militer di Aceh pada 2003. Sersan Badri (nama samaran, Red) bertugas untuk masuk ke lingkaran utama Gerakan Aceh Merdeka.Untuk menyukseskan misinya, Badri harus menyamar sebagai pedagang durian dari Medan. Berselang setahun, sendirian, Badri menembus akses untuk mendapat kepercayaan anggota GAM. “Saat paling sulit, saat dia diminta pimpinan GAM melindungi istrinya dari kejaran pasukan TNI. Selama tiga bulan, Badri harus mencari tempat kos yang aman dari kejaran TNI yang sebenarnya temannya sendiri,” katanya.Agar jaringan intelijen sempurna dan tidak bocor, Badri tidak pernah diketahui identitasnya sebagai anggota Kopassus kecuali oleh beberapa pimpinan operasi. Meski menyamar sebagai pedagang durian, Badri menggunakan kesempatan itu untuk menyabot senjata-senjata GAM. “Misalnya, alat pembidik pada senapan-senapan GAM sengaja digeser agar tembakan mereka melenceng atau tidak tepat sasaran,” katanya.Kisah lain yang juga sengaja dibuka Kopassus adalah tim Kopassus yang bertugas mengamankan kerusuhan Ambon pada Januari 2001. Mereka bertugas di tengah-tengah kelompok Merah (Nasrani) dan kelompok Putih (muslim). Namun, ternyata, sumber kerusuhan adalah sniper (penembak jitu) gelap yang memprovokasi serangan.Narasumber dalam kisah itu adalah Wakil Asisten Intelijen Kopassus Letkol Nyoman Cantiasa yang saat itu masih berpangkat kapten. Kebetulan Nyoman pernah menceritakan kisahnya secara singkat kepada Jawa Pos beberapa bulan lalu saat tak sengaja bertemu di Taman Makam Pahlawan Kalibata.Dalam buku itu, dikisahkan bahwa Nyoman memerintahkan beberapa anggota tim untuk mencari asal sniper yang menembak di malam hari. Ternyata, para perusuh itu bersembunyi di Hotel Wijaya II Ambon. Mereka juga menyadap saluran HT pasukan Nyoman. Bahkan, kata sandi Nyoman saat itu yakni Arjuna 2 juga diketahui.Berdasar penghitungan matang, Nyoman akhirnya memerintahkan tim dengan seizin Pangdam Pattimura (saat itu dijabat Mayjen M. Yasa) menyerbu Hotel Wijaya. Terjadi baku tembak selama dua jam sebelum seluruh sniper dilumpuhkan. Mereka berhasil menyita beragam senjata, seperti AK 101, AK 102, SKS, MK1, SS1 , M16, dan US Karabine 30 mm.Selain Aceh dan Ambon, Kopassus membuka kisah di balik operasi-operasi di Papua, Timor Leste (dulu Timor Timur), dan berbagai lokasi lain di Indonesia. Tidak khawatir strategi Kopassus bocor ke tangan intelijen asing? Menurut Farid, kekhawatiran selalu ada. “Tapi, ibarat memasak nasi goreng. Bumbunya tidak semua orang tahu, tapi hasilnya enak. Jadi, secara detail teknisnya masih kami tutupi,” kata Farid yang sekarang menjabat kepala penerangan Kopassus itu.Tanpa bermaksud sombong, kata Farid, Kopassus mempunyai kemampuan intelijen dan antiteror yang bisa diandalkan. “Rata-rata pembebasan sandera hanya butuh tiga menit. Di Woyla dulu juga cukup tiga menit,” katanya.Saat ditanya tentang operasi Densus 88 di Temanggung yang butuh waktu 17 jam untuk meringkus Ibrohim, otak peledakan Ritz-Carlton, Farid menggeleng. “Kami tidak mau mengomentari keahlian orang lain. Cukuplah masyarakat yang menilai dengan buku. Kalau memang Kopassus jelek, ya, silakan dianggap jelek. Apa pun itu kami bangga bertugas demi negara. Itu kehormatan komando,” kata perwira yang pernah dikirim ke Sierra Leone, Afrika, itu.Masih banyak kisah lain yang ditulis Esti. Misalnya, proses perekrutan anggota Kopassus yang ketat. Seorang prajurit yang bisa diterima Kopassus harus bisa berlari 12 menit dengan jarak tempuh minimal 2.800 meter. Lalu pull up 12 kali, push up 40 kali minimal dalam satu menit, sit up 40 kali minimal dalam satu menit, renang dasar 50 meter dan tidak takut ketinggian lebih dari 15 meter.Setelah itu mereka harus ikut seleksi psikologi dan jika lolos harus menjalani pendidikan komando selama tujuh bulan. Pelatihan itu sangat berat. “Mereka punya istilah kaki tomat, yakni kaki yang melepuh karena harus long march dari Bandung ke Cilacap jalan kaki dengan jarak tempuh 500 kilometer selama 10 hari dengan beban perorangan 30 kg di pundak,” kata Esti.Kisah-kisah kegalakan pelatih juga dideskripsikan. Misalnya, galaknya Kapten Encun di Pusat Pendidikan Kopassus Batujajar. Encun yang ahli melempar pisau komando itu sudah melatih spesialisasi komando 26 tahun. “Semua pohon randu di Batujajar tidak ada yang selamat. Semua dibabat habis untuk latihan lempar pisau,” katanya.Kisah-kisah humanis anggota Kopassus saat bertugas di luar negeri juga dideskripsikan. Juga saat korps baret merah itu menjadi garda depan penanggulangan bencana alam. Wanita alumnus Sastra Tiongkok, Universitas Indonesia itu mengaku hanya butuh tiga minggu untuk menyelesaikan bukunya.“Sehari saya wawancara delapan hingga 10 prajurit, mulai pangkat terbawah sampai jenderal,” katanya. Interaksi tiga minggu itu telah mengubah pandangannya tentang Kopassus. “Mereka orang-orang aneh yang mengidap adrenalin junkie, yakni orang yang bekerja sangat prima dalam kondisi stres dan dalam tekanan tinggi,” katanya.Dia mencontohkan salah seorang bintara bernama Serka Sumardi. Orang itu istimewa karena sudah 14 kali ditugaskan di medan operasi. Sedangkan rata-rata prajurit yang lain hanya empat kali. Sumardi pernah sekali ditugaskan sebagai anggota pasukan PBB di Bosnia.“Saat saya tanya apa yang paling enak dalam penugasan, dia menjawab saat dikirim ke Bosnia karena bisa merasakan enaknya landing (mendarat). Ternyata selama 14 kali terjun operasi, dia selalu dilempar ke udara dengan parasut dan belum pernah sekalipun naik pesawat. Ini ndeso, tapi jujur,” kata Esti sambil melirik Farid.Farid tertawa lepas. “Kisah-kisah seperti itu kami harap bisa menarik minat anak muda bergabung ke Kopassus. Kalau yang tua-tua, terus terang, kami capek meyakinkan mereka,” katanya. (*/iro)Sumber: Jawa Pos, 11 Januari 2010\n",
            "Error: the JSON object must be str, bytes or bytearray, not NoneType\n"
          ]
        },
        {
          "name": "stderr",
          "output_type": "stream",
          "text": [
            "Translating texts:  45%|████▍     | 21663/48483 [1:07:41<3:00:17,  2.48it/s]"
          ]
        },
        {
          "name": "stdout",
          "output_type": "stream",
          "text": [
            "Translation failed for text: Mikael Karvajalka Mikael Karvajalan nuoruus ja merkilliset seikkailut monessa maassa vuoteen 1527 asti kymmenenä kirjana hänen itsensä vilpittömästi kertomina.\n",
            "Error: 'NoneType' object is not iterable\n"
          ]
        },
        {
          "name": "stderr",
          "output_type": "stream",
          "text": [
            "Translating texts:  57%|█████▋    | 27694/48483 [1:24:02<2:28:48,  2.33it/s]"
          ]
        },
        {
          "name": "stdout",
          "output_type": "stream",
          "text": [
            "Translation failed for text: Sadist Çok ünlü bir yazardı, ama bir gün, hayatta kalabilmek için kitap yazması gerekeceğini hiç düşünmemişti...\n",
            "Error: 'NoneType' object is not iterable\n"
          ]
        },
        {
          "name": "stderr",
          "output_type": "stream",
          "text": [
            "Translating texts:  63%|██████▎   | 30766/48483 [1:29:37<10:11, 28.97it/s]"
          ]
        },
        {
          "name": "stdout",
          "output_type": "stream",
          "text": [
            "Translation failed for text: Supernova: Akar Talita LunaKesejatian hidup ada pada batu kerikil yang tertendang ketika kau melangkahmenyusuri jalan. Kesejatian hidup ada pada selembar daun kering yang gugurtertiup angin. Kesejatian hidup ada air susu ibu yang yang merelakan putingpayudaranya diisap oleh bayi manapun. DiVihara Pit Yong Kiong, Pasuruan, di pelabuhan Belawan, di Penang, diBangkok, di Laos, di Golden Triangle, di Cambodia, di Bandung, dimanapun kau hidup.Tapi, dia mungkin tak terlihat pada arus politik yang menyudutkanmu padapilihan kedigdayaan. Dia menyembunyikan diri dari teriakan-teriakan yang menggemakan perubahan. Kesejatian hidup tak memerlukanperubahan, namun juga tak menampiknya. Dia rebah pada semua kesederhanaanyang ada di sekelilingmu. Maka, carilah, dan kamu akan mendapatinya.Ketuklah, maka pintu akan dibukakan bagimu. Mintalah, maka kau akan diberi.Demikianlah Dewi Lestari mewakilkan sebuah upaya pencarian kesejatian hiduppada seorang tokoh bernama Bodhi. Seorang bayi yang di suatu pagi tergeletakdi pintu Vihara. Dipungut, diasuh, dan dididik oleh seorang Pandita, GuruLiong. Merasa bahwa karma pada hidup masa lalunya sangat berat. 18 tahundididik dengan ketat, termasuk penguasaan terhadap sebuah ilmu bela diri,Bodhi mengalami penyempurnaan bathin. Pemurnian spirit. Termasuk sejumlahpengalaman uniknya yang \"merasa\" menjadi ulat, tikus got, kucing, dan sapi.18 tahun adalah waktu yang cukup, dan Bodhi mohon pamit. Bersama serombonganpendeta Buddha, Bodhi menyeberang ke Sumatera dan memutuskan menetap didaerah Belawan. Tanpa KTP, tak juga faham mengenai asal usul dan tanggalkelahirannya. Bekerja tiga bulan, mendapat upah, dan dibantu oleh OmpuBerlin untuk mendapatkan sejumlah dokumen identitas termasuk paspor, Bodhimenyeberang ke Penang. Disana dia bertemu dengan sejumlah backpackers yangkemudian \"memberi\" arah perjalanan berikutnya: Bangkok.Bangkok surga bagi para backpackers. Ratusan pengelana dari mancanegaratumpah di sana. Bodhi tinggal di semua rumah penginapan Srinthip bersamasejumlah backpakers multi etnis. Penghuninya datang dan pergi. MasuklahKell, seorang lelaki tampan, peranakan Irlandia dan Mesir. Lelaki tertampanyang mungkin pernah ada di bumi ini yang mempunyai tugas kehidupan untukmembubuhkan 617 tatto pada 617 orang untuk membuat dirinya menyongsongkemerdekaan paripurna setelah orang ke-617 membubuhkan tato yang ke-618 ketubuhnya. Lelaki yang kerap menyenandungkan Eye in The Sky-nya Alan ParsonProject. Kell kemudian mengajarinya tattoo. Lalu, jadilah Bodhi seorangtattooist dan menjadikan itu sebagai cara untuk mendapatkan uang bagi biayahidup sehari-hari.Seorang backpacker perempuan bernama Star, berasal dari Hollywood, peranakanEropa Timur dan Timur Tengah masuk dan menginap di Srinthip. Perempuancantik dan tercantik yang pernah dilihat Bodhi. Perawakan tubuhnya sempurna.Perempuan inilah yang memperkenalkan dirinya dengan sebuah perasaan lainyang belum pernah dia rasakan sepanjang hidup. Star minta Bodhi mentattoonyatepat di payudara.Dan bergetarlah kulit semesta. Bergerolalah gelombangsamudera. Erangan kesakitan Star sewaktu ditattoo adalah hasrat dedaunanyang mendambakan sapuan sinar matahari. Waktu berlalu dan mereka berpisah.Entah kenapa.Bodhi meneruskan pencarian kesejatiannya. Star seolah menggenap kesempurnaantattoonya dan pergi menyongsong kelana berikut.Keterserakan yang tak menyenangkan. Tapi hidup adalah keping-keping misteriyang baru terbuka setelah rebah sepenuhnya. Bodhi membiarkan semestamenuntun perjalanan selanjutnya. Bertemu dengan lelaki tua pengasuh BobMarley, yang mengumandangkan reggae seolah cuma itu yang ada di bumi dankahyangan. Bertemu kembali dengan Tristan, backpacker yang ditemuinyapertama kali di Penang. Mereka berdua bekerja di ladang ganja di GoldenTriangle dengan upah USD 700 per minggu. Sekian bulan di sana Bodhi memilikicukup uang untuk melanjutkan kembara berikutnya. Pulang ke Srinthipdidapatinya Kell sudah tak ada. Ah, lelaki yang telah memberinya keceriaandan sebuah warna baru.Rasa kangennya memuncak. Diputuskannya untuk pergi mencari Kell. Tak adapetunjuk. Tak ada berita. Dan dia pergi. Suara semesta dan kerinduannyaadalah dua buah kompas sejati yang dia percaya akan mengantarkannya tepatwaktu - tepat arah kepada Kell. Bodhi terdampar di sebuah pertarungan antarmanusia ala Golden Triangle ditonton oleh ribuan petaruh. Diadu secarabarbar di atas ring melawan gladiator raksasa. Pertarungan dahsyat denganmenggunakan sejumlah jurus wushu yang mendebarkan pun digelar.Perjalanan itu begitu panjang dan melelahkan. Menembus belukar di antaradesingan peluru. Menyusuri daratan ranjau. Disana dia betemu Epona, gadispenakluk ranjau. Disana pula ia bertemu kembali dengan Kell. Lalu, padasebuah kunjungan ke lokasi ranjau, tattoo ke 618, angka kebebasan paripurnaKell, dirajahkan. Dalam dialog cerdas, konyol, menggelikan, dan bertabur airmata. Adegan mengejutkan, dan merupakan bagian terindah. Kebebasan itudatang dan menyapa dalam damai. Nikmati adegan ini sambil mendengarkan YouTake My Breath Away-nya QUEEN. Berani sumpah, kau akan hening berjam-jamsesudahnya...\n",
            "Error: the JSON object must be str, bytes or bytearray, not NoneType\n"
          ]
        },
        {
          "name": "stderr",
          "output_type": "stream",
          "text": [
            "Translating texts:  65%|██████▍   | 31273/48483 [1:31:13<1:53:38,  2.52it/s]"
          ]
        },
        {
          "name": "stdout",
          "output_type": "stream",
          "text": [
            "Translation failed for text: Tara de sub fluturi The book could thrill all the readers aware by the economical and moral crisis we face. It is a dystopia where a country in economical crisis cannot function anymore and the government decides to sell it to a consortium of countries. The population loses the houses due to mortgages and the government decides to allocate tents installed in the parks to accommodate the desperate families. The life in such conditions is described and a story of a family living in such conditions is developed. Finally the country is sold and the consortium decides to organize the country as a collector of the sewages, wastage and garbage coming from the rest of the continent’s countries. There is an important political person in the book, who decides to cover all this abjectness with huge colored and perfumed butterflies…The book is a mirror over a world in distress…-----------------------------------------------Andreea Toma (http://andreeaiuliatoma.blogspot.com/... ):\"Debutul lui Dragos Voicu a avut loc in 2009 cu romanul Coada, aparut la Editura Cartea Romaneasca, si care a primit Premiul pentru Proza la Concursul de debut organizat de aceasta editura. Nu am avut ocazia de a-l citi, in schimb am avut prilejul de a citi acest al doilea roman al sau-Tara de sub fluturi, care si-a facut aparitia de cateva luni in peisajul literaturii noastre contemporane. O gura de aer proaspat prinde bine din cand in cand, si astfel mi s-a parut mie ceea ce am gasit intre paginile acestei carti. A fost ceva diferit de lecturile mele de pana acum, ineditul imbracand felurite forme. Incepand cu titlul si continuand, treptat, cu fiecare pagina, am descoperit o lume invaluita in metafore. Din primele randuri ai senzatia ca vei citi ceva de domeniul fantasticului grotesc, fenomene incredibile au loc- oamenii si animalele isi pierd parul, pasarile au ramas fara pene-, si, daca as fi judecat doar dupa acest tablou initial, probabil ca nu as fi fost atrasa de subiectul cartii. Insa mi-am coborat privirea rand dupa rand si am simtit ca voi avea surprize placute. Nu m-am inselat.In Tara de sub fluturi gasim o lume supusa degradarii, primele imagini sunt apasatoare, sufocante, incepi sa simti caldura coplesitoare ce a cuprins tara, o senzatie de dezintegrare treptata parca bantuie printre oamenii tot mai obositi de traiul lor. Oameni evacuate de catre banci din casele lor si nevoiti sa locuiasca in parcuri, in corturile pe care Statul cel grijuliu cu cetatenii sai le-a pus la dispozitie. O imagine dezolanta, contracarata de un pasaj ce m-a amuzat de-a binelea: reprezentantii bancilor continua sa le faca oferte de creditare numeroaselor victime ale creditelor anterioare, oferte care de care mai pompoase, acoperind tot felul de situatii, culminand cu perspectiva decesului potentialului client, ce va muri in contul bancii, nu in al sau.Treptat, lumea din Tara de sub fluturi capata contururi atat de familiare, incat caracterul alegoric incepe sa ne scape, lucrurile ce se petrec nu ni se mai par atat de incredibile, ci ne infatiseaza o posibila realitate viitoare, nu atat de indepartata pe cat ne-ar place sa credem. Imaginile adesea halucinante dobandesc conotatii reale. Situatiile aducatoare de zambete pe chipul cititorului sunt presarate cu maiestrie in tot cuprinsul romanului. Senzatia ce m-a insotit permanent pe parcursul lecturii a fost aceea ca un ochi rade si altul plange. O parte din mine era incantata de umorul nascut de anumite intamplari, iar cealalta se infiora de perspectiva sumbra aruncata asupra viitorului. Caci in pofida aerului alegoric, intesat de imagini aparent exagerate, bogate in semnificatii, locurile si oamenii, trasaturile lor, sunt atat de usor de recunoscut, incat nu mai simti nevoia ca ele sa poarte un nume. Totul se desfasoara sub auspiciile nefaste ale Crizei, cu majuscula, asa cum apare si in carte. Personajul principal, un personaj-narator, fara nume si el, este un ins ca oricare altul dintre cei multi, afectati din plin de Criza. Dar prin prisma locului de munca pe care inca are norocul sa il detina- este un mic functionar la Ministerul Aerului-, are prilejul sa asiste fara sa poata face ceva la toate manevrele, la jocurile de culise ale inaltilor demnitari, care invart pe degete destinele a milioane de oameni si, impreuna cu ei, al unei intregi tari. Avem in fata o satira a tuturor tarelor societatii, pe care le cunoastem si le recunoastem, ele nu sunt deloc putine, la fiecare pas este ilustrata una din ele. Incepand cu prostia in materie de vot, continuand cu pasiunea pentru mancatul semintelor, cu festinele electorale, cu demagogia politicienilor, cu coruptia intalnita la toate nivelele, de la cel mai marunt pana la cel mai inalt sau invers, apoi cu dezinteresul pentru binele tarii si interesul exclusiv pentru propriul profit. Si daca la un moment dat am fost uimita de episodul vanzarii aerului curat din munti catre tari afectate de poluare masiva, ulterior aveam sa am un moment de stupoare- o decizie radicala luata de mai marii tarii, ca unica solutie de iesire din criza, si care implica o groaza de alte masuri extreme de costisitoare, inutile, in detrimentul altora cu adevarat eficiente, demonstrandu-le inventivitatea netarmurita in aceasta privinta. Toate acestea va par cunoscute, nu? Doar ca in acest roman ele capata dimensiuni noi, frizand incredibilul. Un incredibil, cum spuneam, perfect posibil. N-ai cum sa nu te gandesti, citind paginile a caror intensitate creste gradual, ca multitudinea de elemente deghizate in metafore sunt de fapt nu doar detalii dintr-un posibil drum pe care lumea de langa noi l-ar putea urma, ci chiar ceea ce se petrece acum sub ochii nostri. Pagini impresionante pentru mine au fost si cele care lasa oarecum la o parte meschinaria politica, evocandu-i pe bunicii personajului-narator. Franturi din trecutul mai recent sau mai indepartat si culminand cu degradarea prezentului, in care bunica, ramasa vaduva de cativa ani, isi asteapta sfarsitul intr-o saracie lucie, in satul si el degradat, in care putinii oameni ramasi s-au transformat in indivizi josnici, betivi si hoti. M-au emotionat profund paginile acestea. Bogatia stilistica ce caracterizeaza intreg textul este presarata la momentele potrivite cu unele expresii ce ar putea parea vulgare, insa nu sunt folosite pentru a face deliciul unui public dornic de limbaj licentios, ci se aseaza firesc in discursurile anumitor personaje, ca parte integranta din felul lor de-a fi, ca o nota de autenticitate.Si ar mai fi multe de comentat pe marginea cartii, insa n-as vrea sa dezvalui prea mult din continutul sau, sa nu va stric surpriza lecturii. Este o carte surprinzatoare, bine construita, scrisa intr-un stil fluid, placut. As putea spune chiar ca are si o doza de lirism fin impletita in tesatura elaborata a frazelor. Sper ca nu am fost prea lunga de vorba in exprimarea entuziasmului meu, dar de cate ori am ocazia sa citesc o astfel de carte, care produce valuri in constiinta mea de cititor, ma simt datoare sa-mi impartasesc impresiile cu voi. Cartea a aparut la Editura A.T.U. din Sibiu si poate fi comandata de aici. Pretul este foarte accesibil si fiti convinsi ca merita fiecare leu. De asemenea, puteti vizita blogul cartii-Tara de sub fluturi\"\n",
            "Error: the JSON object must be str, bytes or bytearray, not NoneType\n"
          ]
        },
        {
          "name": "stderr",
          "output_type": "stream",
          "text": [
            "Translating texts:  97%|█████████▋| 47019/48483 [1:52:49<1:07:10,  2.75s/it]"
          ]
        },
        {
          "name": "stdout",
          "output_type": "stream",
          "text": [
            "Translation failed for text: ржорзЗржШ ржмрж▓рзЗржЫрзЗ ржпрж╛ржм ржпрж╛ржм ржлрзНрж▓рзНржпрж╛ржкрзЗ рж▓рзЗржЦ ржХрж┐ржЫрзБ ржХржерж╛ржГржорзЗржШ ржмрж▓рзЗржЫрзЗ ржпрж╛ржмрзЛредржЖржХрж╛рж╢рзЗрж░ ржорзЗржШрзЗрж░рж╛ ржХрж┐ ржХржерж╛ ржмрж▓рзЗ? рждрж╛рж░рж╛ ржХрж┐ ржпрзЗрждрзЗ ржЪрж╛рзЯ ржХрзЛржерж╛ржУ? рждрж╛рж░рж╛ ржХрзЛржерж╛рзЯ ржпрзЗрждрзЗ ржЪрж╛рзЯ? ржмрж░рзНрж╖рж╛ржи ржШржи ржХрж╛рж▓рзЛ ржЖржХрж╛рж╢рзЗрж░ ржжрж┐ржХрзЗ рждрж╛ржХрж┐рзЯрзЗ ржЪрж┐рждрзНрж░рж▓рзЗржЦрж╛рж░ рж╣ржарж╛рзО ржПржЗ ржХржерж╛ ржоржирзЗ рж╣рж▓ред ржжрж╢-ржмрж╛рж░ ржмржЫрж░рзЗрж░ ржХрж┐рж╢рзЛрж░рзАрж░ ржоржирзЗ ржПрж░ рж░ржХржо ржПржХржЯрж╛ ржЪрж┐ржирзНрждрж╛ ржЖрж╕рждрзЗ ржкрж╛рж░рзЗ, ржЪрж┐рждрзНрж░рж▓рзЗржЦрж╛рж░ ржмрзЯрж╕ ржкржБржЪрж┐рж╢ред ржП рж░ржХржо ржЙржжрзНржнржЯ рждрж╛рж░ ржЬржирзНржпрзЗ рж╕рзНржмрж╛ржнрж╛ржмрж┐ржХ ржирзЯред рждржмрзБржУ ржХрзЗржи ржЬрж╛ржирж┐ ржирж┐ржЬрзЗржХрзЗ рждрж╛рж░ ржорзЗржШрзЗрж░ ржорждрзЛ ржоржирзЗ рж╣рзЯред рждрж╛рж░ ржХрзЛржерж╛рзЯ ржЬрж╛ржирж┐ ржпрзЗрждрзЗ ржЗржЪрзНржЫрж╛ ржХрж░рзЗред ржП рж░ржХржо ржЗржЪрзНржЫрж╛ рждрзЛ рж╕ржм ржорж╛ржирзБрж╖рзЗрж░ржЗ ржХржмрзЗред рж╕ржм ржорж╛ржирзБрж╖рзЗрж░ ржнрзЗрждрж░ржЗ ржХрж┐ рждрж╛рж╣рж▓рзЗ ржПржХ ржЯрзБржХрж░рж╛ ржорзЗржШ ржврзБржХрзЗ ржЖржЫрзЗ, ржпрзЗ ржХрзЗржмрж▓рж┐ ржХрзЛржерж╛ржУ ржпрзЗрждрзЗ ржЪрж╛рзЯ?ржнрзВржорж┐ржХрж╛ржГржЕржирзЗржХржжрж┐ржи ржерзЗржХрзЗ рж▓рзЗржЦрж╛рж▓рзЗржЦрж┐ ржХрж░рждрзЗ ржкрж╛рж░ржЫрж┐рж▓рж╛ржо ржирж╛ред ржХрж╛ржЧржЬ-ржХрж▓ржо ржирж┐рзЯрзЗ ржмрж╕рж┐-ржШржирзНржЯрж╛ржЦрж╛ржирж┐ржХ ржкрж╛рж░ рж╣рзЯ ржЙржарзЗ ржЖрж╕рж┐ред ржХрж╛ржЧржЬрзЗ ржирж╛ржирж╛ржмрж┐ржз ржЪрж┐рждрзНрж░ржХрж▓рж╛ ржжрзЗржЦрж╛ ржпрж╛рзЯред рж╕рзЗржЗрж╕ржм ржЪрж┐рждрзНрж░ржХрж░рзНржо ржжрзЗржЦрзЗ ржЖржорж╛рж░ ржкрзБрждрзНрж░ ржирзБрж╣рж╛рж╢ ржЦрзБржм ржЖрж╣рзНрж▓рж╛ржжрж┐ржд рж╣рж▓рзЗржУ ржЕржирзНржпрж░рж╛ ржЖржорж╛рж░ ржжрж┐ржХрзЗ ржХрзЗржоржи ржХрзЗржоржи ржХрж░рзЗ ржпрзЗржи рждрж╛ржХрж╛рзЯред ржПржХ рж╕ржорзЯ рж▓рж┐ржЦрждрзЗ рж╢рзБрж░рзБ ржХрж░рж▓рж╛ржоред ржЦрзБржмржЗ ржЕржирж╛ржЧрзНрж░рж╣ ржжрж┐ржирзЗ рж▓рзЗржЦрж╛ред ржпрзЗржи ржЖржиржирзНржжржорзЯ рж▓рзЗржЦрж╛ ржирзЯ ржмрж┐рж╢рзНржмржмрж┐ржжрзНржпрж╛рж▓рзЯрзЗ ржЬржорж╛ ржжрзЗржмрж╛рж░ ржЬржирзНржпрзЗ ржЯрж╛рж░рзНржо ржкрзЗржкрж╛рж░ рждрзИрж░рж┐ ржХрж░ржЫрж┐ред рж▓рзЗржЦрж╛ржЯрж╛ ржПржЧрзЛрждрзЗ рж▓рж╛ржЧрж▓ ржПржХржЯрзБ ржЕржжрзНржнрзБржд ржнржЩрзНржЧрж┐рждрзЗ, рж╕ржмрж╛ржЗ ржкрзНрж░ржержо ржЪрзНржпрж╛ржкрзНржЯрж╛рж░ рж▓рж┐ржЦрзЗ ржжрзНржмрж┐рждрзАрзЯ ржЪрзНржпрж╛ржкрзНржЯрж╛рж░ рж▓рзЗржЦрзЗ рждрж╛рж░ржкрж░ ржпрж╛рзЯ рждрзГрждрзАрзЯрждрзЗред ржЖржорж┐ рж╢рзБрж░рзБ ржХрж░рж▓рж╛ржо ржЙрж▓рзНржЯрзЛ ржжрж┐ржХрзЗред ржкрзНрж░ржержо ржпрзЗ ржЪрзНржпрж╛ржкрзНржЯрж╛рж░ржЯрж╛ рж▓рзЗржЦрж╛ рж╣рж▓-ржПржХ рж╕ржорзЯ рж╕рзЗржЯрж╛ рж╣рзЯрзЗ ржЧрзЗрж▓ рж╕ржкрзНрждржо ржЪрзНржпрж╛ржкрзНржЯрж╛рж░ред ржпрж╛ рж╢рзБрж░рзБ рж╣рж▓ ржЖржорж╛ржжрзЗрж░ ржорзЯржоржирж╣рж┐ржВрж╣рзЗрж░ ржнрж╛рж╖рж╛рзЯ рждрж╛ржХрзЗ ржмрж▓рзЗ-тАЬржмрзЗрж░рж╛ржЫрзЗрзЬрж╛тАЭред ржПржХ рж╕ржорзЯ рж╕рзЗржЗ ржмрзЗрж░рж╛ржЫрзЗрзЬрж╛рж░ рж╕ржорж╛ржкрзНрждрж┐ рж╣рж▓ред ржкрзНрж░ржХрж╛рж╢ржХ ржмржирзНржзрзБ ржЖрж▓ржоржЧрзАрж░ рж░рж╣ржорж╛ржи ржЦрзБрж╢рж┐ ржоржирзЗ ржкрж╛ржгрзНржбрзБрж▓рж┐ржкрж┐ ржЫрж╛ржкрждрзЗ ржирж┐рзЯрзЗ ржЧрзЗрж▓рзЗржиред рж▓рзЗржЦрж╛ ржХржорзНржкрзЛржЬ ржПржмржВ ржкрзНрж░рзБржл ржжрзЗржЦрж╛ рж╢рзЗрж╖ рж╣ржмрж╛рж░ ржкрж░ ржпржЦржи ржЫрж╛ржкрж╛ рж╢рзБрж░рзБ рж╣ржмрзЗ рждржЦржи ржЖржорж┐ рждрж╛ржБржХрзЗ ржмрж▓рж▓рж╛ржо- ржХрзЯрзЗржХржЯрж╛ ржирж╛ржо ржкрж╛рж▓рзНржЯрзЗ ржжрж┐рждрзЗ рж╣ржмрзЗред ржирж╛ржоржЧрзБрж▓рзЛ ржЙржкржирзНржпрж╛рж╕рзЗрж░ ржЪрж░рж┐рждрзНрж░ржЧрзБрж▓рзЛрж░ рж╕ржЩрзНржЧрзЗ ржпрж╛ржЪрзНржЫрзЗ ржирж╛ред рждрж┐ржирж┐ ржорж╛ржерж╛рзЯ рж╣рж╛ржд ржжрж┐рзЯрзЗ ржмрж╕рзЗ ржкрзЬрж▓рзЗржиред рж╕ржЩрзНржЧржд ржпрзБржХрзНрждрж┐ ржжрзЗржЦрж╛рж▓рзЗржи-ржирж╛ржорзЗрж░ рж╕ржЩрзНржЧрзЗ ржЪрж░рж┐рждрзНрж░рзЗрж░ рж╕ржорзНржкрж░рзНржХ ржХрзА? ржПржХржЗ ржирж╛ржо ржЕржержЪ ржЪрж░рж┐рждрзНрж░рзЗрж░ ржЖржХрж╛рж╢-ржкрж╛рждрж╛рж▓ ржкрж╛рж░рзНржержХрзНржп рждрзЛ рж╕ржм рж╕ржорзЯ ржжрзЗржЦрж╛ ржпрж╛рзЯред ржЕржХрж╛ржЯрзНржп ржпрзБржХрзНрждрж┐-ржХрж┐ржирзНрждрзБ рж▓рзЗржЦрж╛рж▓рзЗржЦрж┐рж░ ржЬржЧрзОржЯрж╛ рж╣рж┐ржорзБрж░ ржЬржЧрждрзЗрж░ ржорждрзЛ ржпрзЗржЦрж╛ржирзЗ ржпрзБржХрзНрждрж┐ рж╕ржм рж╕ржорзЯ ржЦрж╛ржЯрзЗ ржирж╛ред ржирж╛ржо ржкрж╛рж▓рзНржЯрж╛ржирзЛ рж╣рж▓ред рждржЦржи ржЖржорж┐ ржмрж▓рж▓рж╛ржо, ржмржЗрзЯрзЗрж░ ржирж╛ржоржУ ржЖржорж┐ ржкрж╛рж▓рзНржЯрзЗржЫрж┐ред рждрж┐ржирж┐ ржжрзНржмрж┐рждрзАрзЯржмрж╛рж░ ржорж╛ржерж╛рзЯ рж╣ржд ржжрж┐рзЯрзЗ ржмрж╕рзЗ ржкрзЬрж▓рзЗржиред ржХрж╛рж░ржг ржкрзНрж░ржЪрзНржЫржж рж╣рзЯрзЗ ржЧрзЗржЫрзЗред ржЖржмрж╛рж░ ржирждрзБржи ржирж╛ржорзЗ ржкрзНрж░ржЪрзНржЫржж рж╣рж▓ред ржмржЗ ржмрзЗрж░ рж╣рзЯрзЗ ржЧрзЗржЫрзЗред ржПржЦржи ржЖржорж╛рж░ ржмржЗрзЯрзЗрж░ ржмрж░рзНрждржорж╛ржи ржирж╛ржоржЯрж╛ржУ ржкржЫржирзНржж рж╣ржЪрзНржЫрзЗ ржирж╛ред ржоржирзЗ рж╣ржЪрзЗржЫ ржЖржЧрзЗрж░ ржирж╛ржоржЯрж╛ржЗ ржнрж╛рж▓рзЛ ржЫрж┐рж▓ред рждрж╛рж░ржЪрзЗрзЯрзЗржУ ржоржЬрж╛рж░ ржмрзНржпрж╛ржкрж╛рж░-ржЪрж░рж┐рждрзНрж░ржЧрзБрж▓рзЛрж░ ржЖржЧрзЗ ржпрзЗ ржирж╛ржо ржЫрж┐рж▓ ржПржЦржи ржоржирзЗ рж╣ржЪрзЗржЫ рж╕рзЗржЗ ржирж╛ржоржЧрзБрж▓рзЛржЗ ржарж┐ржХ ржЫрж┐рж▓редрж╣рзБржорж╛рзЯрзВржи ржЖрж╣ржорзЗржжрзйрзз ржЬрж╛ржирзБрзЯрж╛рж░рж┐тАЩ рзпрзн\n",
            "Error: the JSON object must be str, bytes or bytearray, not NoneType\n"
          ]
        },
        {
          "name": "stderr",
          "output_type": "stream",
          "text": [
            "Translating texts:  97%|█████████▋| 47134/48483 [1:54:46<1:12:22,  3.22s/it]"
          ]
        },
        {
          "name": "stdout",
          "output_type": "stream",
          "text": [
            "Translation failed for text: اشتراكية الإسلام بين الطبعة الأولى 1959م والثانية 1960م لكتابه \"اشتراكية الإسلام\"، ذكر السباعي أن في الطبعة الثانية زيادات. يقول : \" امتازت الطبعة الثانية بتحقيقات مهمة، وزيادات كثيرة، وأمثلة عديدة من الواقع التاريخي \".\" كنت أود أن أتوسع في بحث الواقع التاريخي في الدولة والمجتمع والفرد المسلم، لولا ضيق المجال، كما أنني لم أتحدث عن حركة أبي ذر التي قام بها في عهد عثمان، رضي الله عنهما، لأني لم أستكمل بعد دراسة أسبابها وحقيقتها، وتمحيص النصوص التاريخية الواردة بشأنها، بالشكل الذي أطمئن إليه وأقتنع به. وأيضًا لم أتعرض لبعض الحركات السياسية التي قامت في العصر العباسي، واتخذت شكلاً فوضويًا شيوعيًا، كحركة القرامطة. أرجو أن أضيف هذه الأبحاث كلها، مع التوسع في كثير مما أجملته في هذه الطبعة، إلى الطبعة القادمة بإذن الله \".\" كنت أرغب ألا يعاد طبع هذا الكتاب للمرة الثانية إلا بعد أن أكون قد انتهيت من كل الأبحاث التي وعدت بتحقيقها في الطبعة الأولى، ولكن الكتاب ما كاد يخرج إلى الأيدي حتى نفدت نسخه بعد أشهر قلائل، ثم ازداد الطلب على ناشريه ازديادًا كبيرًا، مما اضطرني إلى تقديمه للطبعة الثانية دون أن أتمكن من تحقيق كل ما وعدت به قراء الطبعة الأولى \".\" سنتحدث بالتفصيل عن مدى تطبيق مبادئ اشتراكية الإسلام في عصر الرسول وصحابته، وبالإجمال عن تطبيقها في العصور التي تليها، واعدين أن نتابع البحث والدأب حتى نظفر بالضالة المنشودة \".\" سنبحث في كل عنصر من العناصر الأربعة ( التي يتألف منها الكتاب : الحقوق الطبيعية، القوانين التي تضمنها، القوانين التي تضمن التكافل الاجتماعي، المؤيدات التي تدعم هذه الحقوق والقوانين ) بقدر ما يعطي فكرة واضحة عنها، تاركين شرح هذه النظرية شرحًا وافيًا إلى كتابنا الكبير الذي نضعه لذلك، ونرجو أن يتم إنجازه قريبًا بإذن الله \".\" ذكرنا شيئًا من هذه المقارنات في كتابنا ( شرح قانون الأحوال الشخصية )، الجزء الأول، ولنا في ذلك كتاب ضاف لم يطبع بعد \".\" بدأنا بوضع كتاب باسم ( حقوق الحيوان في الإسلام )، ونسأل الله العون على إنجازه \". كتابه \" اشتراكية الإسلام \"، الناشرون العرب، القاهرة، الطبعة الثانية 1960م، وكانت الطبعة الأولى 1959م ( مطبعة جامعة دمشق ). وتقع الطبعة الثانية في 400 صفحة من القطع الصغير. وتتألف من الفصول التالية :موقف الأديان من الفقر : اليهودية، المسيحية، الإسلام.الحقوق الطبيعية الخمسة : حق الحياة، حق الحرية، حق العلم، حق الكرامة، حق التملك.مبادئ التملك : الكون كله لله، المال وسيلة للخير، الفقر مرض اجتماعي، العمل أهم وسائل التملك، تأميم الموارد الطبيعية، طرائق التملك، الحجر على السفهاء، التملك وظيفة اجتماعية، كراهية تكديس الثروات.بحوث حول حق التملك : إحياء الموات، الإقطاع، حقوق العمال، التأميم، تحديد الملكية.قوانين التكافل : التكافل المعاشي، التكافل الاجتماعي، التكافل الأدبي، التكافل العلمي، التكافل السياسي، التكافل الدفاعي، التكافل الجنائي، التكافل الأخلاقي، التكافل الاقتصادي، التكافل العبادي، التكافل الحضاري.قوانين التكافل الاجتماعي : الفئات التي تستحق التكافل، موارد نفقات التكافل، المؤيدات ( الحوافز الإيجابية والسلبية ) : الاعتقادية، الأخلاقية، المادية، التشريعية.المقارنات : مع الرأسمالية، مع الشيوعية.شخصية الرسول وأثره ( ملخص للسيرة رائع ومؤثر أنصح بقراءته، وهو درّة الكتاب ودليل على حسن الاختيار ).الدولة الإسلامية في عهد الرسول.الدولة الإسلامية في عهد الخلفاء الراشدين.الدولة الإسلامية في العهد الأموي.الدولة الإسلامية في العهود الأخرى.الآثار الباقية في المجتمع من اشتراكية الإسلام : الزكاة، التكافل العائلي، الوصايا، النذور، الأوقاف.الملحق : ردوده على منتقديه في موقفه من التأميم وتحديد الملكية الفردية.مقارنة الكتاب العدالة الاجتماعية لسيد قطب ( 1906-1966م : 60 سنة ) عام 1954م، 300 صفحة قطع متوسط.اشتراكية الإسلام لمصطفى السباعي ( 1915-1964م : 49 سنة )، الطبعة الأولى 1959م، والثانية 1960م، 400 صفحة قطع صغير.مشكلة الفقر ليوسف القرضاوي ( + 1926م : 84 سنة حتى الآن ) عام 1966م، 160 صفحة قطع متوسط. أصل الكتاب يقول السباعي : \" إن هذا البحث الذي أقدمه في هذا الكتاب هو نص المحاضرة التي ألقيتها على مدرج جامعة دمشق بتاريخ 21 رمضان 1378هـ = 30 آذار ( مارس ) 1959م، في سلسلة المحاضرات الجامعية العامة لعام 1959م \".لغة الكتاب يتمتع السباعي بمقدرة كبيرة في الفكر واللغة والحيوية والتشويق، انعكست على كتابه وميّزته عن غيره من الباحثين.عنوان الكتاب أثار جدلاً كبيرًا بين العلماء، وهاجمه عدد منهم، لعل أعدلهم ما كان من طرف الشيخ محمد الحامد رحمه الله. يقول سيد قطب في كتاب \" العدالة الاجتماعية \"، معترضًا على الشكل دون المضمون : \" لم أستسغ حديث من يتحدثون عن اشتراكية الإسلام وديمقراطية الإسلام (...)، فهذا إحساس خفي بالهزيمة، ولو لم يعترفوا صراحة بالهزيمة \". وقد يبدو لأول وهلة أن من الممكن تغيير عنوان الكتاب، وحذف لفظ \" الاشتراكية \" حيثما ورد في الكتاب. يقول الكاتب مثلاً : \" اشتراكية الإسلام تقرر حق الحرية الدينية \". فهاهنا يمكن أن تعاد صياغة الجملة على الشكل التالي : ( الإسلام يقرر حق الحرية الدينية )، وهكذا الشأن في أكثر المواضع.غير أن هذا غير ممكن التحقيق في مبحثين من مباحث الكتاب : الأول بعنوان : \" التأميم \"، والآخر بعنوان \" تحديد الملكية \"، حيث يظهر تأثر الشيخ ببلده وبيئته وما كان سائدًا في عصره. يقول : \" لقد سميت القوانين والأحكام التي جاءت في الإسلام لتنظيم التملك وتحقيق التكافل الاجتماعي باشتراكية الإسلام، وأنا أعلم أن بعض الغيورين على الإسلام يكرهون هذه التسمية، لأن الاشتراكية في رأيهم هي موضة هذا العصر، فلا يصح أن نبادر إلى القول بالاشتراكية الإسلامية تمشيًا مع هذه الموضة، ولأنه قد يأتي زمن تبطل فيه هذه الموضة، ويسود القول بمذهب اقتصادي آخر، فنضطر حينئذ إلى العدول عن القول باشتراكية الإسلام. وهناك من يحاذر القول بالاشتراكية الإسلامية، خوفًا من أن تستغل المذاهب الاشتراكية، وخاصة الشيوعية منها، هذه التسمية لتستخدمها في الدعوة إلى مذاهبها. وأيضًا فالإسلام نظام مستقل قائم بذاته، وقد سماه الله إسلامًا فلا يجوز لنا أن نسميه باسم جديد.ومن الناس من ينكر أن تكون في الإسلام أي نزعة اشتراكية. يقول بعضهم هذا تشويهًا لسمعة الإسلام وصدًا عنه، كالشيوعيين. فإن مصلحتهم الحزبية تحتم عليهم أن يؤكدوا في الأذهان أن الشيوعية وحدها هي الاشتراكية العلمية الصحيحة، وما عداها فزيف وباطل.ويقوله بعضهم ظنًا منهم أن الإسلام دين رأسمالي. وهؤلاء هم الجاهلون بالإسلام مع حبهم له. ويقوله آخرون خدمة للغربيين، ومن يدور في فلكهم من الأغنياء وذوي الثروات والملكيات الكبيرة. وهؤلاء هم المتاجرون بالدين، الذين يضعون أنفسهم في خدمة من يستأجرهم.لقد اخترت القول باشتراكية الإسلام مع العلم بكل ما يقوله هؤلاء، لأني لا أعتقد أن الاشتراكية موضة ستزول، بل هي نزعة إنسانية تتجلى في تعاليم الأنبياء ومحاولات المصلحين منذ أقدم العصور، وتسعى شعوب العالم الحاضر، وخاصة الشعوب المتخلفة، إلى تحقيقها، لتتخلص من فواجع الظلم الاجتماعي والتفاوت الطبقي الفاحش المزري بكرامة الإنسان. وليست حقيقة الاشتراكية هي التأميم ولا انتزاع رأس المال ولا تحديد الملكية ولا الضرائب التصاعدية، بل هذه كلها وسائل يراها دعاتها الطريق الصحيح لتحقيق هدف الاشتراكية. إن هدف الاشتراكية على اختلاف مذاهبها هو منع الفرد من استغلال رأس المال للإثراء على حساب الجماهير وبؤسهم وشقائهم، وإشراف الدولة على فعالية الفرد الاقتصادية ومراقبتها له، وتحقيق التكافل الاجتماعي بين المواطنين، بحيث تمحى مظاهر الفاقة والحرمان وتفاوت الثروات تفاوتًا فاحشًا، يقترن فيه الجوع والفقر والمرض والمهانة، بجانب الترف والرفاهية والقسوة والانحلال الخلقي.وهذا الهدف لا أعتقد أن واحدًا ممن يعرف الإسلام، ويفهم روحه على وجهها الصحيح، ينكر أن الإسلام قد وضعه نصب عينيه في كل تشريعه، ووضع له من التشريع ما يكفل تحقيقه على أحسن حال. فإذا كان الأمر كذلك، وكان هذا الهدف هو مما لا سبيل إلى رجوع الإنسانية عنه، وستظل تكافح في سبيله حتى تصل إليه، وكان من الصدّ عن دين الله، والظلم لشريعة الإسلام وللحق، أن ننكر القول باشتراكية الإسلام، أو نتجنب هذه التسمية. وما دام الناس في مختلف الشعوب يتوقون إلى تحقيق ذلك الهدف، ويتهافتون على المذاهب الاشتراكية المعروفة، اعتقادًا منهم بأنها هي الطريق الوحيد لتحقيقه، أفلا يجب علينا أن ندلّهم على طريق آخر لا يعرفونه، لتحقيق هذا الهدف العظيم، وهو طريق أكمل منهجًا، وأكثر استقامة، وأبعد عن مساوئ تلك المذاهب الاشتراكية وعيوبها ؟ وماذا يفعل الذين يعتقدون بالحق حين يجدون الناس يبحثون عنه ؟ ألا يسلكون كل سبيل مشروع للدعاية له ولفت الأنظار إليه ؟ فلماذا نحجم عن لفت أنظار الناس إلى طريق الإسلام في تحقيق هدفهم، الذي هو هدف الإنسانية الكريمة في كل عصورها \" ؟!بناءً على هذا فإن تغيير عنوان الكتاب، كما فعل بعض الناشرين مؤخرًا، وهم من أقاربه وورثته، وما عمدوا إليه من تغيير بعض ألفاظه، وحذف بعض عباراته، أمر لا يجوز، لأن هذا تشويه للسباعي ولكتابه، ولأن الشيخ السباعي هو شيخ الاشتراكية الإسلامية، عن اعتقاد جازم، وليس عن خطة لمجرد لفت الأنظار وتحويلها عن الاشتراكية إلى الإسلام. أن تؤمن بما يقوله أو لا تؤمن : تلك مسألة أخرى.مقصود الكتاب يتمثل مقصود الكتاب في أمرين :الأمر الأول : يريد أن يتوجه الكاتب إلى الذين فتنوا بالاشتراكية، أو وقعوا تحتها نتيجة الفكر السائد في المنطقة وقتئذ، قائلاً لهم : إذا كنتم مبهورين بالاشتراكية فالإسلام فيه الاشتراكية وزيادة!الأمر الثاني : ميل الكاتب إلى الموافقة على الاشتراكية وقوانين الإصلاح الزراعي وتحديد الملكيات الكبيرة. ويستطيع القارئ أن يقف على هذا من خلال المبحثين المشار إليهما بشكل خاص. قال السباعي : \" لسنا نقول هذا القول ( تحديد الملكية الزراعية ) الآن في عام 1959م فحسب، بل قلناه من قبل، منذ عام 1949م، حين كنا في الجمعية التأسيسية ( في سوريا ) أثناء وضع الدستور، وقد كان الصراع عنيفًا بيننا وبين المالكين الكبار \"، إلى أن صدر الدستور عام 1950م لكي يطبق على الملكيات الزراعية التي ستنشأ في المستقبل، دون أن يكون له مفعول رجعي يمس الملكيات القائمة.أثر الكتاب لهذا الكتاب أثر كبير على من كتب بعده في الاقتصاد الإسلامي وفي العدالة والفقر والتكافل والزكاة والأوقاف والملكية والتوظيف ( الضرائب ) والحسبة وإحياء الموات، سواء من حيث خطته أو من حيث نقوله وشواهده أو من حيث وضوحه. فقد ذكر عددًا من النقول عن الغزالي والشاطبي في مقاصد الشريعة وفي التوظيف المالي. وكذلك عن ابن حزم وابن تيمية. ونقل حديث الأشعريين. وقال : \" كان من المناسب أن أعرض في هذا البحث قوانين التملك، إلا أن عرض هذه القوانين يحتاج إلى مجلدات ضخمة، لأنها تشمل كل أحكام المعاملات في الفقه الإسلامي، وهذه الأحكام تكاد تبلغ تسعة أعشار الفقه. ولعل بعض فقهاء الشريعة، ممن تمكنهم حالتهم الصحية، ويمدّ الله في حياتهم، أن ينهضوا بعبء إخراج هذه القوانين بأسلوب سهل، يفهمه جمهور المثقفين، لتتم بها سلسلة قوانين الاشتراكية الإسلامية \". وقال : \" نريد أن نلفت النظر هنا إلى هذه الرسالة القيمة ووجوب الاطلاع عليها \". يريد بذلك : رسالة الحسبة لابن تيمية، ونقل عنها حوالي 4 صفحات.كتابه أفضل من بعض الكتب التي كتبت بعده.خصائص الاشتراكية الإسلامية عند السباعي اشتراكية الإسلام ليست اشتراكية الدراويش والزهاد، كبعض الصوفية وفقراء الهنود، الذين ينفرون من المال والتملك، جبنًا منهم عن تحمل أعباء الحياة ومسؤولياتها، وإنما هي اشتراكية حضارية إيجابية بناءة، تقيم أكمل مجتمع حضاري متمدن.اشتراكية الإسلام تحارب الفقر والجهل والمرض والخوف والمهانة.مستوى المعيشة في اشتراكية الإسلام مستوى مرتفع.اشتراكية الإسلام تشرك الشعب مع الدولة في تحقيق التكافل الاجتماعي، كما في نظام نفقات الأقارب.اشتراكية الإسلام تحارب الترف والبذخ واللهو الماجن في السلم والحرب.اشتراكية الإسلام تُخضع الحكومة لإرادة الشعب، لا العكس.اشتراكية الإسلام توسّع دائرة التكافل الاجتماعي، ومن ثم فهي أكثر ضمانًا لكرامة الإنسان وسعادته.اشتراكية الإسلام ليست نظرية ولا عاطفية، بل هي عملية.الفرق بين اشتراكية الإسلام وبين الرأسمالية يتفقان في إعطاء الفرد حق التملك، والتنافس في الإنتاج.يختلفان في أن حق التملك في اشتراكية الإسلام يخضع لمصلحة الجماعة، وفي الرأسمالية تخضع الجماعة لمصلحة رأس المال.كما يختلفان في أن التنافس في الاشتراكية الإسلامية يشيع الحب والتعاون في المجتمع، وفي الرأسمالية يشيع العداء والخلاف والاضطراب.الرأسمالية ملطخة بدماء الشعوب، والاستعمار، والاستعباد، واللصوصية، والاستغلال. ولاشيء من هذا في اشتراكية الإسلام.الفرق بين اشتراكية الإسلام وبين الشيوعية اشتراكية الإسلام تنسجم مع الفطرة الإنسانية في إباحة الملكية الشخصية.اشتراكية الإسلام تبيح التنافس، أما الشيوعية فترى أنه يجرّ البلاء على المجتمع.اشتراكية الإسلام تقوم على التعاون، والشيوعية تقوم على الصراع وحرب الطبقات، مما يؤدي إلى الحقد.اشتراكية الإسلام تقوم على الأخلاق، بخلاف الماركسية.اشتراكية الإسلام تقوم على الشورى، والشيوعية تقوم على الاستبداد والدكتاتورية والإرهاب. القواعد الكلية القواعد الكلية استمدها العلماء من الحديث الشريف، أو من أقوال الأئمة الكبار. وأضاف السباعي بعض القواعد المستمدة من القرآن :ولقد كرمنا بني آدم ( الإسراء 70 )وأن ليس للإنسان إلا ما سعى ( النجم 39 )إن الله يأمر بالعدل والإحسان وإيتاء ذي القربى ( النحل 90 )وينهى عن الفحشاء والمنكر والبغي ( تتمة النحل 90 )لا يكلف الله نفسًا إلا وسعها ( البقرة 286 )لا تبخسوا الناس أشياءهم ( الأعراف 85، هود 85، الشعراء 183 ).ومن القواعد التي أضافها وهي مستمدة من الحديث :إن لجسمك عليك حقًا.إن لزوجك عليك حقًا.الخلاصة كتاب السباعي لولا ما كتبه في المبحثين المشار إليهما ما خالفه أحد. ومن أراد الوقوف على مناقشة هذين المبحثين، يمكنه مراجعة كتاب \" الملكية في الشريعة الإسلامية \" لعبد السلام العبادي. وبهذا فإن كتاب السباعي مفيد كلّه لمن يذهب مذهبه، ومفيد جلّه للجميع، ولا ينكر أثره على من كتبوا بعده في هذا الباب، مؤيدين أو معارضين، والحمد لله رب العالمين.\n",
            "Error: the JSON object must be str, bytes or bytearray, not NoneType\n"
          ]
        },
        {
          "name": "stderr",
          "output_type": "stream",
          "text": [
            "Translating texts:  97%|█████████▋| 47167/48483 [1:55:30<1:17:47,  3.55s/it]"
          ]
        },
        {
          "name": "stdout",
          "output_type": "stream",
          "text": [
            "Translation failed for text: الإسلام وأصول الحكم (1) أن يذهب باحث إلى أن النبي عليه السلام كان رسولاً وملكاً، وليس بدعاً ولا شذوذاً أن يخالف في ذلك مخالف، فذلك بحث خارج عن دائرة العقائد الدينية التي تعارف العلماء بحثها، واستقر لهم فيها مذهب.(2) أنت تعلم أن الرسالة غير الملك، وأنه ليس بينهما شيء من التلازم بوجه من الوجوه، وأن الرسالة مقام والملك مقام آخر، فكم من ملك ليس نبياً ولا رسولاً، وكم لله جل شأنه من رسل لم يكونوا ملوكاً. بل أن أكثر من عرفنا من الرسل إنما كانوا رسلاً فحسب.ولقد كان عيسى بن مريم عليه السلام رسول الدعوة المسيحية، وزعيم المسيحيين، وكان مع هذا يدعو إلى الإذعان لقيصر، ويؤمن بسلطانه. وهو الذي أرسل بين أتباعه تلك الكلمة البالغة \"أعطوا ما لقيصر لقيصر، ولله لله\".وكان يوسف بن يعقوب عليه السلام، عاملاً من العمال، في دولة فرعون مصر.ولا نعرف في تاريخ الرسل من جمع الله له بين الرسالة والملك، إلا قليلاً.فهل كان محمد صلى الله تعالى عليه وسلم ممن جمع الله له بين الرسالة والملك، أم كان رسولاً غير ملك؟(3) لا نعرف لأحد من العلماء رأياً صريحاً في ذلك البحث ولا نجد من تعرض للكلام فيه، بحسب ما أتيح لنا. ولكنا قد نستطيع بطريق الاستنتاج أن نقول: أن المسلم العامي يجنح غالباً إلى اعتقاد أن النبي صلى الله عليه وسلم كان ملكاً رسولاً، وأنه أسس بالإسلام دولة سياسية مدنية، كان هو ملكها وسيدها. لعل ذلك هو الرأي الذي يتلاءم مع ذوق المسلمين العام، ومع ما يتبادر من أحوالهم في الجملة، ولعله أيضاً هو رأي جمهور العلماء من المسلمين، فانك تراهم، إذا عرض لهم الكلام في شيء يتصل بذلك الموضوع، يميلون إلى اعتبار الإسلام وحدة سياسية، ودولة أسسها النبي صلى الله عليه وسلم.وكلام ابن خلدون في مقدمته ينحو ذلك المنحى، فقد جعل الخلافة التي هي نيابة عن صاحب الشرع في حفظ الدين وسياسة الدنيا، شاملة للملك والملك مندرجاً تحتها الخ.لخص رفاعة بك الكلام في الوظائف والعمالات البلدية، خصوصية وعمومية، أهلية داخلية وجهادية، التي هي عبارة عن نظام السلطنة الإسلامية وما يتعلق بها من الحرف والصنائع، والعمالات الشرعية، على ما كان في عهد رسول الله صلى الله عليه وسلم، وجمع في ذلك بين الكلام على خدمه الخاصة به صلى الله عليه وسلم، وما يضاف إلى الإمامة العظمى من الأعمال الأولية، كالوزارة والحجابة وولاية البُدْن والسقاية والكتابة وما يضاف إلى العمالات الفقهية من معلم القرآن ومعلم الكتابة ومعلم الفقه، والمفتي وإمام الصلاة والمؤذن...، ثم ذكر التراجمة وكتابة الجيش والعطاء والديوان الزمام، وبيّن أن للديوان أصلاً في عهد رسول الله صلى الله عليه وسلم، ثم ذكر العمالات المتعلقة بالأحكام، كالإمارة العامة على النواحي، والقضاء وما يتعلق به من إشهاد الشهود وكتابة الشروط والعقود والمواريث والنفقات، والقسام وناظر البناء للتحديد، وذكر المحتسب والمنادي، ومتولي حراسة المدينة، والجاسوس لأهل المدينة، والسجان ومقيمي الحدود.(4) لاشك في أن الحكومة النبوية كان فيها بعض ما يشبه أن يكون من مظاهر الحكومة السياسية وآثار السلطنة والملك.(5) وأول ما يخطر بالبال مثالاً من أمثلة الشؤون الملكية، التي ظهرت أيام النبي صلى الله عليه وسلم، مسألة الجهاد، فقد غزا صلى الله عليه وسلم المخالفين لدينه من قومه العرب، وفتح بلادهم، وغنم أموالهم، وسبي رجالهم ونساءهم، ولاشك في أنه صلى الله عليه وسلم قد امتد بصره إلى ما وراء جزيرة العرب، واستعد للانسياب بجيشه في أقطار الأرض، وبدأ فعلاً يصارع دولة الرومان في الغرب، ويدعو إلى الانقياد لدينه كسرى الفرس في الشرق، ونجاشي الحبشة ومقوقس مصر الخ.وظاهر أول وهلة أن الجهاد لا يكون لمجرد الدعوة إلى الدين، ولا لحمل الناس على الإيمان بالله ورسوله، وإنما يكون الجهاد لتثبيت السلطان، وتوسيع الملك.دعوة الدين دعوة إلى الله تعالى، قوام تلك الدعوة لا يكون إلا البيان، وتحريك القلوب بوسائل التأثير والإقناع فأما القوة والإكراه فلا يناسبان دعوة يكون الغرض منها هداية القلوب، وتطهير العقائد، وما عرفنا في تاريخ الرسل رجلاً حمل الناس على الإيمان بالله بحد السيف، ولا غزا قوماً في سبيل الإقناع بدينه، وذلك هو نفس المبدأ الذي يقرره النبي صلى الله عليه وسلم فيما كان يبلغ من كتاب الله.\"فإن حاجُّوك فقل أسلمتُ وجْهيَ لله ومن أتبعن، وقل للذين أُوتُوا الكتابَ والأميّين أأسلمتم؟ فأن أَسْلموا فقد اهتَدَوا، وإن تولَّوا فإنما عليك البلاغُ، واللهُ بصير بالعباد\".تلك مبادئ صريحة في أن رسالة النبي صلى الله عليه وسلم، كرسالة إخوانه من قبل، إنما تعتمد على الإقناع والوعظ، وما كان لها أن تعتمد على القوة والبطش، وإذا كان صلى الله عليه وسلم قد لجأ إلى القوة والرهبة، فذلك لا يكون في سبيل الدعوة إلى الدين وإبلاغ رسالته إلى العالمين، وما يكون لنا أن نفهم إلا أنه كان في سبيل الملك، ولتكوين الحكومة الإسلامية. ولا تقوم حكومة إلا على السيف، وبحكم القهر والغلبة، فذلك عندهم هو سر الجهاد النبوي ومعناه.(6) قلنا أن الجهاد كان آية من آيات الدولة الإسلامية، ومثالاً من أمثلة الشئون الملكية، وإليك مثلا آخر،:كان في زمن النبي صلى الله عليه وسلم عمل كبير متعلق بالشئون المالية، من حيث الإيرادات والمصروفات، ومن حيث جمع المال من جهاته العديدة، \"الزكاة والجزية والغنائم الخ\" ومن حيث توزيع ذلك كله بين مصارفه، وكان له صلى الله عليه وسلم سعاة وجباة، يتولون ذلك له، ولاشك أن تدبير المال عمل ملكي، بل هو أهم مقومات الحكومات، على أنه خارج عن وظيفة الرسالة من حيث هي، وبعيد عن عمل الرسل باعتبارهم رسلاً فحسب.(7) وقد يكون من أقوى الأمثلة في هذا الباب ما روى الطبري بإسناده، أن النبي صلى الله عليه وسلم وجه أمارة اليمن وفرقها بين رجاله، وأفرد كل رجل بحيِّزه واستعمل عمرو بن حزم على نجران، وخالد بن سعيد بن العاص على ما بين نجران ورِمَع وزبيد، وعامر بن شهر على همدان، وعلى صنعاء ابن باذام، وعلى عك والاشعرين الطاهر بن أبي هالة، وعلى مأرب أبا موسى الأشعري، وعلى الجَنَد يَعْلَى بن أبي أمية، وكان معاذ معلما يتنقل في عمالة كل عامل باليمن وحضرموت الخ.هنالك كثير غير ما ذكرنا قد وجد في العصر النبوي، مما يمكن اعتباره أثراً من آثار الدولة، ومظهراً من مظاهر الحكومة، ومخايل السلطنة، فمن نظر إلى ذلك من هذه الجهة، ساغ له القول بأن النبي صلى الله عليه وسلم كان رسول الله تعالى، وكان ملكاً سياسياً أيضاً.(8) إذا ترجح عند بعض الناظرين اعتبار تلك الأمثلة، واطمأن إلى الحكم بأنه صلى الله عليه وسلم كان رسولاً وملكاً، فسوف يعترضه حينئذ بحث آخر جدير بالتفكير. فهل كان تأسيسه صلى الله عليه وسلم للمملكة الإسلامية، تصرفه في ذلك الجانب شيئا خارجاً عن حدود رسالته صلى الله عليه وسلم، أم كان جزءاً مما بعثه الله له وأوحى به إليه؟فأما أن المملكة النبوية عمل منفصل عن دعوة الإسلام، وخارج عن حدود الرسالة، فذلك رأي لا نَعرِف في مذاهب المسلمين ما يشاكله، ولا نذكر في كلامهم ما يدل عليه، وهو على ذلك رأي صالح لأن يذهب إليه، ولا نرى القول به يكون كفراً ولا الحاداً، وربما كان مجمولاً على هذا المذهب ما يراه بعض الفرق الإسلامية من إنكار الخلافة في الإسلام مرة واحدة.ولا يهو لك أن تسمع أن للنبي صلى الله عليه وسلم عملاً كهذا خارجاً عن وظيفة الرسالة، وأن ملكه الذي شيده هو من قبيل ذلك العمل الدنيوي الذي لا علاقة له بالرسالة، فذلك قول إن أنكرته الأذن، لأن التشدق به غير مألوف في لغة المسلمين، فقواعد الإسلام، ومعنى الرسالة، وروح التشريع، وتاريخ النبي صلى الله عليه وسلم، كل ذلك لا يصادم رأياً كهذا ولا يستفظعه. بل ربما وجد ما يصلح له دعامة وسنداً، ولكنه على كل حال رأي نراه بعيداً.(9) وأما أن المملكة النبوية جزء من عمل الرسالة متمم لها، وداخل فيها، فذلك هو الرأي الذي تلقاه نفوس المسلمين فيما يظهر بالرضا، وهو الذي تشير إليه أساليبهم، وتُؤيده مبادئهم ومذاهبهم، ومن البيّن أن ذلك الرأي لا يمكن تعقله إلا إذا ثبت أن من عمل الرسالة أن يقوم الرسول، بعد تبليغ الدعوة الإلهية بتنفيذها على وجه عملي، أي أن الرسول يكون مبلغاً ومنفذاً معا.(10) غير أن الذين بحثوا في معنى الرسالة، ووقفا على مباحثهم، أغفلوا دائماً أن يعتبروا التنفيذ جزءاً من حقيقة الرسالة، إلا ابن خلدون، فقد جاء في كلامه ما يشير إلى أن الإسلام دون غيره من الملل الأخرى قد اختص بأنه جمع بين الدعوة الدينية وتنفيذها بالفعل، وذلك المعنى ظاهر في عدة مواضع من مقدمته التاريخية، وقد بينه بنوع من البيان في الفصل الذي شرح فيه اسم البابا والبطرك في الملة النصرانية، واسم الكوهن عند اليهود، فقال:\"إعلم أن الملة لابد لها من قائم عند غيبة النبي، يحملهم على أحكامها وشرائعها، ويكون كالخليفة فيهم للنبي فيما جاء به من التكاليف. والنوع الإنساني أيضاً، بما تقدم من ضرورة السياسة فيهم للاجتماع البشري، لابد لهم من شخص يحملهم على مصالحهم، ويَزَعُهم عن مفاسدهم، بالقهر، وهو المسمى بالملك، والملة الإسلامية لما كان الجهاد فيها مشروعاً، لعموم الدعوة، وحمل الكافة على دين الإسلام طوعاً أو كرهاً، اتحدت فيها الخلافة والملك، لتوجه الشوكة من القائمين بها إليها معا، وأما ما سوى الملة الإسلامية فلم تكن دعوتهم عامة، ولا الجهاد عندهم مشروعا، إلا في المدافعة فقط، فصار القائم بأمر الدين فيها لا يعنيه شيء من سياسة الملك، لأنهم غير مكلفين بالتغلب على الأُمم الأُخرى، وإنما هم مطلوبون بإقامة دينهم في خاصة أنفسهم الخ\".فهو كما ترى يقول، أن الإسلام شرع تبليغي وتطبيقي، وأن السلطة الدينية اجتمعت فيه والسلطة السياسية، دون سائر الأديان.(11) لا نرى لذلك القول دعامة، ولا نجد له سنداً، وهو على ذلك ينافى معنى الرسالة، ولا يتلاءم مع ما تقضي به طبيعة الدعوة الدينية كما عرفت، وليكن ذلك القول صحيحاً، فقد بقي مشكل آخر عليهم أن يجدوا له جواباً.إذا كان رسول صلى الله عليه وسلم قد أسس دولة سياسية، أو شرع في تأسيسها، فلماذا خلت دولته أذن من كثير من أركان الدولة ودعائم الحكم؟ ولماذا لم يعرف نظامه في تعيين القضاة والولاة؟ ولماذا لم يتحدث إلى رعيته في نظام الملك وفي قواعد الشورى؟ ولماذا ترك العلماء في حيرة واضطراب من أمر النظام الحكومي في زمنه؟ ولماذا ولماذا! نريد أن نعرف منشأ ذلك الذي يبدو للناظر كأنه إبهام أو اضطراب أو نقص، أو ما شئت فسمه، في بناء الحكومة أيام النبي صلى الله عليه وسلم، وكيف كان ذلك؟ وما سره؟لعل أولئك الذين يصرون على اعتقادهم أن محمداً صلى الله عليه وسلم قام بدعوة إلى دين جديد، وإلى تأسيس دولة جديدة، ويصرون على أن الدولة التي أنشأها النبي صلى الله عليه وسلم كانت توضع أسسها، وتدار شؤونها، وتنظم أمورها، بوحي الله تعالى أحكم الحاكمين، ثم يضطرهم ذلك إلى اعتقاد أن نظام الدولة زمن النبي صلى الله عليه وسلم، بلغ غاية الكمال التي تعجز عنها عقول البشر، وتريد دونها أفكارهم، لعل أولئك إذا سئلوا عن سر هذا الذي يبدو نقصاً في أنظمة الحكم، وإبهاماً في قواعده، قد يلتمسون للجواب إحدى تلك الخطط التي سنأخذ الآن في بيانها.(12) أما صاحب كتاب تخريج الدلائل السمعية ـ ويوافقه رفاعة بك ـ فقد وجد له من ذلك المأزق مخلصاً سهلاً، فزعم أن الحكومة كانت تشتمل في زمن النبي صلى الله عليه وسلم على كل ما يلزم للدولة من عمال وأعمال، وأنظمة مضبوطة، وقواعد محدودة، وسنن مفصلة تفصيلاً، لا مجال بعده لجديد، ولا زيادة لمستزيد.(13) قد يقول قائل يريد أن يؤيد ذلك المذهب بنوع من التأييد، على طريقة أخرى: أنه لا شيء يمنعنا من أن نعتقد أن نظام الدولة زمن النبي صلى الله عليه وسلم كان متيناً ومحكماً، وكان مشتملاً على جميع أوجه الكمال، التي تلزم لدولة يدبرها رسول من الله، يؤيده الوحي، وتؤازره ملائكة الله، غير أننا لم نصل إلى علم التفاصيل الحقيقية، ودقائق ما كانت عليه الحكومة النبوية، من نظام بالغ، وإحكام سابغ، لأن الرواة قد تركوا نقل ذلك إلينا، أو أنهم نقلوه، ولكن غاب علمه عنا، أو لسبب آخر، \"وما أُوتيتم من العلم إلا قليلاً\".(14) تلك خطة لا ينبغي أن يرفضها لأول وهلة عقل العلماء. فإنه لا حرج على نفوسنا أن يخالطها الشك في أننا نجهل كثيراً من شؤون التاريخ النبوي، بل الواقع أننا نجهل منه ومن غيرها أكثر مما نعرف.على أهل العلم أن يؤمنوا دائماً بأن كثيراً من الحقائق محجوب عنهم، وعليهم أن يدأبوا أبداً في كشف مغيبها، واستنباط الجديد منها، ففي ذلك حياة العلم ونماؤه، غير أن احتمال جهلنا ببعض الحقائق لا ينبغي أن يمنعنا من الوثوق بما علمنا منها، واعتبارها حقائق علمية، نبني عليها الأحكام، ونقيم المذاهب، ونبين لها الأسباب، ونستخلص منها النتائج، حتى يظهر لنا ما يخالفها.فنسأل من جديد عن منشأ ذلك الذي عرفنا إلى الآن من الإبهام والاضطراب في نظام الحكومة النبوية، وعن سره ومعناه.(15) هنالك خطة أخرى للجواب عن ذلك السؤالذلك أن كثيراً مما نسميه اليوم أركان الحكومة، وأنظمة الدولة، وأساس الحكم،، إنما هي اصطلاحات عارضة، وأوضاع مصنوعة، وليست هي في الواقع ضرورية لنظام دولة تريد أن تكون دولة البساطة، وحكومة الفطرة، التي ترفض كل تكلف، وكل ما لا حاجة بالفطرة البسيطة إليه.وكل ما يمكن ملاحظته على الدولة النبوية يرجع عند التأمل إلى معنى واحد، ذلك هو خلوها من تلك المظاهر التي صارت اليوم عند علماء السياسة من أركان الحكومة المدنية، وهي في حقيقة الأمر غير واجبة، ولا يكون الإخلال بها حتما نقصاً في الحكم، ولا مظهراً من مظاهر الفوضى والاختلال، فذلك تأويل ما يلاحظ على الدولة النبوية مما قد يعد اضطراباً.(16) كان محمد صلى الله عليه وسلم يحب البساطة، ويكره التكلف، وعلى البساطة الخالصة التي لا شائبة فيها قامت حياته الخاصة والعامة، كان يدعو إلى البساطة في القول والعمل، كما في حديثه مع جرير بن عبد الله البجلي \"يا جرير إذا قلت فأوجز، وإذا بلغت حاجتك فلا تتكلف\".كان يعاشر الناس من غير تكلف، ويجري معهم على منهج البساطة، وقد \"روي أنه صلى الله عليه وسلم كان يمازح أصحابه... وعن ابن عباس رضي الله عنهما: كانت في النبي صلى الله عليه وسلم دعابة\" وكان يقول لأصحابه \"إني أكره أن أتميز عليكم، فأن الله يكره من عبده أن يراه متميزاً بين أصحابه\" وروي أنه صلى الله عليه وسلم \"ما خُيّر بين أمرين إلا اختار أيسرهما ما لم يكن إثْماً\".كان صلى الله عليه وسلم يكره الرياء والتكلف، ويقول في حجة الوداع \"اللهم اجعله حجاً مبروراً، لا رياء فيه ولا سمعة\" وقال الله تعالى مخاطباً له عليه السلام \"قُل ما أسألكم عليه من أجْرٍٍ وما أنا من المتكلفين\" وكان فيما يبلغ عن شريعة الله تعالى يأمر الناس بالقواعد البسيطة، وينهاهم عن التكلف، ويناديهم \"إذا أمرتكم بأمر فأتوا منه ما استطعتم\" \"وأن هذا الدين متين فأوغل فيه برفق\" \"وما جَعل عليكم في الدين من حَرج\".ولا تجد فيما جاء به من الشرائع حكماً يرجع إلا إلى المبادئ الأمية الساذجة. فلم يكلفهم في أوقات الصلاة أن يحسبوا درج الشمس، ولا مطالع النجوم، بل جعل مناط ذلك ما يحس به كل إنسان من حركة الشمس المشاهدة في السماء، وجعل الصوم والحج ومناسك العبادة متصلة بحركة القمر، وحركة القمر محسوسة لا تحتاج إلى حساب ولا رصد، ولم يكلفنا في الصوم أن نحسب لهلال رمضان، بل جعل ذلك منوطاً برؤية الهلال رؤية بسيطة لا تكلف فيها، وجاء في ذلك الحديث \"نحن أمة أمية الخ\" وحديث صوموا لرؤيته الخ، ولم يكلفنا حساب اليوم بالساعات والدقائق، بل ربطه كذلك بالشيء المحسوس، الذي لا خفاء فيه \"وَكُلوا واشْربُوا حتى يَتَبيّنَ لكمُ الْخَيْطُ الأَبيضُ من الخيْطِ الأسودِ من الفجر ثم أَتمُّوا الصّيامَ إلى الليْلِ\".كان صلى الله عليه وسلم أمياً ورسولاً إلى الأميين، فما كان يخرج في شيء من حياته الخاصة والعامة ولا في شريعته عن أصول الأمية، ولا عن مقتضيات السذاجة والفطرة السليمة التي فطر الله الناس عليها، فلعل ذلك الذي رأينا في نظام الحكم أيام النبي صلى الله عليه وسلم هو النظام الذي تقضي به البساطة الفطرية. ولا ريب في أن كثيراً من نظم الحكم في الوقت الحاضر إنما هي أوضاع وتكلفات، وزخارف طال بنا عهدنا فألفناها، حتى تخيلناها من أركان الحكم وأصول النظام، وهي إذا تأملت ليست من ذلك في شيء.إن هذا الذي يبدو لنا إبهاماً أو اضطراباً أو نقصاً في نظام الحكومة النبوية لم يكن إلا البساطة بعينها، والفطرة التي لا عيب فيها.(17) لو كنا نريد أن نختار لنا طريقاً من بين تلك الطرق التي قصصنا عليك، لكان ذلك الرأي أدنى إلى اختيارنا، فإنه بالدين أشبه. لكنا لا نستطيع أن نتخذه لنا رأياً، لأنك إن تأملت وجدته غير وجيه ولا صحيح.حق أن كثيراً من أنظمة الحكومات الحديثة أوضاع وتكلفات، وأن فيها ما لا يدعو إليه طبع سليم، ولا ترضاه فطرة صحيحة، ولكن من الأكيد الذي لا يقبل شكاً أيضاً أن في كثير مما استحدث في أنظمة الحكم ما ليس متكلفاً ولا مصنوعاً، ولا هو مما ينافي الذوق الفطري البسيط، وهو مع ذلك ضروري ونافع، ولا ينبغي لحكومة ذات مدنية وعمران أن تهمل الأخذ به.وهل من سلامة الفطرة وبساطة الطبع مثلاً أن لا يكون لدولة من الدول ميزانية تقيد إيرادها ومصروفاتها، أو أن لا يكون لها دواوين تضبط مختلف شؤونها الداخلية والخارجية، إلى غير ذلك ـ وأنه لكثير ـ مما لم يوجد منه شيء في أيام النبوة، ولا أشار إليه النبي صلى الله عليه وسلم.إنه ليكون تعسفاً غير مقبول أن يعلل ذلك الذي يبدو من نقص المظاهر الحكومية زمن النبي صلى الله عليه وسلم بأن منشأة سلامة الفطرة، ومجانبة التكلف.فنلتمس وجهاً آخر لحل ذلك الإشكال.---------------------------المصدر : الإسلام وأصول الحكم\n",
            "Error: the JSON object must be str, bytes or bytearray, not NoneType\n"
          ]
        },
        {
          "name": "stderr",
          "output_type": "stream",
          "text": [
            "Translating texts:  98%|█████████▊| 47281/48483 [1:57:41<53:31,  2.67s/it]"
          ]
        },
        {
          "name": "stdout",
          "output_type": "stream",
          "text": [
            "Translation failed for text: الصوت روح في مجال المسرح و الشعر ، و فى المجال الأدبي عموما معروف .. ان هناك ادب بيتم تطويع المواضيع و الافكار له ..، و ادب بيتم تطويعه و استخدامه لعرض الافكار و المواضيع من خلالهفي المسرح مثلا عندنا تجارب لتوفيق الحكيم و لدكتور مصطفى محمود من مسرحيات هي فنيا قد تكون غير صالحة باعتراف اصحابها ذاتهم .. لكنها على مستوى عرض الموضوع و الفكرة ناجحة طبعا ..،كذلك فى الشعر .. هناك اشعار بيتم تطويع المواضيع و الأفكار لها .. و هناك اشعار بيتم تطويعها و استخدامها لعرض الافكار و المواضيع و الأحداث .. الشئ اللى بيجعل الجانب الفني فيها مجور عليه و ديوان (دول العرب و عظماء الإسلام) لأمير الشعراء أحمد شوقي مثلا هو واحد من هذه الأدبيات التى جار صاحبها على الجانب الفنى فيها ، لصالح المواضيع و الافكار التى طرحها من خلال اشعاره ، و ليس ذاك لمشكلة ما او نقص في حس الشاعر او موهبته و انما ذاك لثقل و تعقيد وكثافة التجربة التي مر بها الشاعر و التي أبت عليه شعريا كفكرة مجملة .. و هو احوج مايكون الى التعبير عنها مجملا مما دفع به الى ذلك الأسلوب لا ابتذالا او تهاونا و لكن رغبة منه في ان يهتف بها جملة واحدة بشكل مباشر و صريح للتنفيس و لمشاركة الناس بها .. و كذلك اعترف بأننى قد جرت على الجانب الفني في الجزء الأول من الكتاب (الأصوات) لصالح الموضوع و الحدث .. و لكنه ليس جور لايغتفر .. فـ (الأصوات) هي اشعار غنائية على أي حال أي أن مباشرتها مغفورة ! هي ايضا أشعار .. تسمع .. لا تقرأ .. تسمع مغناة :) .. و هو مادفعنى لوسمها بـ (أصوات) منذ البداية ، وعموما فـ (الصوت روح) هو كارت تعارف مابيني و بين القراء ليس الا و لا أعده تجربة جدية في الكتابة على أية حال ... هدى عويس *****الكاتبة مطربة موسيقى عربية في الأساس ... ، قررت ان تستقل و تغنى اغانيها الخاصة و ان تخرج من عباءة الغناء النمطى و الكلمات النمطية للغناء العربى عن الهيام و الهجران و اللوعة و ما الى ذلك ، و بعدما ارهقها البحث عن الكلمات المناسبة التى تستطيع من خلالها خدمة رسالتها و افكارها و كل ما هي مؤمنة به .. قررت أن (توفر أجرة شاعر) ! و ان تقدم بصوتها (بروحها) لكل ذلك ... لم لا ؟ و هي تملك الموهبة اللازمة للقيام بذلك فقد كان لها العديد من المحاولات الادبية في سنوات نشأتها الأولى ، انقطعت بعدها لفترة طويلة (جدا) عن الكتابة لأسباب قهرية .. الا انها الآن تحاول نفض الغبار عن موهبتها تلك و تجديدها مادامت الحاجة تدعو الى ذلك ، و لقد وفقت في تأليف اشعار الكتاب كلها في حوالى اسبوعين من اواخر ابريل و اول مايو 2014 عدا (يحيا الارهاب) و (ضلع اعوج) ...، هي ايضا تؤمن بأن (الصوت روح) و هذا ماعبرت عنه و حاولت ايصاله الى القارئ من خلال صفحات الكتاب  *****بداية استعانت الكاتبة برمزية (مأذنة المسجد) في صورة الغلاف للتعبير عن رسالتها الروحية و الفكرية ..الكتاب بيعرض لثنائية ضدية مابين الحسى و الروحى (الصوت و الروح) و بيطرحها من منظور جديد بيجعل منها تكاملية بشكل ما و دا من خلال مقدمة مبسطة في بداية الكتاب ، بعدها بتستخدم الكاتبة بعض الأشعار العامية و اللى دورها في المقام الأول بيحدد كـ (موديل) ان صح التعبير لتوضيح نظريتها او للتدليل عليها .. و ان كانت الأشعار دي قيمتها و دورها لايتعدوا (كونها موديل) لطرح فكرة الكاتبه .. الا انه بيشفعلها في النهاية انها كتبتهم باخلاص حقيقي لهذه القضايا (و الأصوات) اللى عرضت لهم من خلالها بعدها بتقدم الكاتبه لـ (صوتها) كأي كاتب آخر ! (فأي كاتب من وجهة نظرها بيعرض لصوته و لوجهة نظره الذاتية من خلال كتاباته و دراساته و اشعاره .. الخ مهما ادعى الموضوعية) .. من خلال خواطر روحانية عن الوجود و الكون و الدين مشوبه ببعض الرؤى الفلسفية .. .. بتتحدى من خلالها النظرة المادية لتك القضايا و اللى استفحلت في مجتمعاتنا خلال الفترة الأخيرة و في الختام بعض المحاولات الشعرية اللى كتب اغلبها في ربيع 2014 و اللى بتستمر الكاتبه من خلالها في عرض (صوتها) رؤاها الروحانيه و الفلسفيه و الحياتية ايضا و لكن بنظم شعرىالكاتبه اشارت في البداية لـ (معجم)بالكلمات العامية المصرية في الكتاب .. و بالنسبه لها كانت فكرة موفقة على المستوى الشخصى على الأقل لأنها بتعتقد في قدرة اللغات السامية على الاستمرار و العربية هنا بالأخص لكونها لغة القرآن الكريم .. فعلى المحور المكانى في الوقت الحاضر و على المحور الزمانى مستقبلا لمواجهة تطويع اللغة لمقتضيات عصرها و ما يستتبع دا من اختلاف اللهجات على المستوى المكانى في نفس العصر او على المستوى الزمانى على نفس المكان وجدت اهمية من المنطلق دا لوضع معجم لترجمة اللغة العاميه المصرية على اساس محور ثابت ألا و هو (اللغة العربيه الأم) ، اذن فاستخدامها للعامية لم يكن دعوة ، او مشاركة منها في دعوة الى استخدام العامية عوضا عن العربية الفصحى ، و انما تعاملا مع واقع  الا انها ما وفقتش في المراجعه اللغوية و فشلت في تحقيق هدفها دا بسبب من استعجالها على تقديم نفسها للقراء ككاتبه و لقلقها من وصول خبر الكتاب للسلطات قبل تسجيله و توثيقه بدار الكتب ، ما جعلها تغفل عن هذه النقطة المهمه ، نقطة  (مراجعة كتابها لغويا).. و ان كانت تستغرب من انتقد عدم مراجعة (الأشعار العامية) بالكتاب (لغويا) ! ، فان كان من المفهوم ضرورة مراجعة العربية الفصحى لغويا ، فمن غير المفهوم او حتى المقبول ادعاء (نموذج) معين للعامية او القول بأن لها قواعد لغوية و اصول ! ، و عن تلك الجزئية خصوصا علقت الكاتبة ، بأن من عاب عليها بمثل هذا القول خصوصا ، هو اما مدعي سفيه او جاهل لا ريب ! و عن استخدامها للغة العاميه من اساسه فقد ارجعته لمحاولة منها لاجتذاب فئة معينه من الشباب يهمها ان تصل رسالتها اليهم لأنها الفئة الأكثر استهدافا من قبل المنظمات العلمانية و اصحاب المذاهب المادية ..و هي فئة يجتذبها هذا اللون من الأدب العامى على حد علمها سواء مقالة او اشعار .ايضا عن تأثرها بأسلوب الأستاذ و الدكتور (مصطفى محمود) رحمه الله فهي لم تنكره .. بل على العكس فقد اعتبرت هذا التأثر الواضح بالأسلوب المنهجى و الأدبى لـ (أستاذها)على حد وصفها مدعاة لفخرها  *****إفتتاحية الكتاب :مأذنة المسجد .. كانت أهم وسيلة اعلام في مجتمعنا الاسلامي على مر العصور .. لذا حينما قررت أن أخرج الى النور أول كتبي (الصوت روح) و الذي عبرت فيه عن جزء مهم من رسالتي .. تلك الكلمة التي خلقت من أجلها .. أو خلقت لأكونها .. لم أجد أفضل من مأذنة المسجد .. كوسيلة اعلام أدشن من عليها .. و أنادي بـ .. رسالتي تلك .. و كان لي الشرف أن اعتلي في سبيل ذلك مأذنة الأزهر الشريف .. و التي تعد من أهم منابرنا على الاطلاق ، و قد يسر الله لي الأمر بعد دعاء و تسليم .. و ها أنا ذا .. و ها هو كتابي اليوم بين يديكم فـ .. بسم الله\n",
            "Error: the JSON object must be str, bytes or bytearray, not NoneType\n"
          ]
        },
        {
          "name": "stderr",
          "output_type": "stream",
          "text": [
            "Translating texts:  99%|█████████▊| 47827/48483 [2:07:11<38:13,  3.50s/it]"
          ]
        },
        {
          "name": "stdout",
          "output_type": "stream",
          "text": [
            "Translation failed for text: علم الإجتماع الآلي قراءة في كتاب \"علم الاجتماع الآلي \" إن كتاب \"علم الاجتماع الآلي \"هو عنوان الكتاب الصادر حديثا عن \"عالم المعرفة \"، وهي سلسلة شهرية يصدرها المجلس الوطني للثقافة والفنون والآداب بالكويت.الكتاب في 255 صفحة، هو عبارة عن مقاربة في علم الاجتماع العربي والاتصال عبر الحاسوب، لمؤلفه الدكتور \"علي محمد ميلاد بن رحومة\"، وهو من مواليد مارس 1957 بطرابلس بليبيا، اختصاصي نظم الحاسوب وباحث في المعلوماتية والاجتماع الافتراضي. - يعتبر هذا الكتاب عرضا جامعا لعلم جديد يدرس الإنسان في علاقته مع الحاسوب والحاسوب مع الإنسان وكيف يكون التفاعل بين الكيانين واحد طبيعي والآخر صناعي. إن كتاب \"علم الاجتماع الآلي \"هو عنوان الكتاب الصادر حديثا عن \"عالم المعرفة \"، وهي سلسلة شهرية يصدرها المجلس الوطني للثقافة والفنون والآداب بالكويت. الكتاب في 255 صفحة، هو عبارة عن مقاربة في علم الاجتماع العربي والاتصال عبر الحاسوب، لمؤلفه الدكتور \"علي محمد ميلاد بن رحومة\"، وهو من مواليد مارس 1957 بطرابلس بليبيا، اختصاصي نظم الحاسوب وباحث في المعلوماتية والاجتماع الافتراضي، حاز على العديد من الدرجات منها الإجازة الدقيقة ودكتوراه في علم الاجتماع (مجال المعلوماتية) بموضوع الأطروحة: \"المنظومة التيكنو-اجتماعية للانترنيت \" جامعة الفاتح طرابلس ليبيا 2004.عمل في عدة شركات في مجال الحاسوب والتخطيط والمعلومات وله نشاط تدريسي وتدريبي نشر عددا من مساهماته الأدبية والفكرية في الصحف والمجلات المحلية والعربية وصدرت له كتب منها الانترنيت والمنظومة التيكنو-اجتماعية بحث تحليلي في الآلية والتقنية للانترنيت ونمذجة منظومتها الاجتماعية بيروت مركز دراسات الوحدة العربية 2002 - نقل وتوطين المعرفة التيكنولوجية في التنمية الصناعية... - مدخل يعتبر علم \"الاجتماع الآلي\" هو الذي يهتم بالحركة البشرية المرقمنة في العالم الافتراضي، حيث يتناول أسس ومبادئ وأصول العلم الذي يدرس الإنسان المرقمن. يجمع هذا العلم الجديد بين علوم الحاسوب وعلوم الاجتماع، حيث يهدف إلى بحث مسألة الاتصال عبر الحاسوب ونشوء ما يسميه الكاتب \"الاجتماعية الإنترنيتية\"، إذ يتفاعل الإنسان مع الحاسوب وتحوله إلى إنسان رقمي افتراضي يعيش على الشبكة المعلوماتية ويتواصل مع أخيه الإنسان في كافة أنحاء عالمنا. فالحاسوب أصبح جزء رئيسيا في حياتنا اليومية وضروريا لمختلف العلوم والمعارف من أجل تحقيق النمو الحضاري. لدى يدعو المؤلف العالم العربي إلى البحث ومتابعة ما يكتب حول الشبكة الدولية للمعلومات من طرف مراكز البحوث والتطوير في دول غربية واليابان..كما يدعو الدول العربية إلى تشجيع البحث العلمي التكنولوجي والاجتماعي لتحقيق التنمية. - نشوء ميدان البحث يعود المؤلف إلى منتصف التسعينيات حيث ظهرت أولى خطوات حقل معرفي جديد للدراسة والبحث وسرعان ما تطور وتقدم بأسماء مختلفة فنجد مثلا: دراسات الثقافة السايبرية والاتصال عبر الحاسوب ودراسات الإنترنت والمعلوماتية الاجتماعية، وفي عام 1996 عقدت في النمسا ندوة حول الفضاء السايبري: النظريات والمجازات بهدف فهم تأثيرات النمو المتزايد لشبكات الحواسيب الكونية كالإنترنت وشبكة الويب العالمية من اجل تطوير نماذج لتطوير هذه الشبكات وكيف ستؤثر في الأفراد والمجتمع على كل المستويات. ولقد كان التركيز على موضوعات السبرانية كنظرية اتصالات ومعلومات وتحكم يمكن تطبيقها في بناء النماذج المادية للشبكات مع الأخذ في الاعتبار منظورات علم الاجتماع وعلم المستقبليات والذكاء الاصطناعي والنظم المعقدة وتفاعل الإنسان مع الحاسوب وعلم النفس. و يخلص الكتاب في تعريفه بعلم الاجتماع الآلي إلى انه العلم الذي تندرج تحته أبحاث تخصصية مثل علم اجتماع التكنولوجيا وعلم اجتماع تكنولوجيا المعلومات، وعلم اجتماع المعلوماتية، والمعلوماتية الاجتماعية، وعلم اجتماع الإنترنت، وعلم اجتماع الويب، والدراسات السايبرية ودراسات الإنترنت، وبشكل اخص علم الاجتماع الإلكتروني وعلم الاجتماع الرقمي وعلم الاجتماع السايبري وعلم الاجتماع الافتراضي - الإنسوب ومجتمع الحاسوب لقد أصبحت البشرية تعيش في وسط جديد، وسط الاتصال الإلكتروني (الإنترنت) حتى تحول الإنسان الطبيعي إلى إنسان-آلة أو إنسان-حاسوب أو ما يسميه المؤلف \"الإنسوب\" وهي اختصار لكلمة \"الإنساسوب\" (الإنسان- الحاسوب) دلالة على برنامج ذكي أو واقع افتراضي، إنه \" مركب رقمي، لا جسد له، بل ذات- مجتمع، قد يكون مجرد برنامج حاسوب أو فرعا من برنامج\". إن علم الاجتماع الآلي يتفرع إلى علم اجتماع الوسط المجتمعي الجديد (وسط الإنترنت، فضاء سايبيري...)، \"إنه الفضاء الآلي الذي يحوينا شكلا ومضمونا فنكون كما ينبغي لنا أن نكون في عصر المعلومات، ومجتمع المعرفة، افرادا وجماعات ومنظمات رقمية، مرقمنين مبنى ومعنى...\". ... كما يحاول المؤلف في الفصل الأول أن يدرس مجتمع الحاسوب حيث يبين للقراء كيف أصبح الحاسوب جزء مهم في حياتنا اليومية، حيث \" تربع الحاسوب على عجلة القيادة الحضارية (المدنية)، فنحن لا نستطيع أن نقود من دون بصماته في أصابعناـ وإيحاءاته في أفكارنا وأحاسيسنا، ولا نستطيع حتى رؤية الحياة الراهنة من دون عينه، تضئ ما اظلم علينا في سابق الزمان، وسالف العصر والألوان\". - المجتمعات الافتراضية \"بديلا\" عن المكان الثالث يتطرق علم الاجتماع الحديث إلى ضياع مفهوم المجتمع المحلي الذي ضاع في خضم تحولات التحديث المجتمعات الغربية، حيث أصبح ما يسمى \"المكان الثالث\" شبه غائبا. وهو ما يسمى بالأمكنة الاجتماعية لتي يرتاح فيها الناس من الأعباء اليومية (النوادي، المقاهي...) وهي ضرورية لتحقيق الترابط الاجتماعي. ... يشير المؤلف إلى تراجع \"المكان الثالث\" في المجتمعات الغربية الحديثة، الأمر الذي جعل المجتمعات على الخط (الإنترنت) تلقى القبول لدى مستخدمي الشبكة، \" في \" أمكنة ثالثة\" رقمية؛ مثل غرفة الدردشة، جماعات الأخبار، البريد الإلكتروني...\". و يبحث الكاتب في الفصلين الثالث والرابع مفهوم المجتمعات الافتراضية، حيث يبين كيف انتشرت \"المجتمعات على الخط \" ونجحت في إشباع الحاجات الاجتماعية للإنسان (التعارف، التواصل مع الآخر...) لقد ساهمت تكنولوجيا المعلومات والاتصالات في تطوير المجتمعات المتنوعة لشبكات الحواسب المختلفة، على المستوى الاجتماعي ولتفاعلي الثقافي والتجاري والاتصالي بأنواعه المتنوعة (البريد الإلكتروني، الدردشة...). - الاتصال وبنية المجتمع على الخط في الفصل الخامس يناقش تقنيات الاتصال وبنية المجتمع على الخط، بعناصره الاجتماعية التي يتركب من مكوناتها البناء الافتراضي للجماعات الرقمية. ويعرض أهم مراحل التطوير والتقييم التي تمر بها الحركة الإلكترونية للمجتمعات الشبكية..وفي الأخير يتناول أهم الوسائل المستخدمة في الاتصال عبر الحاسوب، مبرزا ميزات وعيوب كل تكنلوجيا (قوائم البريد، جماعات الأخبار، الدردشة النصية، البريد الإلكتروني المدونات..). - الثقافة الرقمية يتطرق الكاتب إلى ما يسمى ب\"النظرية السايبرية\" Cyber Theory التي ترتكز على وجود الفضاء الافتراضي كحقيقة لها أبعادها المختلفة في الإنترنت، حيث يعتبر \"الفضاء السايبيري مجالا رقميا إلكترونيا، يوجد داخل مسافات متشابكة من خطوط وقنوات الاتصالات المعدنية والضوئية والهوائية في الانترنت (...) ومن خلال هذا الفضاء، يحدث التفاعل البشري الآلي عقليا، ونفسيا، واجتماعيا، بمختلف الحواس الإنسانية وكذلك الآلية\". في هذا الفضاء أيضا يتشكل مجتمع الإنترنت، متكونا من أعضائه الكونيين، الأفراد الجماعات البشريين في علاقاتهم بعضهم ببعض، بمختلف الخصائص التي تفرضها هذه البيئة الإنسانية الآلية.\" كلمة «النظريّة السايبريّة» Cybertheory مشتقة من الكلمة الإنكليزية المستعملة لوصف فضاء الإنترنت: «سايبر سبايس» Cyberspace، أما الكلمة («سايبر») التي صاغها الروائي \"ويليام غبسون\"، فقد وضعها حين بحث عن اسم ما لوصف رؤيته عن شبكة حاسوب كونيّة تربط الناس والآلات ومصادر المعلومات، والتي من خلالها يمكن المرء أن يتحرّك كأنه يبحر في فضاء افتراضي... ... وتُشتق الكلمة «سايبر» cyber من الفعل اليوناني «كيبرنو» kubernao الذي يعني «يقود»أي \"يحكم\"، وتطلق «السبرانيّة» Cybernetics اسما لعلم الاتصالات والمعلومات والتحكّم؛ وبالتالي تشمل كلمة \" السايبري \" معنيين: «الملاحة» navigation خلال فضاء من البيانات الإلكترونيّة، إضافة إلى التحكّم Control الذي يتحقّق عبر معالجة تلك البيانات. ... يحتوي الفضاء السايبري \"علماً رقميّاً من صنع الإنسان\"، يستطيع استيعاب مختلف موارد المعلومات المتاحة من خلال شبكات الحواسيب. ويرسم صورة عن ثقافة رقميّة، تتحرك ضمن بيئة تفاعلية يصنعها مستخدمو الإنترنت ببرامجهم المتنوعة. ويلاحظ الكتاب أن كل مجتمع يطوّر ثقافته الافتراضية الخاصّة بسبب عوامل عديدة (ديموغرافيا المشاركين واهتماماتهم المشتركة، والطريقة التقنيّة لإعداد الشبكة المستخدمة، وكذلك نوعية برامج الحاسوب التي يميل إليها الجمهور...). كما يؤكد المؤلف على أن \"الفضاء السايبري يتيح فرصة تمثل مختلف أنواع الهويات، بشتى خلفياتها الاجتماعية والثقافية والعرقية...إذ يتشكل المجتمع السايبري في أي مساحة إلكترونية بصورة متوزعة، على أكبر نطاق ممكن في شكل لامركزي، ويتجاوز بذلك المشاركون عوائق الاتصال الحدودية تقنيا واجتماعيا\" فيتجاوزون موانع دواتهم لإبراز مواهبهم وطاقاتهم الشخصية... - نحو بحث اجتماعي آلي رصين يشير الدكتور محمد رحومة إلى بعض الاعتبارات التي على الباحثين أن يهتموا بها بغرض القيام بالبحث السايبيري على الإنترنت، كما يتطرق في الفصل السابع إلى عدد من المناهج البحثية والأساليب العملية التي يمكن اتباعها لإجراء بحوث الإنترنت، بهدف اكتشاف المجتمعات الافتراضية ودراستها مع الإشارة إلى أهم الوسائل الإلكترونية المستخدمة في البحث العلمي. العلوم الاجتماعية العلوم الاجتماعية http://hamdisocio.blogspot.com العلوم الاجتماعية...للدراسات والأبحاث الاجتماعية، ومقالات علم الاجتماع والخدمة الاجتماعية، وعلم النفس والفلسفة، وباقي فروع العلوم الاجتماعية الأخرى. علوم اجتماعية, علم اجتماع، خدمة اجتماعية، علم نفس، فلسفة، انثروبولوجيا,، تدريب ميداني، مقالات، أبحاث، دراسات، رسائل، ماجستير، دكتوراه، كتب علمية، نظريات، بحوث ودراسات، معلومات أكاديمية، ترجمة نصوص، مناهج بحث، ندوات ومؤتمرات، دوريات، أخبار. العلوم الاجتماعية\n",
            "Error: the JSON object must be str, bytes or bytearray, not NoneType\n"
          ]
        },
        {
          "name": "stderr",
          "output_type": "stream",
          "text": [
            "Translating texts: 100%|█████████▉| 48403/48483 [2:16:34<04:11,  3.15s/it]"
          ]
        },
        {
          "name": "stdout",
          "output_type": "stream",
          "text": [
            "Translation failed for text: ከአድማስ ባሻገር ከአድማስ ባሻገር\n",
            "Error: No features in text.\n"
          ]
        },
        {
          "name": "stderr",
          "output_type": "stream",
          "text": [
            "\rTranslating texts: 100%|█████████▉| 48404/48483 [2:16:43<06:05,  4.62s/it]"
          ]
        },
        {
          "name": "stdout",
          "output_type": "stream",
          "text": [
            "Translation failed for text: የተቆለፈበት ቁልፍ የታሪኩ ዋነኛ ገጸባህርያትን ተከትሎ በብዙ ሰዎች እና ቤተሰቦች ዙሪያ የሚያጠነጥነው ይህ ታሪክ በኢትዮጵያና በአሜሪካ የተከወነ ሲሆን በውስጡም ፍቅርና-ቅናት፣ ክፋትና-ደግነት፣ ጭካኔና-ርህራሄ፣ ድህነትና-ስኬት ይንጸባረቁበታል፣ ይፈራረቁበታል። ከገጠር እስከ ከተማ፣ ከቤት ቤት ይዞራል፧፧ በታሪኩ ዉስጥ የተቆላለፉ ጉዳዮች እስኪፈቱ አንባቢ ከራሱ አእምሮና አስተሳሰብ ጋር ፊትለፊት ይላተማል፧፧ የሰው ኑሮው፣ የቤተሰብ ደረጃውና የአገር ልኩ ከአስተሳሰብ እንደማይዘልና አስተሳሰብም ሳይቀየር የሰውን ኑሮ የሀገርንም መልክ መቀየር እንደማይቻል ማሳየት ብቻ ሳይሆን መንገድና አቅጣጫንም ይጠቁማል።\n",
            "Error: No features in text.\n"
          ]
        },
        {
          "name": "stderr",
          "output_type": "stream",
          "text": [
            "\rTranslating texts: 100%|█████████▉| 48405/48483 [2:16:51<07:10,  5.52s/it]"
          ]
        },
        {
          "name": "stdout",
          "output_type": "stream",
          "text": [
            "Translation failed for text: ፍቅር እስከ መቃብር ደራሲ ሐዲስ አለማየሁ የኖሩበትን የፊውዳሉን ዘመን ባህል፣ አስተሳሰብ እንዲሁም የአኗኗር ዘይቤ በዘመኑ ያልተፈጠረን አንባቢን ጭምር በምናቡ ዘመኑን እየሳለ ያልኖረበትን ዘመን ጣእም እንዲያጣጥም ያስቻለበት ድንቅ የፍቅር መጽሐፍ ነው። በኢትዮጵያ ዘመናዊ የአማርኛ የልቦለድ ስነጽሑፍ ታሪክ በብዙ ጸሐፍት ቁንጮ ስፍራን የያዘም ነው።\n",
            "Error: No features in text.\n"
          ]
        },
        {
          "name": "stderr",
          "output_type": "stream",
          "text": [
            "Translating texts: 100%|██████████| 48483/48483 [2:17:52<00:00,  5.86it/s]"
          ]
        },
        {
          "name": "stdout",
          "output_type": "stream",
          "text": [
            "done\n"
          ]
        },
        {
          "name": "stderr",
          "output_type": "stream",
          "text": [
            "\n"
          ]
        }
      ],
      "source": [
        "# Apply the translation for both book_title and book_desc\n",
        "dataset = translate_non_english_rows(dataset=dataset, text_columns=['book_title', 'book_desc'])\n",
        "print('done')\n"
      ]
    },
    {
      "cell_type": "markdown",
      "metadata": {},
      "source": [
        "# This Cells"
      ]
    },
    {
      "cell_type": "code",
      "execution_count": 16,
      "metadata": {
        "colab": {
          "base_uri": "https://localhost:8080/",
          "height": 423
        },
        "id": "2FD4LDdpySsp",
        "outputId": "e63446e3-4e6e-4a33-f993-d6591ef3c62f"
      },
      "outputs": [
        {
          "data": {
            "text/html": [
              "<div>\n",
              "<style scoped>\n",
              "    .dataframe tbody tr th:only-of-type {\n",
              "        vertical-align: middle;\n",
              "    }\n",
              "\n",
              "    .dataframe tbody tr th {\n",
              "        vertical-align: top;\n",
              "    }\n",
              "\n",
              "    .dataframe thead th {\n",
              "        text-align: right;\n",
              "    }\n",
              "</style>\n",
              "<table border=\"1\" class=\"dataframe\">\n",
              "  <thead>\n",
              "    <tr style=\"text-align: right;\">\n",
              "      <th></th>\n",
              "      <th>book_title</th>\n",
              "      <th>book_desc</th>\n",
              "    </tr>\n",
              "  </thead>\n",
              "  <tbody>\n",
              "    <tr>\n",
              "      <th>0</th>\n",
              "      <td>\"Break the Casanova's Heart\" Operation</td>\n",
              "      <td>Operation Break the Casanova's Heart10 Steps t...</td>\n",
              "    </tr>\n",
              "    <tr>\n",
              "      <th>1</th>\n",
              "      <td>\"El Aleph\" de Jorge Luis Borges</td>\n",
              "      <td>De los muy pocos manuscritos que se conservan ...</td>\n",
              "    </tr>\n",
              "    <tr>\n",
              "      <th>2</th>\n",
              "      <td>\"Evil\" Arabs in American Popular Film: Orienta...</td>\n",
              "      <td>Runner-up, 2006 Arab American National Museum ...</td>\n",
              "    </tr>\n",
              "    <tr>\n",
              "      <th>3</th>\n",
              "      <td>\"Exterminate All the Brutes\": One Man's Odysse...</td>\n",
              "      <td>\"Exterminate All the Brutes\" is a searching ex...</td>\n",
              "    </tr>\n",
              "    <tr>\n",
              "      <th>4</th>\n",
              "      <td>\"Humanism - The Whore of Babylon and the Sleep...</td>\n",
              "      <td>���.., Awake thou that sleepest, and arise fro...</td>\n",
              "    </tr>\n",
              "    <tr>\n",
              "      <th>...</th>\n",
              "      <td>...</td>\n",
              "      <td>...</td>\n",
              "    </tr>\n",
              "    <tr>\n",
              "      <th>48478</th>\n",
              "      <td>동물 농장</td>\n",
              "      <td>영국 작가의 세계적인 장편소설. 인간에게 착취 당하던 동물들이 인간을 내쫓고 동물농...</td>\n",
              "    </tr>\n",
              "    <tr>\n",
              "      <th>48479</th>\n",
              "      <td>신의 탑 1</td>\n",
              "      <td>What do you desire? Fortune? Glory? Power? Rev...</td>\n",
              "    </tr>\n",
              "    <tr>\n",
              "      <th>48480</th>\n",
              "      <td>오만과 편견</td>\n",
              "      <td>Korean translation of \"Pride and Prejudice\"</td>\n",
              "    </tr>\n",
              "    <tr>\n",
              "      <th>48481</th>\n",
              "      <td>초조한 마음</td>\n",
              "      <td>인간 본성에 대한 분석이 돋보이는 츠바이크의 유일한 장편!세계적인 전기 작가이자 심...</td>\n",
              "    </tr>\n",
              "    <tr>\n",
              "      <th>48482</th>\n",
              "      <td>카탈루냐 찬가</td>\n",
              "      <td>비꽃 세계 고전문학 10권. &lt;1984&gt;가 ‘디스토피아 3대 걸작’ 가운데 하나라면...</td>\n",
              "    </tr>\n",
              "  </tbody>\n",
              "</table>\n",
              "<p>48483 rows × 2 columns</p>\n",
              "</div>"
            ],
            "text/plain": [
              "                                              book_title  \\\n",
              "0                 \"Break the Casanova's Heart\" Operation   \n",
              "1                        \"El Aleph\" de Jorge Luis Borges   \n",
              "2      \"Evil\" Arabs in American Popular Film: Orienta...   \n",
              "3      \"Exterminate All the Brutes\": One Man's Odysse...   \n",
              "4      \"Humanism - The Whore of Babylon and the Sleep...   \n",
              "...                                                  ...   \n",
              "48478                                              동물 농장   \n",
              "48479                                             신의 탑 1   \n",
              "48480                                             오만과 편견   \n",
              "48481                                             초조한 마음   \n",
              "48482                                            카탈루냐 찬가   \n",
              "\n",
              "                                               book_desc  \n",
              "0      Operation Break the Casanova's Heart10 Steps t...  \n",
              "1      De los muy pocos manuscritos que se conservan ...  \n",
              "2      Runner-up, 2006 Arab American National Museum ...  \n",
              "3      \"Exterminate All the Brutes\" is a searching ex...  \n",
              "4      ���.., Awake thou that sleepest, and arise fro...  \n",
              "...                                                  ...  \n",
              "48478  영국 작가의 세계적인 장편소설. 인간에게 착취 당하던 동물들이 인간을 내쫓고 동물농...  \n",
              "48479  What do you desire? Fortune? Glory? Power? Rev...  \n",
              "48480        Korean translation of \"Pride and Prejudice\"  \n",
              "48481  인간 본성에 대한 분석이 돋보이는 츠바이크의 유일한 장편!세계적인 전기 작가이자 심...  \n",
              "48482  비꽃 세계 고전문학 10권. <1984>가 ‘디스토피아 3대 걸작’ 가운데 하나라면...  \n",
              "\n",
              "[48483 rows x 2 columns]"
            ]
          },
          "execution_count": 16,
          "metadata": {},
          "output_type": "execute_result"
        }
      ],
      "source": [
        "dataset"
      ]
    },
    {
      "cell_type": "code",
      "execution_count": 23,
      "metadata": {
        "id": "_QnRJ8KD1Ie6"
      },
      "outputs": [],
      "source": [
        "# dataset.to_csv('translated_dataset.csv', index=False)"
      ]
    },
    {
      "cell_type": "code",
      "execution_count": 27,
      "metadata": {},
      "outputs": [],
      "source": [
        "dataset = pd.read_csv('translated_dataset.csv')\n",
        "nontranslated = pd.read_csv('books_data/books.csv')"
      ]
    },
    {
      "cell_type": "code",
      "execution_count": null,
      "metadata": {},
      "outputs": [],
      "source": []
    },
    {
      "cell_type": "code",
      "execution_count": 28,
      "metadata": {
        "colab": {
          "base_uri": "https://localhost:8080/"
        },
        "id": "5yT_YJuYySsp",
        "outputId": "16df29b0-014d-4526-dd7a-786b4659dc4f"
      },
      "outputs": [
        {
          "data": {
            "text/plain": [
              "(48483, 2)"
            ]
          },
          "execution_count": 28,
          "metadata": {},
          "output_type": "execute_result"
        }
      ],
      "source": [
        "dataset.shape"
      ]
    },
    {
      "cell_type": "code",
      "execution_count": 29,
      "metadata": {},
      "outputs": [
        {
          "data": {
            "text/plain": [
              "(54301, 12)"
            ]
          },
          "execution_count": 29,
          "metadata": {},
          "output_type": "execute_result"
        }
      ],
      "source": [
        "nontranslated.shape"
      ]
    },
    {
      "cell_type": "code",
      "execution_count": 30,
      "metadata": {},
      "outputs": [
        {
          "name": "stderr",
          "output_type": "stream",
          "text": [
            "C:\\Users\\HP\\AppData\\Local\\Temp\\ipykernel_10148\\1559843447.py:2: FutureWarning: A value is trying to be set on a copy of a DataFrame or Series through chained assignment using an inplace method.\n",
            "The behavior will change in pandas 3.0. This inplace method will never work because the intermediate object on which we are setting values always behaves as a copy.\n",
            "\n",
            "For example, when doing 'df[col].method(value, inplace=True)', try using 'df.method({col: value}, inplace=True)' or df[col] = df[col].method(value) instead, to perform the operation inplace on the original object.\n",
            "\n",
            "\n",
            "  nontranslated['book_desc'].fillna(nontranslated['book_title'], inplace=True)\n"
          ]
        },
        {
          "data": {
            "text/plain": [
              "(48483, 2)"
            ]
          },
          "execution_count": 30,
          "metadata": {},
          "output_type": "execute_result"
        }
      ],
      "source": [
        "nontranslated.drop(columns=['book_format', 'book_authors', 'book_edition', 'book_isbn','book_pages','book_rating','book_rating_count','book_review_count','genres','image_url'], inplace=True)\n",
        "nontranslated['book_desc'].fillna(nontranslated['book_title'], inplace=True)\n",
        "nontranslated = nontranslated.drop_duplicates(subset='book_title', keep='first').reset_index(drop=True)\n",
        "nontranslated = nontranslated.groupby('book_title', as_index=False).agg({\n",
        "    'book_desc': ' '.join  # Combine blurbs\n",
        "})\n",
        "nontranslated.shape"
      ]
    },
    {
      "cell_type": "code",
      "execution_count": 31,
      "metadata": {
        "id": "V3siakabySsp",
        "outputId": "316e86f4-c2dc-4e10-aace-f01ecc5a4f9e"
      },
      "outputs": [
        {
          "data": {
            "text/html": [
              "<div>\n",
              "<style scoped>\n",
              "    .dataframe tbody tr th:only-of-type {\n",
              "        vertical-align: middle;\n",
              "    }\n",
              "\n",
              "    .dataframe tbody tr th {\n",
              "        vertical-align: top;\n",
              "    }\n",
              "\n",
              "    .dataframe thead th {\n",
              "        text-align: right;\n",
              "    }\n",
              "</style>\n",
              "<table border=\"1\" class=\"dataframe\">\n",
              "  <thead>\n",
              "    <tr style=\"text-align: right;\">\n",
              "      <th></th>\n",
              "      <th>book_title</th>\n",
              "      <th>book_desc</th>\n",
              "      <th>book_original_desc</th>\n",
              "    </tr>\n",
              "  </thead>\n",
              "  <tbody>\n",
              "    <tr>\n",
              "      <th>0</th>\n",
              "      <td>\"Break the Casanova's Heart\" Operation</td>\n",
              "      <td>the Casanova's Heart\" Operation Operation Brea...</td>\n",
              "      <td>Operation Break the Casanova's Heart10 Steps t...</td>\n",
              "    </tr>\n",
              "    <tr>\n",
              "      <th>1</th>\n",
              "      <td>\"El Aleph\" de Jorge Luis Borges</td>\n",
              "      <td>Aleph\" by Jorge Luis Borges of the very few ma...</td>\n",
              "      <td>De los muy pocos manuscritos que se conservan ...</td>\n",
              "    </tr>\n",
              "    <tr>\n",
              "      <th>2</th>\n",
              "      <td>\"Evil\" Arabs in American Popular Film: Orienta...</td>\n",
              "      <td>Arabs in American Popular Film: Orientalist Fe...</td>\n",
              "      <td>Runner-up, 2006 Arab American National Museum ...</td>\n",
              "    </tr>\n",
              "    <tr>\n",
              "      <th>3</th>\n",
              "      <td>\"Exterminate All the Brutes\": One Man's Odysse...</td>\n",
              "      <td>All the Brutes\": One Man's Odyssey into the He...</td>\n",
              "      <td>\"Exterminate All the Brutes\" is a searching ex...</td>\n",
              "    </tr>\n",
              "    <tr>\n",
              "      <th>4</th>\n",
              "      <td>\"Humanism - The Whore of Babylon and the Sleep...</td>\n",
              "      <td>- The Whore of Babylon and the Sleeping Church...</td>\n",
              "      <td>���.., Awake thou that sleepest, and arise fro...</td>\n",
              "    </tr>\n",
              "    <tr>\n",
              "      <th>...</th>\n",
              "      <td>...</td>\n",
              "      <td>...</td>\n",
              "      <td>...</td>\n",
              "    </tr>\n",
              "    <tr>\n",
              "      <th>48478</th>\n",
              "      <td>동물 농장</td>\n",
              "      <td>Farm British writer's world -class novel.A fea...</td>\n",
              "      <td>영국 작가의 세계적인 장편소설. 인간에게 착취 당하던 동물들이 인간을 내쫓고 동물농...</td>\n",
              "    </tr>\n",
              "    <tr>\n",
              "      <th>48479</th>\n",
              "      <td>신의 탑 1</td>\n",
              "      <td>탑 1 What do you desire? Fortune? Glory? Power?...</td>\n",
              "      <td>What do you desire? Fortune? Glory? Power? Rev...</td>\n",
              "    </tr>\n",
              "    <tr>\n",
              "      <th>48480</th>\n",
              "      <td>오만과 편견</td>\n",
              "      <td>편견 Korean translation of \"Pride and Prejudice\"</td>\n",
              "      <td>Korean translation of \"Pride and Prejudice\"</td>\n",
              "    </tr>\n",
              "    <tr>\n",
              "      <th>48481</th>\n",
              "      <td>초조한 마음</td>\n",
              "      <td>only feature of Tsubiki, which shows an analys...</td>\n",
              "      <td>인간 본성에 대한 분석이 돋보이는 츠바이크의 유일한 장편!세계적인 전기 작가이자 심...</td>\n",
              "    </tr>\n",
              "    <tr>\n",
              "      <th>48482</th>\n",
              "      <td>카탈루냐 찬가</td>\n",
              "      <td>Hymnsi Flower World Classical Literature Vol. ...</td>\n",
              "      <td>비꽃 세계 고전문학 10권. &lt;1984&gt;가 ‘디스토피아 3대 걸작’ 가운데 하나라면...</td>\n",
              "    </tr>\n",
              "  </tbody>\n",
              "</table>\n",
              "<p>48483 rows × 3 columns</p>\n",
              "</div>"
            ],
            "text/plain": [
              "                                              book_title  \\\n",
              "0                 \"Break the Casanova's Heart\" Operation   \n",
              "1                        \"El Aleph\" de Jorge Luis Borges   \n",
              "2      \"Evil\" Arabs in American Popular Film: Orienta...   \n",
              "3      \"Exterminate All the Brutes\": One Man's Odysse...   \n",
              "4      \"Humanism - The Whore of Babylon and the Sleep...   \n",
              "...                                                  ...   \n",
              "48478                                              동물 농장   \n",
              "48479                                             신의 탑 1   \n",
              "48480                                             오만과 편견   \n",
              "48481                                             초조한 마음   \n",
              "48482                                            카탈루냐 찬가   \n",
              "\n",
              "                                               book_desc  \\\n",
              "0      the Casanova's Heart\" Operation Operation Brea...   \n",
              "1      Aleph\" by Jorge Luis Borges of the very few ma...   \n",
              "2      Arabs in American Popular Film: Orientalist Fe...   \n",
              "3      All the Brutes\": One Man's Odyssey into the He...   \n",
              "4      - The Whore of Babylon and the Sleeping Church...   \n",
              "...                                                  ...   \n",
              "48478  Farm British writer's world -class novel.A fea...   \n",
              "48479  탑 1 What do you desire? Fortune? Glory? Power?...   \n",
              "48480     편견 Korean translation of \"Pride and Prejudice\"   \n",
              "48481  only feature of Tsubiki, which shows an analys...   \n",
              "48482  Hymnsi Flower World Classical Literature Vol. ...   \n",
              "\n",
              "                                      book_original_desc  \n",
              "0      Operation Break the Casanova's Heart10 Steps t...  \n",
              "1      De los muy pocos manuscritos que se conservan ...  \n",
              "2      Runner-up, 2006 Arab American National Museum ...  \n",
              "3      \"Exterminate All the Brutes\" is a searching ex...  \n",
              "4      ���.., Awake thou that sleepest, and arise fro...  \n",
              "...                                                  ...  \n",
              "48478  영국 작가의 세계적인 장편소설. 인간에게 착취 당하던 동물들이 인간을 내쫓고 동물농...  \n",
              "48479  What do you desire? Fortune? Glory? Power? Rev...  \n",
              "48480        Korean translation of \"Pride and Prejudice\"  \n",
              "48481  인간 본성에 대한 분석이 돋보이는 츠바이크의 유일한 장편!세계적인 전기 작가이자 심...  \n",
              "48482  비꽃 세계 고전문학 10권. <1984>가 ‘디스토피아 3대 걸작’ 가운데 하나라면...  \n",
              "\n",
              "[48483 rows x 3 columns]"
            ]
          },
          "execution_count": 31,
          "metadata": {},
          "output_type": "execute_result"
        }
      ],
      "source": [
        "dataset['book_title'] = nontranslated['book_title']\n",
        "dataset['book_original_desc'] = nontranslated['book_desc']\n",
        "\n",
        "dataset"
      ]
    },
    {
      "cell_type": "code",
      "execution_count": 32,
      "metadata": {},
      "outputs": [
        {
          "data": {
            "text/plain": [
              "(48483, 3)"
            ]
          },
          "execution_count": 32,
          "metadata": {},
          "output_type": "execute_result"
        }
      ],
      "source": [
        "dataset.shape"
      ]
    },
    {
      "cell_type": "code",
      "execution_count": 33,
      "metadata": {
        "id": "QmnLa4JOySsq"
      },
      "outputs": [],
      "source": [
        "def improve_incomplete_or_short_texts(dataset, text_column, title_column, min_length=20):\n",
        "    \"\"\"\n",
        "    Improves rows with incomplete, short, or gibberish text by augmenting with title or inferred data.\n",
        "\n",
        "    Parameters:\n",
        "    - dataset (pd.DataFrame): The input DataFrame.\n",
        "    - text_column (str): Column name containing text to improve.\n",
        "    - title_column (str): Column name containing the book title.\n",
        "    - min_length (int): Minimum length of text to improve.\n",
        "\n",
        "    Returns:\n",
        "    - pd.DataFrame: DataFrame with improved text.\n",
        "    \"\"\"\n",
        "    def improve_text(row):\n",
        "        text = row[text_column]\n",
        "        title = row[title_column]\n",
        "\n",
        "        # Handle NaN or missing text\n",
        "        if pd.isna(text):\n",
        "            return title if title else \"No description available\"\n",
        "\n",
        "        # If text is too short, augment it with the title\n",
        "        if len(text) < min_length:\n",
        "            text = f\"{title}. {text}\" if title else text\n",
        "\n",
        "        # Handle other cases like gibberish or incomplete patterns\n",
        "        if re.search(r'\\.{3,}', text):  # If text has ellipses\n",
        "            text = re.sub(r'\\.{3,}', \".\", text)  # Replace ellipses with a period\n",
        "\n",
        "        if re.search(r'[^a-zA-Z0-9\\s.,!?\\'\"-]', text):  # If non-alphanumeric content exists\n",
        "            text = re.sub(r'[^a-zA-Z0-9\\s.,!?\\'\"-]', \"\", text)  # Remove invalid characters\n",
        "\n",
        "        return text\n",
        "\n",
        "    # Apply the improvement to the dataset\n",
        "    dataset[text_column] = dataset.apply(improve_text, axis=1)\n",
        "    return dataset\n"
      ]
    },
    {
      "cell_type": "code",
      "execution_count": 34,
      "metadata": {
        "id": "WIe4pFuiySsq"
      },
      "outputs": [],
      "source": [
        "dataset = improve_incomplete_or_short_texts(\n",
        "    dataset,\n",
        "    text_column='book_desc',\n",
        "    title_column='book_title',\n",
        "    min_length=20\n",
        ")"
      ]
    },
    {
      "cell_type": "code",
      "execution_count": 35,
      "metadata": {
        "id": "D9EB5rjYySsq",
        "outputId": "d2591712-25f2-48df-c976-cd8afa7d38e4"
      },
      "outputs": [
        {
          "data": {
            "text/plain": [
              "(48483, 3)"
            ]
          },
          "execution_count": 35,
          "metadata": {},
          "output_type": "execute_result"
        }
      ],
      "source": [
        "dataset.shape"
      ]
    },
    {
      "cell_type": "code",
      "execution_count": 36,
      "metadata": {
        "id": "s7xPYUgIySsq",
        "outputId": "7c607662-713e-47b8-fe0f-bdc16f329753"
      },
      "outputs": [
        {
          "data": {
            "text/html": [
              "<div>\n",
              "<style scoped>\n",
              "    .dataframe tbody tr th:only-of-type {\n",
              "        vertical-align: middle;\n",
              "    }\n",
              "\n",
              "    .dataframe tbody tr th {\n",
              "        vertical-align: top;\n",
              "    }\n",
              "\n",
              "    .dataframe thead th {\n",
              "        text-align: right;\n",
              "    }\n",
              "</style>\n",
              "<table border=\"1\" class=\"dataframe\">\n",
              "  <thead>\n",
              "    <tr style=\"text-align: right;\">\n",
              "      <th></th>\n",
              "      <th>book_title</th>\n",
              "      <th>book_desc</th>\n",
              "      <th>book_original_desc</th>\n",
              "    </tr>\n",
              "  </thead>\n",
              "  <tbody>\n",
              "    <tr>\n",
              "      <th>0</th>\n",
              "      <td>\"Break the Casanova's Heart\" Operation</td>\n",
              "      <td>the Casanova's Heart\" Operation Operation Brea...</td>\n",
              "      <td>Operation Break the Casanova's Heart10 Steps t...</td>\n",
              "    </tr>\n",
              "    <tr>\n",
              "      <th>1</th>\n",
              "      <td>\"El Aleph\" de Jorge Luis Borges</td>\n",
              "      <td>Aleph\" by Jorge Luis Borges of the very few ma...</td>\n",
              "      <td>De los muy pocos manuscritos que se conservan ...</td>\n",
              "    </tr>\n",
              "    <tr>\n",
              "      <th>2</th>\n",
              "      <td>\"Evil\" Arabs in American Popular Film: Orienta...</td>\n",
              "      <td>Arabs in American Popular Film Orientalist Fea...</td>\n",
              "      <td>Runner-up, 2006 Arab American National Museum ...</td>\n",
              "    </tr>\n",
              "    <tr>\n",
              "      <th>3</th>\n",
              "      <td>\"Exterminate All the Brutes\": One Man's Odysse...</td>\n",
              "      <td>All the Brutes\" One Man's Odyssey into the Hea...</td>\n",
              "      <td>\"Exterminate All the Brutes\" is a searching ex...</td>\n",
              "    </tr>\n",
              "    <tr>\n",
              "      <th>4</th>\n",
              "      <td>\"Humanism - The Whore of Babylon and the Sleep...</td>\n",
              "      <td>- The Whore of Babylon and the Sleeping Church...</td>\n",
              "      <td>���.., Awake thou that sleepest, and arise fro...</td>\n",
              "    </tr>\n",
              "    <tr>\n",
              "      <th>...</th>\n",
              "      <td>...</td>\n",
              "      <td>...</td>\n",
              "      <td>...</td>\n",
              "    </tr>\n",
              "    <tr>\n",
              "      <th>48478</th>\n",
              "      <td>동물 농장</td>\n",
              "      <td>Farm British writer's world -class novel.A fea...</td>\n",
              "      <td>영국 작가의 세계적인 장편소설. 인간에게 착취 당하던 동물들이 인간을 내쫓고 동물농...</td>\n",
              "    </tr>\n",
              "    <tr>\n",
              "      <th>48479</th>\n",
              "      <td>신의 탑 1</td>\n",
              "      <td>1 What do you desire? Fortune? Glory? Power? ...</td>\n",
              "      <td>What do you desire? Fortune? Glory? Power? Rev...</td>\n",
              "    </tr>\n",
              "    <tr>\n",
              "      <th>48480</th>\n",
              "      <td>오만과 편견</td>\n",
              "      <td>Korean translation of \"Pride and Prejudice\"</td>\n",
              "      <td>Korean translation of \"Pride and Prejudice\"</td>\n",
              "    </tr>\n",
              "    <tr>\n",
              "      <th>48481</th>\n",
              "      <td>초조한 마음</td>\n",
              "      <td>only feature of Tsubiki, which shows an analys...</td>\n",
              "      <td>인간 본성에 대한 분석이 돋보이는 츠바이크의 유일한 장편!세계적인 전기 작가이자 심...</td>\n",
              "    </tr>\n",
              "    <tr>\n",
              "      <th>48482</th>\n",
              "      <td>카탈루냐 찬가</td>\n",
              "      <td>Hymnsi Flower World Classical Literature Vol. ...</td>\n",
              "      <td>비꽃 세계 고전문학 10권. &lt;1984&gt;가 ‘디스토피아 3대 걸작’ 가운데 하나라면...</td>\n",
              "    </tr>\n",
              "  </tbody>\n",
              "</table>\n",
              "<p>48483 rows × 3 columns</p>\n",
              "</div>"
            ],
            "text/plain": [
              "                                              book_title  \\\n",
              "0                 \"Break the Casanova's Heart\" Operation   \n",
              "1                        \"El Aleph\" de Jorge Luis Borges   \n",
              "2      \"Evil\" Arabs in American Popular Film: Orienta...   \n",
              "3      \"Exterminate All the Brutes\": One Man's Odysse...   \n",
              "4      \"Humanism - The Whore of Babylon and the Sleep...   \n",
              "...                                                  ...   \n",
              "48478                                              동물 농장   \n",
              "48479                                             신의 탑 1   \n",
              "48480                                             오만과 편견   \n",
              "48481                                             초조한 마음   \n",
              "48482                                            카탈루냐 찬가   \n",
              "\n",
              "                                               book_desc  \\\n",
              "0      the Casanova's Heart\" Operation Operation Brea...   \n",
              "1      Aleph\" by Jorge Luis Borges of the very few ma...   \n",
              "2      Arabs in American Popular Film Orientalist Fea...   \n",
              "3      All the Brutes\" One Man's Odyssey into the Hea...   \n",
              "4      - The Whore of Babylon and the Sleeping Church...   \n",
              "...                                                  ...   \n",
              "48478  Farm British writer's world -class novel.A fea...   \n",
              "48479   1 What do you desire? Fortune? Glory? Power? ...   \n",
              "48480        Korean translation of \"Pride and Prejudice\"   \n",
              "48481  only feature of Tsubiki, which shows an analys...   \n",
              "48482  Hymnsi Flower World Classical Literature Vol. ...   \n",
              "\n",
              "                                      book_original_desc  \n",
              "0      Operation Break the Casanova's Heart10 Steps t...  \n",
              "1      De los muy pocos manuscritos que se conservan ...  \n",
              "2      Runner-up, 2006 Arab American National Museum ...  \n",
              "3      \"Exterminate All the Brutes\" is a searching ex...  \n",
              "4      ���.., Awake thou that sleepest, and arise fro...  \n",
              "...                                                  ...  \n",
              "48478  영국 작가의 세계적인 장편소설. 인간에게 착취 당하던 동물들이 인간을 내쫓고 동물농...  \n",
              "48479  What do you desire? Fortune? Glory? Power? Rev...  \n",
              "48480        Korean translation of \"Pride and Prejudice\"  \n",
              "48481  인간 본성에 대한 분석이 돋보이는 츠바이크의 유일한 장편!세계적인 전기 작가이자 심...  \n",
              "48482  비꽃 세계 고전문학 10권. <1984>가 ‘디스토피아 3대 걸작’ 가운데 하나라면...  \n",
              "\n",
              "[48483 rows x 3 columns]"
            ]
          },
          "execution_count": 36,
          "metadata": {},
          "output_type": "execute_result"
        }
      ],
      "source": [
        "dataset"
      ]
    },
    {
      "cell_type": "code",
      "execution_count": 37,
      "metadata": {
        "id": "h0UHJsuHySsq"
      },
      "outputs": [],
      "source": [
        "dataset['Cleaned_Blurb'] = dataset['book_desc'].apply(preprocess_text)"
      ]
    },
    {
      "cell_type": "code",
      "execution_count": 38,
      "metadata": {},
      "outputs": [],
      "source": [
        "dataset['book_original_title'] = dataset['book_title']\n",
        "dataset['book_title'] = dataset['book_title'].apply(preprocess_text)"
      ]
    },
    {
      "cell_type": "code",
      "execution_count": 39,
      "metadata": {
        "id": "El4bLTKsySsq",
        "outputId": "d8143903-2b75-4944-a080-ea02f2ccfeab"
      },
      "outputs": [
        {
          "data": {
            "text/html": [
              "<div>\n",
              "<style scoped>\n",
              "    .dataframe tbody tr th:only-of-type {\n",
              "        vertical-align: middle;\n",
              "    }\n",
              "\n",
              "    .dataframe tbody tr th {\n",
              "        vertical-align: top;\n",
              "    }\n",
              "\n",
              "    .dataframe thead th {\n",
              "        text-align: right;\n",
              "    }\n",
              "</style>\n",
              "<table border=\"1\" class=\"dataframe\">\n",
              "  <thead>\n",
              "    <tr style=\"text-align: right;\">\n",
              "      <th></th>\n",
              "      <th>book_title</th>\n",
              "      <th>book_desc</th>\n",
              "      <th>book_original_desc</th>\n",
              "      <th>Cleaned_Blurb</th>\n",
              "      <th>book_original_title</th>\n",
              "    </tr>\n",
              "  </thead>\n",
              "  <tbody>\n",
              "    <tr>\n",
              "      <th>0</th>\n",
              "      <td>break casanova heart operation</td>\n",
              "      <td>the Casanova's Heart\" Operation Operation Brea...</td>\n",
              "      <td>Operation Break the Casanova's Heart10 Steps t...</td>\n",
              "      <td>casanova heart operation operation break casan...</td>\n",
              "      <td>\"Break the Casanova's Heart\" Operation</td>\n",
              "    </tr>\n",
              "    <tr>\n",
              "      <th>1</th>\n",
              "      <td>el aleph de jorge luis borges</td>\n",
              "      <td>Aleph\" by Jorge Luis Borges of the very few ma...</td>\n",
              "      <td>De los muy pocos manuscritos que se conservan ...</td>\n",
              "      <td>aleph jorge luis borges manuscript preserved j...</td>\n",
              "      <td>\"El Aleph\" de Jorge Luis Borges</td>\n",
              "    </tr>\n",
              "    <tr>\n",
              "      <th>2</th>\n",
              "      <td>evil arab american popular film orientalist fear</td>\n",
              "      <td>Arabs in American Popular Film Orientalist Fea...</td>\n",
              "      <td>Runner-up, 2006 Arab American National Museum ...</td>\n",
              "      <td>arab american popular film orientalist fear ru...</td>\n",
              "      <td>\"Evil\" Arabs in American Popular Film: Orienta...</td>\n",
              "    </tr>\n",
              "    <tr>\n",
              "      <th>3</th>\n",
              "      <td>exterminate brute one man odyssey heart darkne...</td>\n",
              "      <td>All the Brutes\" One Man's Odyssey into the Hea...</td>\n",
              "      <td>\"Exterminate All the Brutes\" is a searching ex...</td>\n",
              "      <td>brute one man odyssey heart darkness origin eu...</td>\n",
              "      <td>\"Exterminate All the Brutes\": One Man's Odysse...</td>\n",
              "    </tr>\n",
              "    <tr>\n",
              "      <th>4</th>\n",
              "      <td>humanism whore babylon sleeping church</td>\n",
              "      <td>- The Whore of Babylon and the Sleeping Church...</td>\n",
              "      <td>���.., Awake thou that sleepest, and arise fro...</td>\n",
              "      <td>whore babylon sleeping church awake thou sleep...</td>\n",
              "      <td>\"Humanism - The Whore of Babylon and the Sleep...</td>\n",
              "    </tr>\n",
              "  </tbody>\n",
              "</table>\n",
              "</div>"
            ],
            "text/plain": [
              "                                          book_title  \\\n",
              "0                     break casanova heart operation   \n",
              "1                      el aleph de jorge luis borges   \n",
              "2   evil arab american popular film orientalist fear   \n",
              "3  exterminate brute one man odyssey heart darkne...   \n",
              "4             humanism whore babylon sleeping church   \n",
              "\n",
              "                                           book_desc  \\\n",
              "0  the Casanova's Heart\" Operation Operation Brea...   \n",
              "1  Aleph\" by Jorge Luis Borges of the very few ma...   \n",
              "2  Arabs in American Popular Film Orientalist Fea...   \n",
              "3  All the Brutes\" One Man's Odyssey into the Hea...   \n",
              "4  - The Whore of Babylon and the Sleeping Church...   \n",
              "\n",
              "                                  book_original_desc  \\\n",
              "0  Operation Break the Casanova's Heart10 Steps t...   \n",
              "1  De los muy pocos manuscritos que se conservan ...   \n",
              "2  Runner-up, 2006 Arab American National Museum ...   \n",
              "3  \"Exterminate All the Brutes\" is a searching ex...   \n",
              "4  ���.., Awake thou that sleepest, and arise fro...   \n",
              "\n",
              "                                       Cleaned_Blurb  \\\n",
              "0  casanova heart operation operation break casan...   \n",
              "1  aleph jorge luis borges manuscript preserved j...   \n",
              "2  arab american popular film orientalist fear ru...   \n",
              "3  brute one man odyssey heart darkness origin eu...   \n",
              "4  whore babylon sleeping church awake thou sleep...   \n",
              "\n",
              "                                 book_original_title  \n",
              "0             \"Break the Casanova's Heart\" Operation  \n",
              "1                    \"El Aleph\" de Jorge Luis Borges  \n",
              "2  \"Evil\" Arabs in American Popular Film: Orienta...  \n",
              "3  \"Exterminate All the Brutes\": One Man's Odysse...  \n",
              "4  \"Humanism - The Whore of Babylon and the Sleep...  "
            ]
          },
          "execution_count": 39,
          "metadata": {},
          "output_type": "execute_result"
        }
      ],
      "source": [
        "dataset.head()"
      ]
    },
    {
      "cell_type": "code",
      "execution_count": 40,
      "metadata": {
        "id": "-DnHOFs-ySsq",
        "outputId": "d237099c-ca0c-40fc-8fa1-a14a6327d85f"
      },
      "outputs": [
        {
          "data": {
            "text/html": [
              "<div>\n",
              "<style scoped>\n",
              "    .dataframe tbody tr th:only-of-type {\n",
              "        vertical-align: middle;\n",
              "    }\n",
              "\n",
              "    .dataframe tbody tr th {\n",
              "        vertical-align: top;\n",
              "    }\n",
              "\n",
              "    .dataframe thead th {\n",
              "        text-align: right;\n",
              "    }\n",
              "</style>\n",
              "<table border=\"1\" class=\"dataframe\">\n",
              "  <thead>\n",
              "    <tr style=\"text-align: right;\">\n",
              "      <th></th>\n",
              "      <th>book_title</th>\n",
              "      <th>book_desc</th>\n",
              "      <th>book_original_desc</th>\n",
              "      <th>Cleaned_Blurb</th>\n",
              "      <th>book_original_title</th>\n",
              "    </tr>\n",
              "  </thead>\n",
              "  <tbody>\n",
              "    <tr>\n",
              "      <th>0</th>\n",
              "      <td>break casanova heart operation</td>\n",
              "      <td>the Casanova's Heart\" Operation Operation Brea...</td>\n",
              "      <td>Operation Break the Casanova's Heart10 Steps t...</td>\n",
              "      <td>casanova heart operation operation break casan...</td>\n",
              "      <td>\"Break the Casanova's Heart\" Operation</td>\n",
              "    </tr>\n",
              "    <tr>\n",
              "      <th>1</th>\n",
              "      <td>el aleph de jorge luis borges</td>\n",
              "      <td>Aleph\" by Jorge Luis Borges of the very few ma...</td>\n",
              "      <td>De los muy pocos manuscritos que se conservan ...</td>\n",
              "      <td>aleph jorge luis borges manuscript preserved j...</td>\n",
              "      <td>\"El Aleph\" de Jorge Luis Borges</td>\n",
              "    </tr>\n",
              "    <tr>\n",
              "      <th>2</th>\n",
              "      <td>evil arab american popular film orientalist fear</td>\n",
              "      <td>Arabs in American Popular Film Orientalist Fea...</td>\n",
              "      <td>Runner-up, 2006 Arab American National Museum ...</td>\n",
              "      <td>arab american popular film orientalist fear ru...</td>\n",
              "      <td>\"Evil\" Arabs in American Popular Film: Orienta...</td>\n",
              "    </tr>\n",
              "    <tr>\n",
              "      <th>3</th>\n",
              "      <td>exterminate brute one man odyssey heart darkne...</td>\n",
              "      <td>All the Brutes\" One Man's Odyssey into the Hea...</td>\n",
              "      <td>\"Exterminate All the Brutes\" is a searching ex...</td>\n",
              "      <td>brute one man odyssey heart darkness origin eu...</td>\n",
              "      <td>\"Exterminate All the Brutes\": One Man's Odysse...</td>\n",
              "    </tr>\n",
              "    <tr>\n",
              "      <th>4</th>\n",
              "      <td>humanism whore babylon sleeping church</td>\n",
              "      <td>- The Whore of Babylon and the Sleeping Church...</td>\n",
              "      <td>���.., Awake thou that sleepest, and arise fro...</td>\n",
              "      <td>whore babylon sleeping church awake thou sleep...</td>\n",
              "      <td>\"Humanism - The Whore of Babylon and the Sleep...</td>\n",
              "    </tr>\n",
              "  </tbody>\n",
              "</table>\n",
              "</div>"
            ],
            "text/plain": [
              "                                          book_title  \\\n",
              "0                     break casanova heart operation   \n",
              "1                      el aleph de jorge luis borges   \n",
              "2   evil arab american popular film orientalist fear   \n",
              "3  exterminate brute one man odyssey heart darkne...   \n",
              "4             humanism whore babylon sleeping church   \n",
              "\n",
              "                                           book_desc  \\\n",
              "0  the Casanova's Heart\" Operation Operation Brea...   \n",
              "1  Aleph\" by Jorge Luis Borges of the very few ma...   \n",
              "2  Arabs in American Popular Film Orientalist Fea...   \n",
              "3  All the Brutes\" One Man's Odyssey into the Hea...   \n",
              "4  - The Whore of Babylon and the Sleeping Church...   \n",
              "\n",
              "                                  book_original_desc  \\\n",
              "0  Operation Break the Casanova's Heart10 Steps t...   \n",
              "1  De los muy pocos manuscritos que se conservan ...   \n",
              "2  Runner-up, 2006 Arab American National Museum ...   \n",
              "3  \"Exterminate All the Brutes\" is a searching ex...   \n",
              "4  ���.., Awake thou that sleepest, and arise fro...   \n",
              "\n",
              "                                       Cleaned_Blurb  \\\n",
              "0  casanova heart operation operation break casan...   \n",
              "1  aleph jorge luis borges manuscript preserved j...   \n",
              "2  arab american popular film orientalist fear ru...   \n",
              "3  brute one man odyssey heart darkness origin eu...   \n",
              "4  whore babylon sleeping church awake thou sleep...   \n",
              "\n",
              "                                 book_original_title  \n",
              "0             \"Break the Casanova's Heart\" Operation  \n",
              "1                    \"El Aleph\" de Jorge Luis Borges  \n",
              "2  \"Evil\" Arabs in American Popular Film: Orienta...  \n",
              "3  \"Exterminate All the Brutes\": One Man's Odysse...  \n",
              "4  \"Humanism - The Whore of Babylon and the Sleep...  "
            ]
          },
          "execution_count": 40,
          "metadata": {},
          "output_type": "execute_result"
        }
      ],
      "source": [
        "dataset.head()"
      ]
    },
    {
      "cell_type": "code",
      "execution_count": 41,
      "metadata": {},
      "outputs": [],
      "source": [
        "dataset.to_csv('td.csv')"
      ]
    },
    {
      "cell_type": "code",
      "execution_count": 42,
      "metadata": {
        "id": "bFTmBMF0ySsr",
        "outputId": "d650ed88-ccaf-4c81-d419-9b2de579ebe8"
      },
      "outputs": [
        {
          "data": {
            "text/plain": [
              "(48483, 5)"
            ]
          },
          "execution_count": 42,
          "metadata": {},
          "output_type": "execute_result"
        }
      ],
      "source": [
        "dataset.shape"
      ]
    },
    {
      "cell_type": "code",
      "execution_count": 32,
      "metadata": {},
      "outputs": [
        {
          "data": {
            "text/html": [
              "<div>\n",
              "<style scoped>\n",
              "    .dataframe tbody tr th:only-of-type {\n",
              "        vertical-align: middle;\n",
              "    }\n",
              "\n",
              "    .dataframe tbody tr th {\n",
              "        vertical-align: top;\n",
              "    }\n",
              "\n",
              "    .dataframe thead th {\n",
              "        text-align: right;\n",
              "    }\n",
              "</style>\n",
              "<table border=\"1\" class=\"dataframe\">\n",
              "  <thead>\n",
              "    <tr style=\"text-align: right;\">\n",
              "      <th></th>\n",
              "      <th>book_title</th>\n",
              "      <th>book_desc</th>\n",
              "      <th>Cleaned_Blurb</th>\n",
              "      <th>book_original_title</th>\n",
              "    </tr>\n",
              "  </thead>\n",
              "  <tbody>\n",
              "    <tr>\n",
              "      <th>0</th>\n",
              "      <td>break casanova heart operation</td>\n",
              "      <td>the Casanova's Heart\" Operation Operation Brea...</td>\n",
              "      <td>casanova heart operation operation break casan...</td>\n",
              "      <td>\"Break the Casanova's Heart\" Operation</td>\n",
              "    </tr>\n",
              "    <tr>\n",
              "      <th>1</th>\n",
              "      <td>el aleph de jorge luis borges</td>\n",
              "      <td>Aleph\" by Jorge Luis Borges of the very few ma...</td>\n",
              "      <td>aleph jorge luis borges manuscript preserved j...</td>\n",
              "      <td>\"El Aleph\" de Jorge Luis Borges</td>\n",
              "    </tr>\n",
              "    <tr>\n",
              "      <th>2</th>\n",
              "      <td>evil arab american popular film orientalist fear</td>\n",
              "      <td>Arabs in American Popular Film Orientalist Fea...</td>\n",
              "      <td>arab american popular film orientalist fear ru...</td>\n",
              "      <td>\"Evil\" Arabs in American Popular Film: Orienta...</td>\n",
              "    </tr>\n",
              "    <tr>\n",
              "      <th>3</th>\n",
              "      <td>exterminate brute one man odyssey heart darkne...</td>\n",
              "      <td>All the Brutes\" One Man's Odyssey into the Hea...</td>\n",
              "      <td>brute one man odyssey heart darkness origin eu...</td>\n",
              "      <td>\"Exterminate All the Brutes\": One Man's Odysse...</td>\n",
              "    </tr>\n",
              "    <tr>\n",
              "      <th>4</th>\n",
              "      <td>humanism whore babylon sleeping church</td>\n",
              "      <td>- The Whore of Babylon and the Sleeping Church...</td>\n",
              "      <td>whore babylon sleeping church awake thou sleep...</td>\n",
              "      <td>\"Humanism - The Whore of Babylon and the Sleep...</td>\n",
              "    </tr>\n",
              "    <tr>\n",
              "      <th>...</th>\n",
              "      <td>...</td>\n",
              "      <td>...</td>\n",
              "      <td>...</td>\n",
              "      <td>...</td>\n",
              "    </tr>\n",
              "    <tr>\n",
              "      <th>48478</th>\n",
              "      <td>동물 농장</td>\n",
              "      <td>Farm British writer's world -class novel.A fea...</td>\n",
              "      <td>farm british writer world class novel feature ...</td>\n",
              "      <td>동물 농장</td>\n",
              "    </tr>\n",
              "    <tr>\n",
              "      <th>48479</th>\n",
              "      <td>신의 탑 1</td>\n",
              "      <td>1 What do you desire? Fortune? Glory? Power? ...</td>\n",
              "      <td>1 desire fortune glory power revenge something...</td>\n",
              "      <td>신의 탑 1</td>\n",
              "    </tr>\n",
              "    <tr>\n",
              "      <th>48480</th>\n",
              "      <td>오만과 편견</td>\n",
              "      <td>Korean translation of \"Pride and Prejudice\"</td>\n",
              "      <td>korean translation pride prejudice</td>\n",
              "      <td>오만과 편견</td>\n",
              "    </tr>\n",
              "    <tr>\n",
              "      <th>48481</th>\n",
              "      <td>초조한 마음</td>\n",
              "      <td>only feature of Tsubiki, which shows an analys...</td>\n",
              "      <td>feature tsubiki show analysis nervous heart hu...</td>\n",
              "      <td>초조한 마음</td>\n",
              "    </tr>\n",
              "    <tr>\n",
              "      <th>48482</th>\n",
              "      <td>카탈루냐 찬가</td>\n",
              "      <td>Hymnsi Flower World Classical Literature Vol. ...</td>\n",
              "      <td>hymnsi flower world classical literature vol 1...</td>\n",
              "      <td>카탈루냐 찬가</td>\n",
              "    </tr>\n",
              "  </tbody>\n",
              "</table>\n",
              "<p>48483 rows × 4 columns</p>\n",
              "</div>"
            ],
            "text/plain": [
              "                                              book_title  \\\n",
              "0                         break casanova heart operation   \n",
              "1                          el aleph de jorge luis borges   \n",
              "2       evil arab american popular film orientalist fear   \n",
              "3      exterminate brute one man odyssey heart darkne...   \n",
              "4                 humanism whore babylon sleeping church   \n",
              "...                                                  ...   \n",
              "48478                                              동물 농장   \n",
              "48479                                             신의 탑 1   \n",
              "48480                                             오만과 편견   \n",
              "48481                                             초조한 마음   \n",
              "48482                                            카탈루냐 찬가   \n",
              "\n",
              "                                               book_desc  \\\n",
              "0      the Casanova's Heart\" Operation Operation Brea...   \n",
              "1      Aleph\" by Jorge Luis Borges of the very few ma...   \n",
              "2      Arabs in American Popular Film Orientalist Fea...   \n",
              "3      All the Brutes\" One Man's Odyssey into the Hea...   \n",
              "4      - The Whore of Babylon and the Sleeping Church...   \n",
              "...                                                  ...   \n",
              "48478  Farm British writer's world -class novel.A fea...   \n",
              "48479   1 What do you desire? Fortune? Glory? Power? ...   \n",
              "48480        Korean translation of \"Pride and Prejudice\"   \n",
              "48481  only feature of Tsubiki, which shows an analys...   \n",
              "48482  Hymnsi Flower World Classical Literature Vol. ...   \n",
              "\n",
              "                                           Cleaned_Blurb  \\\n",
              "0      casanova heart operation operation break casan...   \n",
              "1      aleph jorge luis borges manuscript preserved j...   \n",
              "2      arab american popular film orientalist fear ru...   \n",
              "3      brute one man odyssey heart darkness origin eu...   \n",
              "4      whore babylon sleeping church awake thou sleep...   \n",
              "...                                                  ...   \n",
              "48478  farm british writer world class novel feature ...   \n",
              "48479  1 desire fortune glory power revenge something...   \n",
              "48480                 korean translation pride prejudice   \n",
              "48481  feature tsubiki show analysis nervous heart hu...   \n",
              "48482  hymnsi flower world classical literature vol 1...   \n",
              "\n",
              "                                     book_original_title  \n",
              "0                 \"Break the Casanova's Heart\" Operation  \n",
              "1                        \"El Aleph\" de Jorge Luis Borges  \n",
              "2      \"Evil\" Arabs in American Popular Film: Orienta...  \n",
              "3      \"Exterminate All the Brutes\": One Man's Odysse...  \n",
              "4      \"Humanism - The Whore of Babylon and the Sleep...  \n",
              "...                                                  ...  \n",
              "48478                                              동물 농장  \n",
              "48479                                             신의 탑 1  \n",
              "48480                                             오만과 편견  \n",
              "48481                                             초조한 마음  \n",
              "48482                                            카탈루냐 찬가  \n",
              "\n",
              "[48483 rows x 4 columns]"
            ]
          },
          "execution_count": 32,
          "metadata": {},
          "output_type": "execute_result"
        }
      ],
      "source": [
        "dataset"
      ]
    },
    {
      "cell_type": "code",
      "execution_count": 33,
      "metadata": {
        "id": "WqB06tHTySsr",
        "outputId": "d561ee46-98e5-4f1d-a9da-38be808ec0ec"
      },
      "outputs": [
        {
          "data": {
            "text/plain": [
              "(48483, 4)"
            ]
          },
          "execution_count": 33,
          "metadata": {},
          "output_type": "execute_result"
        }
      ],
      "source": [
        "dataset.shape"
      ]
    },
    {
      "cell_type": "code",
      "execution_count": 34,
      "metadata": {
        "id": "YBLw7QkeySsr"
      },
      "outputs": [],
      "source": [
        "tfidf_vectorizer = TfidfVectorizer(\n",
        "    max_features=10000,\n",
        "    min_df=2,\n",
        "    max_df=0.9,\n",
        "    ngram_range=(1, 3),\n",
        "    sublinear_tf=True\n",
        ")\n",
        "\n",
        "tfidf_matrix = tfidf_vectorizer.fit_transform(dataset['Cleaned_Blurb'])"
      ]
    },
    {
      "cell_type": "markdown",
      "metadata": {
        "id": "fTG79KmoySsr"
      },
      "source": [
        "# Create the recommend Function"
      ]
    },
    {
      "cell_type": "code",
      "execution_count": 35,
      "metadata": {
        "id": "Lhotcee8ySsr"
      },
      "outputs": [],
      "source": [
        "def recommend_books_by_blurb(user_blurb, top_n=5):\n",
        "    \"\"\"\n",
        "    Recommends books based on the similarity of the user blurb to the dataset.\n",
        "\n",
        "    Parameters:\n",
        "    - user_blurb (str): The input blurb provided by the user.\n",
        "    - top_n (int): Number of recommendations to return.\n",
        "\n",
        "    Returns:\n",
        "    - list: A list of recommended books with their titles and descriptions.\n",
        "    \"\"\"\n",
        "    # Preprocess the user blurb\n",
        "    preprocessed_blurb = preprocess_text(user_blurb)\n",
        "    if not preprocessed_blurb.strip():\n",
        "        return \"The input blurb is empty after preprocessing. Please provide a valid input.\"\n",
        "\n",
        "    # Vectorize the user's blurb\n",
        "    user_blurb_vector = tfidf_vectorizer.transform([preprocessed_blurb])\n",
        "    similarity_scores = cosine_similarity(user_blurb_vector, tfidf_matrix).flatten()\n",
        "\n",
        "    # Find top N similar books\n",
        "    similar_indices = similarity_scores.argsort()[-top_n:][::-1]\n",
        "\n",
        "    if similar_indices.size == 0:\n",
        "        return \"No similar books found.\"\n",
        "\n",
        "    return dataset.iloc[similar_indices][['book_original_title', 'book_desc']].to_dict(orient='records')\n"
      ]
    },
    {
      "cell_type": "code",
      "execution_count": 36,
      "metadata": {
        "id": "CcTCtDbRySsv",
        "outputId": "d4f7e8f1-6885-4ee0-94f2-3c0c3e2074a9"
      },
      "outputs": [
        {
          "name": "stdout",
          "output_type": "stream",
          "text": [
            "Recommended Books:\n",
            "Title: Harry Potter and the Order of the Phoenix (Harry Potter, #5, Part 1)\n",
            "Blurb: Potter and the Order of the Phoenix Harry Potter, 5, Part 1 Harry Potter and the Order of the Phoenix Harry Potter, 5, Part 1\n",
            "\n",
            "Title: Harry Potter Boxed Set, Books 1-5 (Harry Potter, #1-5)\n",
            "Blurb: Potter Boxed Set, Books 1-5 Harry Potter, 1-5 Box Set containing Harry Potter and the Sorcerer's Stone, Harry Potter and the Chamber Of Secrets, Harry Potter and the Prisoner of Azkaban, Harry Potter and the Goblet Of Fire, and Harry Potter and the Order of the Phoenix!\n",
            "\n",
            "Title: The Harry Potter trilogy\n",
            "Blurb: Harry Potter trilogy This box set collects hard cover editions Harry Potter and the Philosopher's Stone, Harry Potter and the Chamber of Secrets, and Harry Potter and the Prisoner of Azkaban in a slip case.\n",
            "\n",
            "Title: Harry Potter et les Reliques de la Mort\n",
            "Blurb: Potter and the death relics and here is the seventh and ultimate volume of the heroic story of Harry Potter.\n",
            "\n",
            "Title: Harry Potter and the Methods of Rationality\n",
            "Blurb: Potter and the Methods of Rationality Harry Potter and the Methods of Rationality is a work of alternate-universe Harry Potter fan-fiction wherein Petunia Evans has married an Oxford biochemistry professor and young genius Harry grows up fascinated by science and science fiction. When he finds out that he is a wizard, he tries to apply scientific principles to his study of magic, with sometimes surprising results.\n",
            "\n"
          ]
        }
      ],
      "source": [
        "user_blurb = \"A young wizard discovers his magical heritage on his 11th birthday and attends a magical school.And his name is Harry Potter.\"\n",
        "print(\"Recommended Books:\")\n",
        "recommendations = recommend_books_by_blurb(user_blurb)\n",
        "\n",
        "if isinstance(recommendations, str):\n",
        "    print(recommendations)  # Error or no recommendations\n",
        "else:\n",
        "    for rec in recommendations:\n",
        "        print(f\"Title: {rec['book_original_title']}\\nBlurb: {rec['book_desc']}\\n\")\n"
      ]
    },
    {
      "cell_type": "code",
      "execution_count": 37,
      "metadata": {
        "id": "7Jfu80KIySsw",
        "outputId": "2caae89d-bc00-4f4f-c6c6-9682a3f0997e"
      },
      "outputs": [
        {
          "data": {
            "text/html": [
              "<div>\n",
              "<style scoped>\n",
              "    .dataframe tbody tr th:only-of-type {\n",
              "        vertical-align: middle;\n",
              "    }\n",
              "\n",
              "    .dataframe tbody tr th {\n",
              "        vertical-align: top;\n",
              "    }\n",
              "\n",
              "    .dataframe thead th {\n",
              "        text-align: right;\n",
              "    }\n",
              "</style>\n",
              "<table border=\"1\" class=\"dataframe\">\n",
              "  <thead>\n",
              "    <tr style=\"text-align: right;\">\n",
              "      <th></th>\n",
              "      <th>book_title</th>\n",
              "      <th>book_desc</th>\n",
              "      <th>Cleaned_Blurb</th>\n",
              "      <th>book_original_title</th>\n",
              "    </tr>\n",
              "  </thead>\n",
              "  <tbody>\n",
              "    <tr>\n",
              "      <th>2835</th>\n",
              "      <td>unofficial muggle guide wizarding world explor...</td>\n",
              "      <td>Unofficial Muggle's Guide to the Wizarding Wor...</td>\n",
              "      <td>unofficial muggle guide wizarding world explor...</td>\n",
              "      <td>An Unofficial Muggle's Guide to the Wizarding ...</td>\n",
              "    </tr>\n",
              "    <tr>\n",
              "      <th>11730</th>\n",
              "      <td>fact fiction folklore harry potter world unoff...</td>\n",
              "      <td>Fiction, and Folklore in Harry Potter's World ...</td>\n",
              "      <td>fiction folklore harry potter world unofficial...</td>\n",
              "      <td>Fact, Fiction, and Folklore in Harry Potter's ...</td>\n",
              "    </tr>\n",
              "    <tr>\n",
              "      <th>14518</th>\n",
              "      <td>harry potter boxed set book 1 5 harry potter 1 5</td>\n",
              "      <td>Potter Boxed Set, Books 1-5 Harry Potter, 1-5 ...</td>\n",
              "      <td>potter boxed set book 1 5 harry potter 1 5 box...</td>\n",
              "      <td>Harry Potter Boxed Set, Books 1-5 (Harry Potte...</td>\n",
              "    </tr>\n",
              "    <tr>\n",
              "      <th>14519</th>\n",
              "      <td>harry potter boxset</td>\n",
              "      <td>Potter Boxset Now for the first time ever, J.K...</td>\n",
              "      <td>potter boxset first time ever j k rowlings sev...</td>\n",
              "      <td>Harry Potter Boxset</td>\n",
              "    </tr>\n",
              "    <tr>\n",
              "      <th>14520</th>\n",
              "      <td>harry potter collection</td>\n",
              "      <td>Potter Collection Six years of magic, adventur...</td>\n",
              "      <td>potter collection six year magic adventure mys...</td>\n",
              "      <td>Harry Potter Collection</td>\n",
              "    </tr>\n",
              "    <tr>\n",
              "      <th>14521</th>\n",
              "      <td>harry potter schoolbook box set two classic bo...</td>\n",
              "      <td>Potter Schoolbooks Box Set Two Classic Books f...</td>\n",
              "      <td>potter schoolbook box set two classic book lib...</td>\n",
              "      <td>Harry Potter Schoolbooks Box Set: Two Classic ...</td>\n",
              "    </tr>\n",
              "    <tr>\n",
              "      <th>14522</th>\n",
              "      <td>harry potter series box set</td>\n",
              "      <td>Potter Series Box Set Over 4000 Pages of Harry...</td>\n",
              "      <td>potter series box set 4000 page harry potter w...</td>\n",
              "      <td>Harry Potter Series Box Set</td>\n",
              "    </tr>\n",
              "    <tr>\n",
              "      <th>14523</th>\n",
              "      <td>harry potter a tajemná komnata</td>\n",
              "      <td>Potter and the Mysterious Chamber Welcome a se...</td>\n",
              "      <td>potter mysterious chamber welcome second time ...</td>\n",
              "      <td>Harry Potter a Tajemná komnata</td>\n",
              "    </tr>\n",
              "    <tr>\n",
              "      <th>14524</th>\n",
              "      <td>harry potter chamber secret</td>\n",
              "      <td>Potter and the Chamber of Secrets The Dursleys...</td>\n",
              "      <td>potter chamber secret dursleys mean hideous su...</td>\n",
              "      <td>Harry Potter and the Chamber of Secrets</td>\n",
              "    </tr>\n",
              "    <tr>\n",
              "      <th>14525</th>\n",
              "      <td>harry potter cursed child part ii</td>\n",
              "      <td>Potter and the Cursed Child - Parts I  II Base...</td>\n",
              "      <td>potter cursed child part ii based original new...</td>\n",
              "      <td>Harry Potter and the Cursed Child - Parts I &amp; II</td>\n",
              "    </tr>\n",
              "    <tr>\n",
              "      <th>14526</th>\n",
              "      <td>harry potter cursed child part one two</td>\n",
              "      <td>Potter and the Cursed Child - Parts One and Tw...</td>\n",
              "      <td>potter cursed child part one two based origina...</td>\n",
              "      <td>Harry Potter and the Cursed Child - Parts One ...</td>\n",
              "    </tr>\n",
              "    <tr>\n",
              "      <th>14527</th>\n",
              "      <td>harry potter cursed child part 1 2</td>\n",
              "      <td>Potter and the Cursed Child, Parts 1  2 The ei...</td>\n",
              "      <td>potter cursed child part 1 2 eight story ninet...</td>\n",
              "      <td>Harry Potter and the Cursed Child, Parts 1 &amp; 2</td>\n",
              "    </tr>\n",
              "    <tr>\n",
              "      <th>14528</th>\n",
              "      <td>harry potter deathly hallows</td>\n",
              "      <td>Potter and the Deathly Hallows Harry Potter is...</td>\n",
              "      <td>potter deathly hallows harry potter leaving pr...</td>\n",
              "      <td>Harry Potter and the Deathly Hallows</td>\n",
              "    </tr>\n",
              "    <tr>\n",
              "      <th>14529</th>\n",
              "      <td>harry potter goblet fire</td>\n",
              "      <td>Potter and the Goblet of Fire Harry Potter is ...</td>\n",
              "      <td>potter goblet fire harry potter midway trainin...</td>\n",
              "      <td>Harry Potter and the Goblet of Fire</td>\n",
              "    </tr>\n",
              "    <tr>\n",
              "      <th>14530</th>\n",
              "      <td>harry potter half blood prince</td>\n",
              "      <td>Potter and the Half-Blood Prince When Harry Po...</td>\n",
              "      <td>potter half blood prince harry potter half blo...</td>\n",
              "      <td>Harry Potter and the Half-Blood Prince</td>\n",
              "    </tr>\n",
              "    <tr>\n",
              "      <th>14531</th>\n",
              "      <td>harry potter method rationality</td>\n",
              "      <td>Potter and the Methods of Rationality Harry Po...</td>\n",
              "      <td>potter method rationality harry potter method ...</td>\n",
              "      <td>Harry Potter and the Methods of Rationality</td>\n",
              "    </tr>\n",
              "    <tr>\n",
              "      <th>14532</th>\n",
              "      <td>harry potter order phoenix</td>\n",
              "      <td>Potter and the Order of the Phoenix There is a...</td>\n",
              "      <td>potter order phoenix door end silent corridor ...</td>\n",
              "      <td>Harry Potter and the Order of the Phoenix</td>\n",
              "    </tr>\n",
              "    <tr>\n",
              "      <th>14533</th>\n",
              "      <td>harry potter order phoenix harry potter 5 part 1</td>\n",
              "      <td>Potter and the Order of the Phoenix Harry Pott...</td>\n",
              "      <td>potter order phoenix harry potter 5 part 1 har...</td>\n",
              "      <td>Harry Potter and the Order of the Phoenix (Har...</td>\n",
              "    </tr>\n",
              "    <tr>\n",
              "      <th>14534</th>\n",
              "      <td>harry potter prisoner azkaban</td>\n",
              "      <td>Potter and the Prisoner of Azkaban Harry Potte...</td>\n",
              "      <td>potter prisoner azkaban harry potter third yea...</td>\n",
              "      <td>Harry Potter and the Prisoner of Azkaban</td>\n",
              "    </tr>\n",
              "    <tr>\n",
              "      <th>14535</th>\n",
              "      <td>harry potter sorcerer stone</td>\n",
              "      <td>Potter and the Sorcerer's Stone Harry Potter's...</td>\n",
              "      <td>potter sorcerer stone harry potter life misera...</td>\n",
              "      <td>Harry Potter and the Sorcerer's Stone</td>\n",
              "    </tr>\n",
              "    <tr>\n",
              "      <th>14536</th>\n",
              "      <td>harry potter en de relieken van de dood</td>\n",
              "      <td>Potter and the relics of death Harry gets the ...</td>\n",
              "      <td>potter relic death harry get heavy task tracin...</td>\n",
              "      <td>Harry Potter en de Relieken van de Dood</td>\n",
              "    </tr>\n",
              "    <tr>\n",
              "      <th>14537</th>\n",
              "      <td>harry potter et le reliques de la mort</td>\n",
              "      <td>Potter and the death relics and here is the se...</td>\n",
              "      <td>potter death relic seventh ultimate volume her...</td>\n",
              "      <td>Harry Potter et les Reliques de la Mort</td>\n",
              "    </tr>\n",
              "    <tr>\n",
              "      <th>14538</th>\n",
              "      <td>harry potter la cámara secreta</td>\n",
              "      <td>Potter and the secret chamber after defeating ...</td>\n",
              "      <td>potter secret chamber defeating lord voldemort...</td>\n",
              "      <td>Harry Potter y la cámara secreta</td>\n",
              "    </tr>\n",
              "    <tr>\n",
              "      <th>14539</th>\n",
              "      <td>harry potter la reliquias de la muerte</td>\n",
              "      <td>Potter and death relics The crucial date appro...</td>\n",
              "      <td>potter death relic crucial date approach turn ...</td>\n",
              "      <td>Harry Potter y las Reliquias de la Muerte</td>\n",
              "    </tr>\n",
              "    <tr>\n",
              "      <th>14540</th>\n",
              "      <td>harry potter history magic</td>\n",
              "      <td>Potter A History of Magic Harry Potter A Histo...</td>\n",
              "      <td>potter history magic harry potter history magi...</td>\n",
              "      <td>Harry Potter: A History of Magic</td>\n",
              "    </tr>\n",
              "    <tr>\n",
              "      <th>14541</th>\n",
              "      <td>harry potter pop book based film phenomenon</td>\n",
              "      <td>Potter A Pop-Up Book Based on the Film Phenome...</td>\n",
              "      <td>potter pop book based film phenomenon collecti...</td>\n",
              "      <td>Harry Potter: A Pop-Up Book: Based on the Film...</td>\n",
              "    </tr>\n",
              "    <tr>\n",
              "      <th>14542</th>\n",
              "      <td>harry potter film wizardry</td>\n",
              "      <td>Potter Film Wizardry Harry Potter Film Wizardr...</td>\n",
              "      <td>potter film wizardry harry potter film wizardr...</td>\n",
              "      <td>Harry Potter: Film Wizardry</td>\n",
              "    </tr>\n",
              "    <tr>\n",
              "      <th>14543</th>\n",
              "      <td>harry potter the complete series</td>\n",
              "      <td>Potter The Complete Series The perfect gift fo...</td>\n",
              "      <td>potter complete series perfect gift collector ...</td>\n",
              "      <td>Harry Potter: The Complete Series</td>\n",
              "    </tr>\n",
              "    <tr>\n",
              "      <th>14544</th>\n",
              "      <td>harry potter the prequel</td>\n",
              "      <td>Potter The Prequel The Harry Potter Prequel is...</td>\n",
              "      <td>potter prequel harry potter prequel 800 word s...</td>\n",
              "      <td>Harry Potter: The Prequel</td>\n",
              "    </tr>\n",
              "    <tr>\n",
              "      <th>22378</th>\n",
              "      <td>mugglenet com happen harry potter 7 life dy fa...</td>\n",
              "      <td>What Will Happen in Harry Potter 7 Who Lives, ...</td>\n",
              "      <td>happen harry potter 7 life dy fall love advent...</td>\n",
              "      <td>Mugglenet.Com's What Will Happen in Harry Pott...</td>\n",
              "    </tr>\n",
              "    <tr>\n",
              "      <th>28343</th>\n",
              "      <td>selection harry potter order phoenix piano solo</td>\n",
              "      <td>from Harry Potter and the Order of the Phoenix...</td>\n",
              "      <td>harry potter order phoenix piano solo watching...</td>\n",
              "      <td>Selections from Harry Potter and the Order of ...</td>\n",
              "    </tr>\n",
              "    <tr>\n",
              "      <th>34523</th>\n",
              "      <td>the end of harry potter</td>\n",
              "      <td>End of Harry Potter? The publication of Harry ...</td>\n",
              "      <td>end harry potter publication harry potter deat...</td>\n",
              "      <td>The End of Harry Potter?</td>\n",
              "    </tr>\n",
              "    <tr>\n",
              "      <th>35814</th>\n",
              "      <td>harry potter collection 1 4</td>\n",
              "      <td>Harry Potter Collection 1-4 The exciting tales...</td>\n",
              "      <td>harry potter collection 1 4 exciting tale harr...</td>\n",
              "      <td>The Harry Potter Collection 1-4</td>\n",
              "    </tr>\n",
              "    <tr>\n",
              "      <th>35815</th>\n",
              "      <td>the harry potter trilogy</td>\n",
              "      <td>Harry Potter trilogy This box set collects har...</td>\n",
              "      <td>harry potter trilogy box set collect hard cove...</td>\n",
              "      <td>The Harry Potter trilogy</td>\n",
              "    </tr>\n",
              "    <tr>\n",
              "      <th>41294</th>\n",
              "      <td>unofficial harry potter cookbook cauldron cake...</td>\n",
              "      <td>Unofficial Harry Potter Cookbook From Cauldron...</td>\n",
              "      <td>unofficial harry potter cookbook cauldron cake...</td>\n",
              "      <td>The Unofficial Harry Potter Cookbook: From Cau...</td>\n",
              "    </tr>\n",
              "  </tbody>\n",
              "</table>\n",
              "</div>"
            ],
            "text/plain": [
              "                                              book_title  \\\n",
              "2835   unofficial muggle guide wizarding world explor...   \n",
              "11730  fact fiction folklore harry potter world unoff...   \n",
              "14518   harry potter boxed set book 1 5 harry potter 1 5   \n",
              "14519                                harry potter boxset   \n",
              "14520                            harry potter collection   \n",
              "14521  harry potter schoolbook box set two classic bo...   \n",
              "14522                        harry potter series box set   \n",
              "14523                     harry potter a tajemná komnata   \n",
              "14524                        harry potter chamber secret   \n",
              "14525                  harry potter cursed child part ii   \n",
              "14526             harry potter cursed child part one two   \n",
              "14527                 harry potter cursed child part 1 2   \n",
              "14528                       harry potter deathly hallows   \n",
              "14529                           harry potter goblet fire   \n",
              "14530                     harry potter half blood prince   \n",
              "14531                    harry potter method rationality   \n",
              "14532                         harry potter order phoenix   \n",
              "14533   harry potter order phoenix harry potter 5 part 1   \n",
              "14534                      harry potter prisoner azkaban   \n",
              "14535                        harry potter sorcerer stone   \n",
              "14536            harry potter en de relieken van de dood   \n",
              "14537             harry potter et le reliques de la mort   \n",
              "14538                     harry potter la cámara secreta   \n",
              "14539             harry potter la reliquias de la muerte   \n",
              "14540                         harry potter history magic   \n",
              "14541        harry potter pop book based film phenomenon   \n",
              "14542                         harry potter film wizardry   \n",
              "14543                   harry potter the complete series   \n",
              "14544                           harry potter the prequel   \n",
              "22378  mugglenet com happen harry potter 7 life dy fa...   \n",
              "28343    selection harry potter order phoenix piano solo   \n",
              "34523                            the end of harry potter   \n",
              "35814                        harry potter collection 1 4   \n",
              "35815                           the harry potter trilogy   \n",
              "41294  unofficial harry potter cookbook cauldron cake...   \n",
              "\n",
              "                                               book_desc  \\\n",
              "2835   Unofficial Muggle's Guide to the Wizarding Wor...   \n",
              "11730  Fiction, and Folklore in Harry Potter's World ...   \n",
              "14518  Potter Boxed Set, Books 1-5 Harry Potter, 1-5 ...   \n",
              "14519  Potter Boxset Now for the first time ever, J.K...   \n",
              "14520  Potter Collection Six years of magic, adventur...   \n",
              "14521  Potter Schoolbooks Box Set Two Classic Books f...   \n",
              "14522  Potter Series Box Set Over 4000 Pages of Harry...   \n",
              "14523  Potter and the Mysterious Chamber Welcome a se...   \n",
              "14524  Potter and the Chamber of Secrets The Dursleys...   \n",
              "14525  Potter and the Cursed Child - Parts I  II Base...   \n",
              "14526  Potter and the Cursed Child - Parts One and Tw...   \n",
              "14527  Potter and the Cursed Child, Parts 1  2 The ei...   \n",
              "14528  Potter and the Deathly Hallows Harry Potter is...   \n",
              "14529  Potter and the Goblet of Fire Harry Potter is ...   \n",
              "14530  Potter and the Half-Blood Prince When Harry Po...   \n",
              "14531  Potter and the Methods of Rationality Harry Po...   \n",
              "14532  Potter and the Order of the Phoenix There is a...   \n",
              "14533  Potter and the Order of the Phoenix Harry Pott...   \n",
              "14534  Potter and the Prisoner of Azkaban Harry Potte...   \n",
              "14535  Potter and the Sorcerer's Stone Harry Potter's...   \n",
              "14536  Potter and the relics of death Harry gets the ...   \n",
              "14537  Potter and the death relics and here is the se...   \n",
              "14538  Potter and the secret chamber after defeating ...   \n",
              "14539  Potter and death relics The crucial date appro...   \n",
              "14540  Potter A History of Magic Harry Potter A Histo...   \n",
              "14541  Potter A Pop-Up Book Based on the Film Phenome...   \n",
              "14542  Potter Film Wizardry Harry Potter Film Wizardr...   \n",
              "14543  Potter The Complete Series The perfect gift fo...   \n",
              "14544  Potter The Prequel The Harry Potter Prequel is...   \n",
              "22378  What Will Happen in Harry Potter 7 Who Lives, ...   \n",
              "28343  from Harry Potter and the Order of the Phoenix...   \n",
              "34523  End of Harry Potter? The publication of Harry ...   \n",
              "35814  Harry Potter Collection 1-4 The exciting tales...   \n",
              "35815  Harry Potter trilogy This box set collects har...   \n",
              "41294  Unofficial Harry Potter Cookbook From Cauldron...   \n",
              "\n",
              "                                           Cleaned_Blurb  \\\n",
              "2835   unofficial muggle guide wizarding world explor...   \n",
              "11730  fiction folklore harry potter world unofficial...   \n",
              "14518  potter boxed set book 1 5 harry potter 1 5 box...   \n",
              "14519  potter boxset first time ever j k rowlings sev...   \n",
              "14520  potter collection six year magic adventure mys...   \n",
              "14521  potter schoolbook box set two classic book lib...   \n",
              "14522  potter series box set 4000 page harry potter w...   \n",
              "14523  potter mysterious chamber welcome second time ...   \n",
              "14524  potter chamber secret dursleys mean hideous su...   \n",
              "14525  potter cursed child part ii based original new...   \n",
              "14526  potter cursed child part one two based origina...   \n",
              "14527  potter cursed child part 1 2 eight story ninet...   \n",
              "14528  potter deathly hallows harry potter leaving pr...   \n",
              "14529  potter goblet fire harry potter midway trainin...   \n",
              "14530  potter half blood prince harry potter half blo...   \n",
              "14531  potter method rationality harry potter method ...   \n",
              "14532  potter order phoenix door end silent corridor ...   \n",
              "14533  potter order phoenix harry potter 5 part 1 har...   \n",
              "14534  potter prisoner azkaban harry potter third yea...   \n",
              "14535  potter sorcerer stone harry potter life misera...   \n",
              "14536  potter relic death harry get heavy task tracin...   \n",
              "14537  potter death relic seventh ultimate volume her...   \n",
              "14538  potter secret chamber defeating lord voldemort...   \n",
              "14539  potter death relic crucial date approach turn ...   \n",
              "14540  potter history magic harry potter history magi...   \n",
              "14541  potter pop book based film phenomenon collecti...   \n",
              "14542  potter film wizardry harry potter film wizardr...   \n",
              "14543  potter complete series perfect gift collector ...   \n",
              "14544  potter prequel harry potter prequel 800 word s...   \n",
              "22378  happen harry potter 7 life dy fall love advent...   \n",
              "28343  harry potter order phoenix piano solo watching...   \n",
              "34523  end harry potter publication harry potter deat...   \n",
              "35814  harry potter collection 1 4 exciting tale harr...   \n",
              "35815  harry potter trilogy box set collect hard cove...   \n",
              "41294  unofficial harry potter cookbook cauldron cake...   \n",
              "\n",
              "                                     book_original_title  \n",
              "2835   An Unofficial Muggle's Guide to the Wizarding ...  \n",
              "11730  Fact, Fiction, and Folklore in Harry Potter's ...  \n",
              "14518  Harry Potter Boxed Set, Books 1-5 (Harry Potte...  \n",
              "14519                                Harry Potter Boxset  \n",
              "14520                            Harry Potter Collection  \n",
              "14521  Harry Potter Schoolbooks Box Set: Two Classic ...  \n",
              "14522                        Harry Potter Series Box Set  \n",
              "14523                     Harry Potter a Tajemná komnata  \n",
              "14524            Harry Potter and the Chamber of Secrets  \n",
              "14525   Harry Potter and the Cursed Child - Parts I & II  \n",
              "14526  Harry Potter and the Cursed Child - Parts One ...  \n",
              "14527     Harry Potter and the Cursed Child, Parts 1 & 2  \n",
              "14528               Harry Potter and the Deathly Hallows  \n",
              "14529                Harry Potter and the Goblet of Fire  \n",
              "14530             Harry Potter and the Half-Blood Prince  \n",
              "14531        Harry Potter and the Methods of Rationality  \n",
              "14532          Harry Potter and the Order of the Phoenix  \n",
              "14533  Harry Potter and the Order of the Phoenix (Har...  \n",
              "14534           Harry Potter and the Prisoner of Azkaban  \n",
              "14535              Harry Potter and the Sorcerer's Stone  \n",
              "14536            Harry Potter en de Relieken van de Dood  \n",
              "14537            Harry Potter et les Reliques de la Mort  \n",
              "14538                   Harry Potter y la cámara secreta  \n",
              "14539          Harry Potter y las Reliquias de la Muerte  \n",
              "14540                   Harry Potter: A History of Magic  \n",
              "14541  Harry Potter: A Pop-Up Book: Based on the Film...  \n",
              "14542                        Harry Potter: Film Wizardry  \n",
              "14543                  Harry Potter: The Complete Series  \n",
              "14544                          Harry Potter: The Prequel  \n",
              "22378  Mugglenet.Com's What Will Happen in Harry Pott...  \n",
              "28343  Selections from Harry Potter and the Order of ...  \n",
              "34523                           The End of Harry Potter?  \n",
              "35814                    The Harry Potter Collection 1-4  \n",
              "35815                           The Harry Potter trilogy  \n",
              "41294  The Unofficial Harry Potter Cookbook: From Cau...  "
            ]
          },
          "execution_count": 37,
          "metadata": {},
          "output_type": "execute_result"
        }
      ],
      "source": [
        "dataset[dataset['book_original_title'].str.contains('Harry Potter', case=False, na=False)]"
      ]
    },
    {
      "cell_type": "markdown",
      "metadata": {
        "id": "sEe2YGYkySsw"
      },
      "source": [
        "# Try Transformers"
      ]
    },
    {
      "cell_type": "code",
      "execution_count": 38,
      "metadata": {
        "id": "yqKqplVEySsw",
        "outputId": "15b542b0-b892-4c95-dde5-2a33d43da3c3"
      },
      "outputs": [
        {
          "name": "stderr",
          "output_type": "stream",
          "text": [
            "c:\\Users\\HP\\AppData\\Local\\Programs\\Python\\Python310\\lib\\site-packages\\tqdm\\auto.py:21: TqdmWarning: IProgress not found. Please update jupyter and ipywidgets. See https://ipywidgets.readthedocs.io/en/stable/user_install.html\n",
            "  from .autonotebook import tqdm as notebook_tqdm\n"
          ]
        },
        {
          "name": "stdout",
          "output_type": "stream",
          "text": [
            "WARNING:tensorflow:From c:\\Users\\HP\\AppData\\Local\\Programs\\Python\\Python310\\lib\\site-packages\\tf_keras\\src\\losses.py:2976: The name tf.losses.sparse_softmax_cross_entropy is deprecated. Please use tf.compat.v1.losses.sparse_softmax_cross_entropy instead.\n",
            "\n",
            "imported\n"
          ]
        }
      ],
      "source": [
        "from sentence_transformers import SentenceTransformer, util\n",
        "\n",
        "# Load a pretrained transformer model (e.g., multilingual model for multi-language support)\n",
        "model = SentenceTransformer('all-mpnet-base-v2')  # Replace with a multilingual model like 'paraphrase-multilingual-mpnet-base-v2'\n",
        "print('imported')\n",
        "# Encode the blurbs in your dataset\n",
        "dataset['Embedding'] = dataset['Cleaned_Blurb'].apply(lambda x: model.encode(x, convert_to_tensor=True))\n"
      ]
    },
    {
      "cell_type": "code",
      "execution_count": 43,
      "metadata": {
        "id": "7vZiEZa5ySsw"
      },
      "outputs": [],
      "source": [
        "def recommend_books_transformer(user_blurb, top_n=5):\n",
        "    user_embedding = model.encode(user_blurb, convert_to_tensor=True)\n",
        "    results = []\n",
        "    for idx, row in dataset.iterrows():\n",
        "        score = util.pytorch_cos_sim(user_embedding, row['Embedding'])[0][0].item()\n",
        "        results.append((idx, score))\n",
        "    results = sorted(results, key=lambda x: x[1], reverse=True)[:top_n]\n",
        "    return [\n",
        "        {\n",
        "            'book_original_title': dataset.iloc[idx]['book_original_title'],\n",
        "            'book_desc': dataset.iloc[idx]['book_desc'],\n",
        "            'Similarity': score,\n",
        "        }\n",
        "        for idx, score in results\n",
        "    ]"
      ]
    },
    {
      "cell_type": "code",
      "execution_count": 45,
      "metadata": {
        "id": "jChxKkyYySsw"
      },
      "outputs": [
        {
          "name": "stdout",
          "output_type": "stream",
          "text": [
            "Recommended Books:\n",
            "Title: Magic Beginnings (Magical Girls Academy, #1)\n",
            "Blurb: Beginnings Magical Girls Academy, 1 Thousands of years in the future, teens with magical powers go to a special and wonderful boarding school to learn how to fight evil. Battle monsters, fall in love, and create your own unique reading experience!\n",
            "\n",
            "Title: Harry Potter a Tajemná komnata\n",
            "Blurb: Potter and the Mysterious Chamber Welcome a second time at Hogwarts School of Witches and Magic.Harry returns to school after the holidays and has no idea that this time he is in danger of fatal danger.In Hogwarts, strange things start to happen in which blood in the veins solidifies, and none of the pupils know that the ancient legend has become a reality.\n",
            "\n",
            "Title: See You at Harry's\n",
            "Blurb: You at Harry's Starting middle school brings all the usual challenges  until the unthinkable happens, and Fern and her family must find a way to heal.Twelve-year-old Fern feels invisible. It seems as though everyone in her family has better things to do than pay attention to her Mom when shes not meditating helps Dad run the family restaurant Sarah is taking a gap year after high school and Holden pretends that Mom and Dad and everyone else doesnt know hes gay, even as he fends off bullies at school. Then theres Charlie three years old, a \"surprise\" baby, the center of everyones world. Hes devoted to Fern, but hes annoying, too, always getting his way, always dirty, always commanding attention. If it wasnt for Ran, Ferns calm and positive best friend, thered be nowhere to turn. Rans mantra, \"All will be well,\" is soothing in a way that nothing else seems to be. And when Ran says it, Fern can almost believe its true. But then tragedy strikes- and Fern feels not only more alone than ever, but also responsible for the accident that has wrenched her family apart. All will not be well. Or at least all will never be the same.\n",
            "\n",
            "Title: Harry Potter and the Goblet of Fire\n",
            "Blurb: Potter and the Goblet of Fire Harry Potter is midway through his training as a wizard and his coming of age. Harry wants to get away from the pernicious Dursleys and go to the International Quidditch Cup. He wants to find out about the mysterious event that's supposed to take place at Hogwarts this year, an event involving two other rival schools of magic, and a competition that hasn't happened for a hundred years. He wants to be a normal, fourteen-year-old wizard. But unfortunately for Harry Potter, he's not normal - even by wizarding standards. And in his case, different can be deadly. --back cover\n",
            "\n",
            "Title: Harry Potter Collection\n",
            "Blurb: Potter Collection Six years of magic, adventure, and mystery make this luxurious boxed set the perfect gift for Harry Potter fans of all ages. Follow Harry from his first days at Hogwarts School for Witchcraft and Wizardry, through his many adventures with Hermione and Ron, to his confrontations with rival Draco Malfoy and the dreaded Professor Snape. From the thrilling search for the Sorcerer's Stone to the Triwizard Tournament to the return of He-Who-Must-Not-Be-Named, each adventure is more riveting and exhilarating than its predecessor, and now all six books are available together for the first time in an elegant hardcover boxed set.\n",
            "\n"
          ]
        }
      ],
      "source": [
        "user_blurb = \"A young wizard discovers his magical heritage on his 11th birthday and attends a magical school.And his name is Harry Potter.\"\n",
        "print(\"Recommended Books:\")\n",
        "recommendations = recommend_books_transformer(user_blurb)\n",
        "\n",
        "if isinstance(recommendations, str):\n",
        "    print(recommendations)  # Error or no recommendations\n",
        "else:\n",
        "    for rec in recommendations:\n",
        "        print(f\"Title: {rec['book_original_title']}\\nBlurb: {rec['book_desc']}\\n\")\n"
      ]
    },
    {
      "cell_type": "code",
      "execution_count": null,
      "metadata": {},
      "outputs": [],
      "source": []
    },
    {
      "cell_type": "code",
      "execution_count": null,
      "metadata": {},
      "outputs": [],
      "source": []
    }
  ],
  "metadata": {
    "accelerator": "TPU",
    "colab": {
      "gpuType": "V28",
      "provenance": []
    },
    "kernelspec": {
      "display_name": "Python 3",
      "name": "python3"
    },
    "language_info": {
      "codemirror_mode": {
        "name": "ipython",
        "version": 3
      },
      "file_extension": ".py",
      "mimetype": "text/x-python",
      "name": "python",
      "nbconvert_exporter": "python",
      "pygments_lexer": "ipython3",
      "version": "3.10.0"
    }
  },
  "nbformat": 4,
  "nbformat_minor": 0
}
